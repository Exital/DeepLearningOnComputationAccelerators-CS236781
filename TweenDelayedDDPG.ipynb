{
  "nbformat": 4,
  "nbformat_minor": 0,
  "metadata": {
    "colab": {
      "name": "TweenDelayedDDPG.ipynb",
      "provenance": [],
      "collapsed_sections": [],
      "authorship_tag": "ABX9TyNlO3Madz/N/0vlvfjU2Jww",
      "include_colab_link": true
    },
    "kernelspec": {
      "name": "python3",
      "display_name": "Python 3"
    },
    "accelerator": "GPU"
  },
  "cells": [
    {
      "cell_type": "markdown",
      "metadata": {
        "id": "view-in-github",
        "colab_type": "text"
      },
      "source": [
        "<a href=\"https://colab.research.google.com/github/nutov/DeepLearningOnComputationAccelerators-CS236781/blob/master/TweenDelayedDDPG.ipynb\" target=\"_parent\"><img src=\"https://colab.research.google.com/assets/colab-badge.svg\" alt=\"Open In Colab\"/></a>"
      ]
    },
    {
      "cell_type": "code",
      "metadata": {
        "id": "qoq3D4Ur8qlV",
        "colab_type": "code",
        "colab": {
          "base_uri": "https://localhost:8080/",
          "height": 119
        },
        "outputId": "bd8e63f4-11c2-4495-8160-590d1cd9a2b1"
      },
      "source": [
        "!pip install pybullet"
      ],
      "execution_count": 1,
      "outputs": [
        {
          "output_type": "stream",
          "text": [
            "Collecting pybullet\n",
            "\u001b[?25l  Downloading https://files.pythonhosted.org/packages/68/d7/d797ff65ad3fdfbcd4c2b8274429476c377b2d842ae6c0e405b35f8387c0/pybullet-2.6.4-cp36-cp36m-manylinux1_x86_64.whl (94.0MB)\n",
            "\u001b[K     |████████████████████████████████| 94.0MB 47kB/s \n",
            "\u001b[?25hRequirement already satisfied: numpy in /usr/local/lib/python3.6/dist-packages (from pybullet) (1.17.5)\n",
            "Installing collected packages: pybullet\n",
            "Successfully installed pybullet-2.6.4\n"
          ],
          "name": "stdout"
        }
      ]
    },
    {
      "cell_type": "code",
      "metadata": {
        "id": "mdkDijQm80kC",
        "colab_type": "code",
        "colab": {}
      },
      "source": [
        "import os\n",
        "import time\n",
        "import random\n",
        "import numpy as np\n",
        "import matplotlib.pyplot as plt\n",
        "import pybullet_envs\n",
        "import torch\n",
        "import gym\n",
        "import torch.nn as nn\n",
        "import torch.nn.functional as F\n",
        "from gym import wrappers\n",
        "from torch.autograd import Variable\n"
      ],
      "execution_count": 0,
      "outputs": []
    },
    {
      "cell_type": "code",
      "metadata": {
        "id": "EOByauew80uH",
        "colab_type": "code",
        "colab": {}
      },
      "source": [
        "# Creating a Buffer \n",
        "class ReplayBuffer(object):\n",
        "  def __init__(self,max_size = 1e6):\n",
        "    self.storage = []\n",
        "    self.max_size = max_size\n",
        "    self.ptr = 0\n",
        "\n",
        "  def add(self,transition):\n",
        "    if len(self.storage) == self.max_size:\n",
        "      self.storage[int(self.ptr)] = transition\n",
        "      self.ptr = (self.ptr+1) % self.max_size\n",
        "    else:\n",
        "      self.storage.append(transition)\n",
        "\n",
        "  def sample(self,batch_size):\n",
        "    ind = np.random.randint(0,len(self.storage),size = batch_size)\n",
        "    batch_states,batch_next_states,batch_actions,batch_rewards,batch_dones = [],[],[],[],[]\n",
        "    for i in ind:\n",
        "      state,next_state,action,reward,done = self.storage[i]\n",
        "      batch_states.append(np.array(state,copy=False))\n",
        "      batch_next_states.append(np.array(next_state,copy=False))\n",
        "      batch_actions.append(np.array(action,copy=False))\n",
        "      batch_rewards.append(np.array(reward,copy=False))\n",
        "      batch_dones.append(np.array(done,copy=False))\n",
        "      \n",
        "    return np.array(batch_states),np.array(batch_next_states),np.array(batch_actions),np.array(batch_rewards).reshape(-1,1),np.array(batch_dones).reshape(-1,1)\n",
        "\n"
      ],
      "execution_count": 0,
      "outputs": []
    },
    {
      "cell_type": "code",
      "metadata": {
        "id": "F5o_zr_u80xF",
        "colab_type": "code",
        "colab": {}
      },
      "source": [
        "class Actor(nn.Module):\n",
        "  def __init__(self,state_dim,action_dim,max_action):\n",
        "    super(Actor,self).__init__()\n",
        "    self.layer_1 = nn.Linear(state_dim,400)\n",
        "    self.layer_2 = nn.Linear(400,300)\n",
        "    self.layer_3 = nn.Linear(300,action_dim)\n",
        "    self.max_action = max_action\n",
        "  \n",
        "  def forward(self,x):\n",
        "    x = F.relu(self.layer_1(x))\n",
        "    x = F.relu(self.layer_2(x))\n",
        "    x = self.max_action*torch.tanh(self.layer_3(x))\n",
        "    return x\n"
      ],
      "execution_count": 0,
      "outputs": []
    },
    {
      "cell_type": "code",
      "metadata": {
        "id": "D3vswkbB800I",
        "colab_type": "code",
        "colab": {}
      },
      "source": [
        "class Critic(nn.Module):\n",
        "  def __init__(self,state_dim,action_dim,max_action):\n",
        "    super(Critic,self).__init__()\n",
        "\n",
        "    # defining the first critic\n",
        "    self.layer_1 = nn.Linear(state_dim + action_dim,400)\n",
        "    self.layer_2 = nn.Linear(400,300)\n",
        "    self.layer_3 = nn.Linear(300,1)\n",
        "    # defining the second critic\n",
        "    self.layer_1 = nn.Linear(state_dim + action_dim,400)\n",
        "    self.layer_2 = nn.Linear(400,300)\n",
        "    self.layer_3 = nn.Linear(300,1)  \n",
        "\n",
        "  def forward(self,x,u):\n",
        "    xu = torch.cat([x,u],dim = 1)\n",
        "    # forward pass first network\n",
        "    x_1 = F.relu(self.layer_1(xu))\n",
        "    x_1 = F.relu(self.layer_2(x_1))\n",
        "    x_1 = self.layer_3(x_1)\n",
        "    # forward pass second network\n",
        "    x_2 = F.relu(self.layer_4(xu))\n",
        "    x_2 = F.relu(self.layer_5(x_2))\n",
        "    x_2 = self.layer_6(x_2)\n",
        "    return x_1,x_2\n",
        "\n",
        "  def Q1(self,x,u):\n",
        "    xu = torch.cat([x,u],dim = 1)\n",
        "    x_1 = F.relu(self.layer_1(xu))\n",
        "    x_1 = F.relu(self.layer_2(x_1))\n",
        "    x_1 = self.layer_3(x_1)\n",
        "    return x_1"
      ],
      "execution_count": 0,
      "outputs": []
    },
    {
      "cell_type": "code",
      "metadata": {
        "id": "CRFqMqJg802-",
        "colab_type": "code",
        "colab": {}
      },
      "source": [
        "# selecting a device\n",
        "device = torch.device(\"cuda:0\" if torch.cuda.is_available() else \"cpu\")\n",
        "\n",
        "# Building the training process into a class\n",
        "class TD3(object):\n",
        "  def __init__(self,state_dim,action_dim,max_action,device = 'cpu'):\n",
        "    #\n",
        "    self.actor = Actor(state_dim,action_dim,max_action).to(device)\n",
        "    self.actor_target = Actor(state_dim,action_dim,max_action).to(device)\n",
        "    self.actor_target.load_state_dict(self.actor.state_dict())\n",
        "    self.actor_optimizer = torch.optim.Adam(self.actor.parameters())\n",
        "    # \n",
        "    self.critic = Critic(state_dim,action_dim).to(device)\n",
        "    self.critic_target = Critic(state_dim,action_dim).to(device)\n",
        "    self.critic_target.load_state_dict(self.critic.state_dict())\n",
        "    self.actor_optimizer = torch.optim.Adam(self.critic.parameters())    "
      ],
      "execution_count": 0,
      "outputs": []
    },
    {
      "cell_type": "code",
      "metadata": {
        "id": "EZ8YFzsS805y",
        "colab_type": "code",
        "colab": {
          "base_uri": "https://localhost:8080/",
          "height": 34
        },
        "outputId": "a3ee50fc-49d9-4932-ae73-4ad7093f61ac"
      },
      "source": [
        ""
      ],
      "execution_count": 12,
      "outputs": [
        {
          "output_type": "execute_result",
          "data": {
            "text/plain": [
              "device(type='cuda', index=0)"
            ]
          },
          "metadata": {
            "tags": []
          },
          "execution_count": 12
        }
      ]
    },
    {
      "cell_type": "code",
      "metadata": {
        "id": "z3johz0QYR36",
        "colab_type": "code",
        "colab": {}
      },
      "source": [
        ""
      ],
      "execution_count": 0,
      "outputs": []
    },
    {
      "cell_type": "code",
      "metadata": {
        "id": "ob1wXvXgYSA0",
        "colab_type": "code",
        "colab": {}
      },
      "source": [
        ""
      ],
      "execution_count": 0,
      "outputs": []
    },
    {
      "cell_type": "code",
      "metadata": {
        "id": "WfqXt7RQYSEV",
        "colab_type": "code",
        "colab": {}
      },
      "source": [
        ""
      ],
      "execution_count": 0,
      "outputs": []
    }
  ]
}