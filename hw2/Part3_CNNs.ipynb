{
 "cells": [
  {
   "cell_type": "markdown",
   "metadata": {},
   "source": [
    "$$\n",
    "\\newcommand{\\mat}[1]{\\boldsymbol {#1}}\n",
    "\\newcommand{\\mattr}[1]{\\boldsymbol {#1}^\\top}\n",
    "\\newcommand{\\matinv}[1]{\\boldsymbol {#1}^{-1}}\n",
    "\\newcommand{\\vec}[1]{\\boldsymbol {#1}}\n",
    "\\newcommand{\\vectr}[1]{\\boldsymbol {#1}^\\top}\n",
    "\\newcommand{\\rvar}[1]{\\mathrm {#1}}\n",
    "\\newcommand{\\rvec}[1]{\\boldsymbol{\\mathrm{#1}}}\n",
    "\\newcommand{\\diag}{\\mathop{\\mathrm {diag}}}\n",
    "\\newcommand{\\set}[1]{\\mathbb {#1}}\n",
    "\\newcommand{\\norm}[1]{\\left\\lVert#1\\right\\rVert}\n",
    "\\newcommand{\\pderiv}[2]{\\frac{\\partial #1}{\\partial #2}}\n",
    "\\newcommand{\\bb}[1]{\\boldsymbol{#1}}\n",
    "$$\n",
    "# Part 3: Convolutional Architectures\n",
    "<a id=part3></a>"
   ]
  },
  {
   "cell_type": "markdown",
   "metadata": {},
   "source": [
    "In this part we will explore convolution networks and the effects of their architecture on accuracy. We'll implement a common block-based deep CNN pattern and we'll perform various experiments on it while varying the architecture. Then we'll implement our own custom architecture to see whether we can get high classification results on a large subset of CIFAR-10.\n",
    "\n",
    "Training will be performed on GPU."
   ]
  },
  {
   "cell_type": "code",
   "execution_count": 1,
   "metadata": {},
   "outputs": [],
   "source": [
    "import os\n",
    "import re\n",
    "import sys\n",
    "import glob\n",
    "import numpy as np\n",
    "import matplotlib.pyplot as plt\n",
    "import unittest\n",
    "import torch\n",
    "import torchvision\n",
    "import torchvision.transforms as tvtf\n",
    "\n",
    "%matplotlib inline\n",
    "%load_ext autoreload\n",
    "%autoreload 2"
   ]
  },
  {
   "cell_type": "code",
   "execution_count": 2,
   "metadata": {},
   "outputs": [],
   "source": [
    "seed = 42\n",
    "device = torch.device('cuda' if torch.cuda.is_available() else 'cpu')\n",
    "plt.rcParams.update({'font.size': 12})\n",
    "test = unittest.TestCase()"
   ]
  },
  {
   "cell_type": "markdown",
   "metadata": {},
   "source": [
    "## Convolutional layers and networks\n",
    "<a id=part3_1></a>"
   ]
  },
  {
   "cell_type": "markdown",
   "metadata": {},
   "source": [
    "Convolutional layers are the most essential building blocks of the state of the art deep learning image classification models and also play an important role in many other tasks.\n",
    "As we saw in the tutorial, when applied to images, convolutional layers operate on and produce volumes (3D tensors)\n",
    "of activations.\n",
    "\n",
    "One way to think about them is as if the neurons are organized in a 3D grid,\n",
    "where neurons at the same depth share weights (represented here as colors).\n",
    "Contrary to fully connected (affine) layers, neurons in convolutional layers are **not** connected to each of\n",
    "the activations of the previous layer.\n",
    "Instead, each neuron is connected only to a small region of the input volume,\n",
    "for example a 5x5x$C_{\\mathrm{in}}$ slice (where $C_{\\mathrm{in}}$ is the input volume's depth).\n",
    "\n",
    "<img src=\"imgs/depthcol.jpeg\" />"
   ]
  },
  {
   "cell_type": "markdown",
   "metadata": {},
   "source": [
    "Another way to interpret convolutional layers for images is as a collection of 3D learnable filters,\n",
    "each of which operates on a small spatial region of the input volume.\n",
    "Each filter is convolved with the input volume (\"slides over it\"),\n",
    "and a dot product is computed at each location followed by a non-linearity which produces one activation.\n",
    "All these activations produce a 2D plane known as a **feature map**.\n",
    "Multiple feature maps (one for each filter) comprise the output volume.\n",
    "\n",
    "<img src=\"imgs/cnn_filters.png\" width=\"600\" />"
   ]
  },
  {
   "cell_type": "markdown",
   "metadata": {},
   "source": [
    "A crucial property of convolutional layers is their translation equivariance, i.e. shifting the input results in\n",
    "and equivalently shifted output.\n",
    "This produces the ability to detect features regardless of their spatial location in the input."
   ]
  },
  {
   "cell_type": "markdown",
   "metadata": {},
   "source": [
    "Convolutional network architectures usually follow a pattern basic repeating blocks: one or more convolution layers, each followed by a non-linearity (generally ReLU) and then a pooling layer to reduce spatial dimensions. Usually, the number of convolutional filters increases the deeper they are in the network.\n",
    "These layers are meant to extract features from the input.\n",
    "Then, one or more fully-connected layers is used to combine the extracted features into the required number of output class scores."
   ]
  },
  {
   "cell_type": "markdown",
   "metadata": {},
   "source": [
    "## Building convolutional networks with PyTorch\n",
    "<a id=part3_2></a>"
   ]
  },
  {
   "cell_type": "markdown",
   "metadata": {},
   "source": [
    "PyTorch provides all the basic building blocks needed for creating a convolutional arcitecture within the [`torch.nn`](https://pytorch.org/docs/stable/nn.html) package.\n",
    "Let's use them to create a basic convolutional network with the following architecture pattern:\n",
    "\n",
    "    [(CONV -> ReLU)*P -> MaxPool]*(N/P) -> (Linear -> ReLU)*M -> Linear\n",
    "\n",
    "Here $N$ is the total number of convolutional layers,\n",
    "$P$ specifies how many convolutions to perform before each pooling layer\n",
    "and $M$ specifies the number of hidden fully-connected layers before the final output layer."
   ]
  },
  {
   "cell_type": "markdown",
   "metadata": {},
   "source": [
    "**TODO**: Complete the implementaion of the `ConvClassifier` class in the `hw2/cnn.py` module.\n",
    "Use PyTorch's `nn.Conv2d` and `nn.MaxPool2d` for the convolution and pooling layers."
   ]
  },
  {
   "cell_type": "code",
   "execution_count": 3,
   "metadata": {},
   "outputs": [
    {
     "name": "stdout",
     "output_type": "stream",
     "text": [
      "ConvClassifier(\n",
      "  (feature_extractor): Sequential(\n",
      "    (0): Conv2d(3, 32, kernel_size=(3, 3), stride=(1, 1), padding=(1, 1))\n",
      "    (1): ReLU()\n",
      "    (2): Conv2d(32, 32, kernel_size=(3, 3), stride=(1, 1), padding=(1, 1))\n",
      "    (3): ReLU()\n",
      "    (4): MaxPool2d(kernel_size=2, stride=2, padding=0, dilation=1, ceil_mode=False)\n",
      "    (5): Conv2d(32, 32, kernel_size=(3, 3), stride=(1, 1), padding=(1, 1))\n",
      "    (6): ReLU()\n",
      "    (7): Conv2d(32, 32, kernel_size=(3, 3), stride=(1, 1), padding=(1, 1))\n",
      "    (8): ReLU()\n",
      "    (9): MaxPool2d(kernel_size=2, stride=2, padding=0, dilation=1, ceil_mode=False)\n",
      "  )\n",
      "  (classifier): Sequential(\n",
      "    (0): Linear(in_features=20000, out_features=100, bias=True)\n",
      "    (1): ReLU()\n",
      "    (2): Linear(in_features=100, out_features=100, bias=True)\n",
      "    (3): ReLU()\n",
      "    (4): Linear(in_features=100, out_features=10, bias=True)\n",
      "  )\n",
      ")\n",
      "out = tensor([[-0.0868, -0.3790, -0.4341, -0.1236, -0.2160,  0.1683,  0.4739,  0.0750,\n",
      "          0.1151, -0.1606]], grad_fn=<AddmmBackward>)\n"
     ]
    }
   ],
   "source": [
    "import hw2.cnn as cnn\n",
    "torch.manual_seed(seed)\n",
    "\n",
    "net = cnn.ConvClassifier((3,100,100), 10, channels=[32]*4, pool_every=2, hidden_dims=[100]*2)\n",
    "print(net)\n",
    "\n",
    "test_image = torch.randint(low=0, high=256, size=(3, 100, 100), dtype=torch.float).unsqueeze(0)\n",
    "test_out = net(test_image)\n",
    "print('out =', test_out)\n",
    "\n",
    "expected_out = torch.load('tests/assets/expected_conv_out.pt')\n",
    "test.assertLess(torch.norm(test_out - expected_out).item(), 1e-3)"
   ]
  },
  {
   "cell_type": "markdown",
   "metadata": {},
   "source": [
    "Let's load CIFAR-10 again to use as our dataset."
   ]
  },
  {
   "cell_type": "code",
   "execution_count": 4,
   "metadata": {},
   "outputs": [
    {
     "name": "stdout",
     "output_type": "stream",
     "text": [
      "Files already downloaded and verified\n",
      "Files already downloaded and verified\n",
      "Train: 50000 samples\n",
      "Test: 10000 samples\n",
      "input image size = torch.Size([3, 32, 32])\n"
     ]
    }
   ],
   "source": [
    "data_dir = os.path.expanduser('~/.pytorch-datasets')\n",
    "ds_train = torchvision.datasets.CIFAR10(root=data_dir, download=True, train=True, transform=tvtf.ToTensor())\n",
    "ds_test = torchvision.datasets.CIFAR10(root=data_dir, download=True, train=False, transform=tvtf.ToTensor())\n",
    "\n",
    "print(f'Train: {len(ds_train)} samples')\n",
    "print(f'Test: {len(ds_test)} samples')\n",
    "\n",
    "x0,_ = ds_train[0]\n",
    "in_size = x0.shape\n",
    "num_classes = 10\n",
    "print('input image size =', in_size)"
   ]
  },
  {
   "cell_type": "markdown",
   "metadata": {},
   "source": [
    "Now as usual, as a sanity test let's make sure we can overfit a tiny dataset with our model. But first we need to adapt our `Trainer` for PyTorch models."
   ]
  },
  {
   "cell_type": "markdown",
   "metadata": {},
   "source": [
    "**TODO**: Complete the implementaion of the `TorchTrainer` class in the `hw2/training.py` module."
   ]
  },
  {
   "cell_type": "code",
   "execution_count": 5,
   "metadata": {},
   "outputs": [
    {
     "name": "stdout",
     "output_type": "stream",
     "text": [
      "train_batch (Avg. Loss 2.378, Accuracy 0.0): 100%|█████████████████████████████████████| 25/25 [00:01<00:00, 13.77it/s]\n",
      "train_batch (Avg. Loss 2.220, Accuracy 20.0): 100%|███████████████████████████████████| 25/25 [00:00<00:00, 199.95it/s]\n",
      "train_batch (Avg. Loss 2.110, Accuracy 22.0): 100%|███████████████████████████████████| 25/25 [00:00<00:00, 183.78it/s]\n",
      "train_batch (Avg. Loss 1.786, Accuracy 32.0): 100%|███████████████████████████████████| 25/25 [00:00<00:00, 186.52it/s]\n",
      "train_batch (Avg. Loss 1.366, Accuracy 52.0): 100%|███████████████████████████████████| 25/25 [00:00<00:00, 182.44it/s]\n",
      "train_batch (Avg. Loss 1.248, Accuracy 54.0): 100%|███████████████████████████████████| 25/25 [00:00<00:00, 198.37it/s]\n",
      "train_batch (Avg. Loss 1.205, Accuracy 80.0): 100%|███████████████████████████████████| 25/25 [00:00<00:00, 199.95it/s]\n",
      "train_batch (Avg. Loss 0.141, Accuracy 96.0): 100%|███████████████████████████████████| 25/25 [00:00<00:00, 199.96it/s]\n",
      "train_batch (Avg. Loss 0.354, Accuracy 84.0): 100%|███████████████████████████████████| 25/25 [00:00<00:00, 192.26it/s]\n",
      "train_batch (Avg. Loss 1.278, Accuracy 70.0): 100%|███████████████████████████████████| 25/25 [00:00<00:00, 196.81it/s]\n",
      "train_batch (Avg. Loss 0.273, Accuracy 94.0): 100%|███████████████████████████████████| 25/25 [00:00<00:00, 192.26it/s]\n",
      "train_batch (Avg. Loss 0.047, Accuracy 98.0): 100%|███████████████████████████████████| 25/25 [00:00<00:00, 196.81it/s]\n",
      "train_batch (Avg. Loss 0.004, Accuracy 100.0): 100%|██████████████████████████████████| 25/25 [00:00<00:00, 196.81it/s]\n",
      "train_batch (Avg. Loss 0.001, Accuracy 100.0): 100%|██████████████████████████████████| 25/25 [00:00<00:00, 193.75it/s]\n",
      "train_batch (Avg. Loss 0.001, Accuracy 100.0): 100%|██████████████████████████████████| 25/25 [00:00<00:00, 187.93it/s]\n"
     ]
    }
   ],
   "source": [
    "import hw2.training as training\n",
    "torch.manual_seed(seed)\n",
    "\n",
    "# Define a tiny part of the CIFAR-10 dataset to overfit it\n",
    "batch_size = 2\n",
    "max_batches = 25\n",
    "dl_train = torch.utils.data.DataLoader(ds_train, batch_size, shuffle=False)\n",
    "\n",
    "# Create model, loss and optimizer instances\n",
    "model = cnn.ConvClassifier(in_size, num_classes, channels=[32], pool_every=1, hidden_dims=[100])\n",
    "loss_fn = torch.nn.CrossEntropyLoss()\n",
    "optimizer = torch.optim.SGD(model.parameters(), lr=1e-2, momentum=0.9,)\n",
    "\n",
    "# Use TorchTrainer to run only the training loop a few times.\n",
    "trainer = training.TorchTrainer(model, loss_fn, optimizer, device)\n",
    "best_acc = 0\n",
    "for i in range(30):\n",
    "    res = trainer.train_epoch(dl_train, max_batches=max_batches, verbose=(i%2==0))\n",
    "    best_acc = res.accuracy if res.accuracy > best_acc else best_acc\n",
    "    \n",
    "# Test overfitting\n",
    "test.assertGreaterEqual(best_acc, 95)"
   ]
  },
  {
   "cell_type": "markdown",
   "metadata": {},
   "source": [
    "### Residual Networks"
   ]
  },
  {
   "cell_type": "markdown",
   "metadata": {},
   "source": [
    "A very common addition to the basic convolutional architecture described above are **shortcut connections**.\n",
    "First proposed by [He et al. (2016)](https://www.cv-foundation.org/openaccess/content_cvpr_2016/papers/He_Deep_Residual_Learning_CVPR_2016_paper.pdf), this simple addition has been shown to be crucial\n",
    "ingredient in order to achieve effective learning with very deep networks.\n",
    "Virtually all state of the art image classification models from recent years use this technique."
   ]
  },
  {
   "cell_type": "markdown",
   "metadata": {},
   "source": [
    "The idea is to add an shortcut, or skip, around every two or more convolutional layers:\n",
    "\n",
    "<img src=\"imgs/resnet_block2.png\" width=\"700\" />\n",
    "\n",
    "This adds an easy way for the network to learn identity mappings: set the weight values to be very small.\n",
    "The consequence is that the convolutional layers to learn a **residual** mapping, i.e. some delta that is applied\n",
    "to the identity map, instead of actually learning a completely new mapping from scratch."
   ]
  },
  {
   "cell_type": "markdown",
   "metadata": {},
   "source": [
    "Lets start by implementing a general residual block, representing a structure similar to the above diagrams.\n",
    "Our residual block will be composed of:\n",
    "- A \"main path\" with some number of convolutional layers with ReLU between them. Optionally, we'll also allow batch normalization and dropout layers between the convolutions, before the ReLU.\n",
    "- A \"shortcut path\" implementing an identity mapping around the main path. In case of a different number of input/output channels, the shortcut path may contain an additional `1x1` convolution to project the channel dimension.\n",
    "- The sum of the main and shortcut paths output is passed though a ReLU and returned."
   ]
  },
  {
   "cell_type": "markdown",
   "metadata": {},
   "source": [
    "**TODO**: Complete the implementation of the `ResidualBlock`'s `__init__()` method in the `hw2/cnn.py` module."
   ]
  },
  {
   "cell_type": "code",
   "execution_count": 6,
   "metadata": {},
   "outputs": [
    {
     "name": "stdout",
     "output_type": "stream",
     "text": [
      "ResidualBlock(\n",
      "  (shortcut_path): Sequential(\n",
      "    (0): Conv2d(3, 4, kernel_size=(1, 1), stride=(1, 1), bias=False)\n",
      "  )\n",
      "  (main_path): Sequential(\n",
      "    (0): Conv2d(3, 6, kernel_size=(3, 3), stride=(1, 1), padding=(1, 1))\n",
      "    (1): Dropout2d(p=0.2, inplace=False)\n",
      "    (2): BatchNorm2d(6, eps=1e-05, momentum=0.1, affine=True, track_running_stats=True)\n",
      "    (3): ReLU()\n",
      "    (4): Conv2d(6, 4, kernel_size=(5, 5), stride=(1, 1), padding=(2, 2))\n",
      "    (5): ReLU()\n",
      "    (6): Dropout2d(p=0.2, inplace=False)\n",
      "    (7): BatchNorm2d(4, eps=1e-05, momentum=0.1, affine=True, track_running_stats=True)\n",
      "    (8): Conv2d(4, 6, kernel_size=(3, 3), stride=(1, 1), padding=(1, 1))\n",
      "    (9): ReLU()\n",
      "    (10): Dropout2d(p=0.2, inplace=False)\n",
      "    (11): BatchNorm2d(6, eps=1e-05, momentum=0.1, affine=True, track_running_stats=True)\n",
      "    (12): Conv2d(6, 4, kernel_size=(5, 5), stride=(1, 1), padding=(2, 2))\n",
      "  )\n",
      ")\n",
      "out shape=torch.Size([1, 4, 32, 32])\n"
     ]
    }
   ],
   "source": [
    "torch.manual_seed(seed)\n",
    "\n",
    "resblock = cnn.ResidualBlock(\n",
    "    in_channels=3, channels=[6, 4]*2, kernel_sizes=[3, 5]*2, batchnorm=True, dropout=0.2\n",
    ")\n",
    "\n",
    "print(resblock)\n",
    "test_out = resblock(torch.zeros(1, 3, 32, 32))\n",
    "print(f'out shape={test_out.shape}')\n",
    "\n",
    "expected_out = torch.load('tests/assets/expected_resblock_out.pt')\n",
    "test.assertLess(torch.norm(test_out - expected_out).item(), 1e-3)"
   ]
  },
  {
   "cell_type": "markdown",
   "metadata": {},
   "source": [
    "Now based on the `ResidualBlock`, we'll implement our own variation of a residual network (ResNet),\n",
    "with the following architecture:\n",
    "\n",
    "    [-> (CONV -> ReLU)*P -> MaxPool]*(N/P) -> (Linear -> ReLU)*M -> Linear\n",
    "     \\------- SKIP ------/\n",
    "     \n",
    "Note that $N$, $P$ and $M$ are as before, however now $P$ also controls the number of convolutional layers to add a skip-connection to."
   ]
  },
  {
   "cell_type": "markdown",
   "metadata": {},
   "source": [
    "**TODO**: Complete the implementation of the `ResNetClassifier` class in the `hw2/cnn.py` module.\n",
    "You should use `ResidualBlock`s to group together every $P$ convolutional layers."
   ]
  },
  {
   "cell_type": "code",
   "execution_count": 7,
   "metadata": {},
   "outputs": [
    {
     "name": "stdout",
     "output_type": "stream",
     "text": [
      "ResNetClassifier(\n",
      "  (feature_extractor): Sequential(\n",
      "    (0): ResidualBlock(\n",
      "      (shortcut_path): Sequential(\n",
      "        (0): Conv2d(3, 64, kernel_size=(1, 1), stride=(1, 1), bias=False)\n",
      "      )\n",
      "      (main_path): Sequential(\n",
      "        (0): Conv2d(3, 32, kernel_size=(3, 3), stride=(1, 1), padding=(1, 1))\n",
      "        (1): Dropout2d(p=0.0, inplace=False)\n",
      "        (2): ReLU()\n",
      "        (3): Conv2d(32, 64, kernel_size=(3, 3), stride=(1, 1), padding=(1, 1))\n",
      "        (4): ReLU()\n",
      "        (5): Dropout2d(p=0.0, inplace=False)\n",
      "        (6): Conv2d(64, 32, kernel_size=(3, 3), stride=(1, 1), padding=(1, 1))\n",
      "        (7): ReLU()\n",
      "        (8): Dropout2d(p=0.0, inplace=False)\n",
      "        (9): Conv2d(32, 64, kernel_size=(3, 3), stride=(1, 1), padding=(1, 1))\n",
      "      )\n",
      "    )\n",
      "    (1): MaxPool2d(kernel_size=2, stride=2, padding=0, dilation=1, ceil_mode=False)\n",
      "    (2): ResidualBlock(\n",
      "      (shortcut_path): Sequential()\n",
      "      (main_path): Sequential(\n",
      "        (0): Conv2d(64, 32, kernel_size=(3, 3), stride=(1, 1), padding=(1, 1))\n",
      "        (1): Dropout2d(p=0.0, inplace=False)\n",
      "        (2): ReLU()\n",
      "        (3): Conv2d(32, 64, kernel_size=(3, 3), stride=(1, 1), padding=(1, 1))\n",
      "      )\n",
      "    )\n",
      "  )\n",
      "  (classifier): Sequential(\n",
      "    (0): Linear(in_features=160000, out_features=100, bias=True)\n",
      "    (1): ReLU()\n",
      "    (2): Linear(in_features=100, out_features=100, bias=True)\n",
      "    (3): ReLU()\n",
      "    (4): Linear(in_features=100, out_features=10, bias=True)\n",
      "  )\n",
      ")\n",
      "out = tensor([[ 0.7512, -0.5055, 12.0261,  3.6577, -1.6581, 11.0309,  6.6823,  1.1269,\n",
      "          6.9933,  4.3001]], grad_fn=<AddmmBackward>)\n"
     ]
    }
   ],
   "source": [
    "torch.manual_seed(seed)\n",
    "\n",
    "net = cnn.ResNetClassifier(\n",
    "    in_size=(3,100,100), out_classes=10, channels=[32, 64]*3, pool_every=4, hidden_dims=[100]*2\n",
    ")\n",
    "print(net)\n",
    "\n",
    "test_image = torch.randint(low=0, high=256, size=(3, 100, 100), dtype=torch.float).unsqueeze(0)\n",
    "test_out = net(test_image)\n",
    "print('out =', test_out)\n",
    "\n",
    "expected_out = torch.load('tests/assets/expected_resnet_out.pt')\n",
    "test.assertLess(torch.norm(test_out - expected_out).item(), 1e-3)"
   ]
  },
  {
   "cell_type": "markdown",
   "metadata": {},
   "source": [
    "## Experimenting with model architectures\n",
    "<a id=part3_3></a>"
   ]
  },
  {
   "cell_type": "markdown",
   "metadata": {},
   "source": [
    "You will now perform a series of experiments that train various model configurations on a much larger part of the CIFAR-10 dataset.\n",
    "\n",
    "To perform the experiments, you'll need to use a machine with a GPU since training time might be too long otherwise.\n"
   ]
  },
  {
   "cell_type": "markdown",
   "metadata": {},
   "source": [
    "### Note about running on GPUs"
   ]
  },
  {
   "cell_type": "markdown",
   "metadata": {},
   "source": [
    "Here's an example of running a forward pass on the GPU\n",
    "(assuming you're running this notebook on a GPU-enabled machine)."
   ]
  },
  {
   "cell_type": "code",
   "execution_count": 8,
   "metadata": {},
   "outputs": [],
   "source": [
    "net = net.to(device)\n",
    "test_image = test_image.to(device)\n",
    "test_out = net(test_image)"
   ]
  },
  {
   "cell_type": "markdown",
   "metadata": {},
   "source": [
    "Notice how we called `.to(device)` on **both** the model and the input tensor.\n",
    "Here the `device` is a `torch.device` object that we created above. If an nvidia GPU is available on the machine you're running this on, the `device` will be `'cuda'`. When you run `.to(device)` on a model, it recursively goes over all the model parameter tensors and copies their memory to the GPU. Similarly, calling `.to(device)` on the input image also copies it.\n",
    "\n",
    "In order to train on a GPU, you need to make sure to move **all** your tensors to it. You'll get errors if you try to mix CPU and GPU tensors in a computation."
   ]
  },
  {
   "cell_type": "code",
   "execution_count": 9,
   "metadata": {},
   "outputs": [
    {
     "name": "stdout",
     "output_type": "stream",
     "text": [
      "This notebook is running with device=cuda\n",
      "The model parameter tensors are also on device=cuda:0\n",
      "The test image is also on device=cuda:0\n",
      "The output is therefore also on device=cuda:0\n"
     ]
    }
   ],
   "source": [
    "print(f'This notebook is running with device={device}')\n",
    "print(f'The model parameter tensors are also on device={next(net.parameters()).device}')\n",
    "print(f'The test image is also on device={test_image.device}')\n",
    "print(f'The output is therefore also on device={test_out.device}')"
   ]
  },
  {
   "cell_type": "markdown",
   "metadata": {},
   "source": [
    "### General notes for running experiments\n",
    "\n",
    "- You can run the experiments on a different machine (e.g. the course servers) and copy the results (files)\n",
    "  to the `results` folder on your local machine.\n",
    "  This notebook will only display the results, not run the actual experiment code (except for a demo run).\n",
    "- It's important to give each experiment run a name as specified by the notebook instructions later on.\n",
    "  Each run has a `run_name` parameter that will also be the base name of the results file which this \n",
    "  notebook will expect to load.\n",
    "- You will implement the code to run the experiments in the `hw2/experiments.py` module.\n",
    "  This module has a CLI parser so that you can invoke it as a script and pass in all the\n",
    "  configuration parameters for a single experiment run.\n",
    "- You should use `python -m hw2.experiments run-exp` to run an experiment, and **not**\n",
    "  `python hw2/experiments.py run-exp`, regardless of how/where you run it."
   ]
  },
  {
   "cell_type": "markdown",
   "metadata": {},
   "source": [
    "### Experiment 1: Network depth and number of filters"
   ]
  },
  {
   "cell_type": "markdown",
   "metadata": {},
   "source": [
    "In this part we will test some different architecture configurations based on our `ConvClassifier` and `ResNetClassifier`.\n",
    "Specifically, we want to try different depths and number of features to see the effects these parameters have on the model's performance.\n",
    "\n",
    "To do this, we'll define two extra hyperparameters for our model, `K` (`filters_per_layer`) and `L` (`layers_per_block`).\n",
    "- `K` is a list, containing the number of filters we want to have in our conv layers.\n",
    "- `L` is the number of consecutive layers with the same number of filters to use.\n",
    "\n",
    "For example, if `K=[32, 64]` and `L=2` it means we want two conv layers with 32 filters followed by two conv layers with 64 filters. The feature-extraction part of our model will therefore be:\n",
    "\n",
    "    Conv(X,32)->ReLu->Conv(32,32)->ReLU->MaxPool->Conv(32,64)->ReLU->Conv(64,64)->ReLU->MaxPool\n",
    "    \n",
    "We'll try various values of the `K` and `L` parameters in combination and see how each architecture trains. **All other hyperparameters are up to you**, including the choice of the optimization algorithm, the learning rate, regularization and architecture hyperparams such as `pad_every` and `hidden_dims`. Note that you should select the `pad_every` parameter wisely per experiment so that you don't end up with zero-with feature maps.\n",
    "\n",
    "You can try some short manual runs to determine some good values for the hyperparameters or implement cross-validation to do it. However, the **dataset size** you test on should be large. Use at least ~20000 training images and ~6000 validation images.\n",
    "\n",
    "The important thing is that you state what you used, how you decided on it, and explain your results based on that."
   ]
  },
  {
   "cell_type": "markdown",
   "metadata": {},
   "source": [
    "First we need to write some code to run the experiment.\n",
    "\n",
    "**TODO**:\n",
    "1. Implement the `run_experiment()` function in the `hw2/experiments.py` module.\n",
    "1. If you haven't done so already, it would be an excellent idea to implement the **early stopping** feature of the `Trainer` class.\n",
    "\n",
    "The following block tests that your implementation works. It's also meant to show you that each experiment run creates a result file containing the parameters to reproduce and the `FitResult` object for plotting."
   ]
  },
  {
   "cell_type": "code",
   "execution_count": 10,
   "metadata": {},
   "outputs": [
    {
     "name": "stdout",
     "output_type": "stream",
     "text": [
      "Files already downloaded and verified\n",
      "Files already downloaded and verified\n",
      "--- EPOCH 1/10 ---\n",
      "train_batch (Avg. Loss 2.068, Accuracy 25.6): 100%|████████████████████████████████| 1000/1000 [00:13<00:00, 73.13it/s]\n",
      "Epoch 0 train loss: 2.067569091796875\n",
      "test_batch (Avg. Loss 1.885, Accuracy 33.3): 100%|██████████████████████████████████| 834/834 [00:04<00:00, 201.84it/s]\n",
      "--- EPOCH 2/10 ---\n",
      "train_batch (Avg. Loss 1.739, Accuracy 38.1): 100%|████████████████████████████████| 1000/1000 [00:13<00:00, 73.30it/s]\n",
      "Epoch 1 train loss: 1.7390069580078125\n",
      "test_batch (Avg. Loss 1.606, Accuracy 42.9): 100%|██████████████████████████████████| 834/834 [00:04<00:00, 199.33it/s]\n",
      "--- EPOCH 3/10 ---\n",
      "train_batch (Avg. Loss 1.552, Accuracy 44.5): 100%|████████████████████████████████| 1000/1000 [00:13<00:00, 73.21it/s]\n",
      "Epoch 2 train loss: 1.551714111328125\n",
      "test_batch (Avg. Loss 1.478, Accuracy 47.2): 100%|██████████████████████████████████| 834/834 [00:04<00:00, 197.45it/s]\n",
      "--- EPOCH 4/10 ---\n",
      "train_batch (Avg. Loss 1.446, Accuracy 48.3): 100%|████████████████████████████████| 1000/1000 [00:13<00:00, 72.99it/s]\n",
      "Epoch 3 train loss: 1.445771484375\n",
      "test_batch (Avg. Loss 1.371, Accuracy 51.5): 100%|██████████████████████████████████| 834/834 [00:04<00:00, 200.34it/s]\n",
      "--- EPOCH 5/10 ---\n",
      "train_batch (Avg. Loss 1.356, Accuracy 51.7): 100%|████████████████████████████████| 1000/1000 [00:13<00:00, 72.54it/s]\n",
      "Epoch 4 train loss: 1.355756591796875\n",
      "test_batch (Avg. Loss 1.289, Accuracy 54.4): 100%|██████████████████████████████████| 834/834 [00:04<00:00, 200.68it/s]\n",
      "--- EPOCH 6/10 ---\n",
      "train_batch (Avg. Loss 1.284, Accuracy 54.6): 100%|████████████████████████████████| 1000/1000 [00:13<00:00, 72.82it/s]\n",
      "Epoch 5 train loss: 1.28365771484375\n",
      "test_batch (Avg. Loss 1.230, Accuracy 56.6): 100%|██████████████████████████████████| 834/834 [00:04<00:00, 197.82it/s]\n",
      "--- EPOCH 7/10 ---\n",
      "train_batch (Avg. Loss 1.223, Accuracy 56.9): 100%|████████████████████████████████| 1000/1000 [00:13<00:00, 73.21it/s]\n",
      "Epoch 6 train loss: 1.223127685546875\n",
      "test_batch (Avg. Loss 1.185, Accuracy 58.3): 100%|██████████████████████████████████| 834/834 [00:04<00:00, 197.12it/s]\n",
      "--- EPOCH 8/10 ---\n",
      "train_batch (Avg. Loss 1.169, Accuracy 59.0): 100%|████████████████████████████████| 1000/1000 [00:13<00:00, 73.13it/s]\n",
      "Epoch 7 train loss: 1.1691837158203124\n",
      "test_batch (Avg. Loss 1.145, Accuracy 59.3): 100%|██████████████████████████████████| 834/834 [00:04<00:00, 198.76it/s]\n",
      "--- EPOCH 9/10 ---\n",
      "train_batch (Avg. Loss 1.119, Accuracy 60.9): 100%|████████████████████████████████| 1000/1000 [00:13<00:00, 72.74it/s]\n",
      "Epoch 8 train loss: 1.1194189453125\n",
      "test_batch (Avg. Loss 1.115, Accuracy 60.8): 100%|██████████████████████████████████| 834/834 [00:04<00:00, 198.62it/s]\n",
      "--- EPOCH 10/10 ---\n",
      "train_batch (Avg. Loss 1.073, Accuracy 62.5): 100%|████████████████████████████████| 1000/1000 [00:13<00:00, 72.91it/s]\n",
      "Epoch 9 train loss: 1.0731580810546875\n",
      "test_batch (Avg. Loss 1.084, Accuracy 61.8): 100%|██████████████████████████████████| 834/834 [00:04<00:00, 198.29it/s]\n",
      "*** Output file ./results\\test_run_L1_K32-64.json written\n",
      "experiment config:  {'run_name': 'test_run', 'out_dir': './results', 'seed': 42, 'device': None, 'bs_train': 50, 'bs_test': 12, 'batches': 10, 'epochs': 10, 'early_stopping': 5, 'checkpoints': None, 'lr': 0.001, 'reg': 0.001, 'filters_per_layer': [32, 64], 'pool_every': 1, 'hidden_dims': [100], 'model_type': 'resnet', 'kw': {}, 'layers_per_block': 1}\n"
     ]
    },
    {
     "data": {
      "image/png": "[encoded data removed]",
      "text/plain": [
       "<Figure size 1152x720 with 4 Axes>"
      ]
     },
     "metadata": {
      "needs_background": "light"
     },
     "output_type": "display_data"
    }
   ],
   "source": [
    "import hw2.experiments as experiments\n",
    "from hw2.experiments import load_experiment\n",
    "from cs236781.plot import plot_fit\n",
    "\n",
    "# Test experiment1 implementation on a few data samples and with a small model\n",
    "\n",
    "experiments.run_experiment(\n",
    "    'test_run', seed=seed, bs_train=50, batches=10, epochs=10, early_stopping=5,\n",
    "    filters_per_layer=[32,64], layers_per_block=1, pool_every=1, hidden_dims=[100],\n",
    "    model_type='resnet',\n",
    ")\n",
    "\n",
    "# There should now be a file 'test_run.json' in your `results/` folder.\n",
    "# We can use it to load the results of the experiment.\n",
    "cfg, fit_res = load_experiment('results/test_run_L1_K32-64.json')\n",
    "_, _ = plot_fit(fit_res)\n",
    "\n",
    "# And `cfg` contains the exact parameters to reproduce it\n",
    "print('experiment config: ', cfg)"
   ]
  },
  {
   "cell_type": "markdown",
   "metadata": {},
   "source": [
    "We'll use the following function to load multiple experiment results and plot them together."
   ]
  },
  {
   "cell_type": "code",
   "execution_count": 11,
   "metadata": {},
   "outputs": [],
   "source": [
    "def plot_exp_results(filename_pattern, results_dir='results'):\n",
    "    fig = None\n",
    "    result_files = glob.glob(os.path.join(results_dir, filename_pattern))\n",
    "    result_files.sort()\n",
    "    if len(result_files) == 0:\n",
    "        print(f'No results found for pattern {filename_pattern}.', file=sys.stderr)\n",
    "        return\n",
    "    for filepath in result_files:\n",
    "        m = re.match('exp\\d_(\\d_)?(.*)\\.json', os.path.basename(filepath))\n",
    "        cfg, fit_res = load_experiment(filepath)\n",
    "        fig, axes = plot_fit(fit_res, fig, legend=m[2],log_loss=True)\n",
    "    del cfg['filters_per_layer']\n",
    "    del cfg['layers_per_block']\n",
    "    print('common config: ', cfg)"
   ]
  },
  {
   "cell_type": "code",
   "execution_count": 12,
   "metadata": {},
   "outputs": [
    {
     "name": "stdout",
     "output_type": "stream",
     "text": [
      "Files already downloaded and verified\n",
      "Files already downloaded and verified\n",
      "--- EPOCH 1/35 ---\n",
      "train_batch (Avg. Loss 1.974, Accuracy 29.4): 100%|████████████████████████████████| 1000/1000 [00:15<00:00, 65.83it/s]\n",
      "Epoch 0 train loss: 1.9736385498046876\n",
      "test_batch (Avg. Loss 1.768, Accuracy 38.0): 100%|██████████████████████████████████| 834/834 [00:04<00:00, 193.73it/s]\n",
      "--- EPOCH 2/35 ---\n",
      "train_batch (Avg. Loss 1.656, Accuracy 41.3): 100%|████████████████████████████████| 1000/1000 [00:14<00:00, 67.45it/s]\n",
      "Epoch 1 train loss: 1.655955322265625\n",
      "test_batch (Avg. Loss 1.536, Accuracy 45.3): 100%|██████████████████████████████████| 834/834 [00:04<00:00, 192.74it/s]\n",
      "--- EPOCH 3/35 ---\n",
      "train_batch (Avg. Loss 1.489, Accuracy 46.8): 100%|████████████████████████████████| 1000/1000 [00:14<00:00, 67.11it/s]\n",
      "Epoch 2 train loss: 1.488790283203125\n",
      "test_batch (Avg. Loss 1.401, Accuracy 49.7): 100%|██████████████████████████████████| 834/834 [00:04<00:00, 195.32it/s]\n",
      "--- EPOCH 4/35 ---\n",
      "train_batch (Avg. Loss 1.368, Accuracy 51.3): 100%|████████████████████████████████| 1000/1000 [00:14<00:00, 66.80it/s]\n",
      "Epoch 3 train loss: 1.3681248779296875\n",
      "test_batch (Avg. Loss 1.296, Accuracy 53.1): 100%|██████████████████████████████████| 834/834 [00:04<00:00, 192.61it/s]\n",
      "--- EPOCH 5/35 ---\n",
      "train_batch (Avg. Loss 1.267, Accuracy 54.8): 100%|████████████████████████████████| 1000/1000 [00:14<00:00, 67.32it/s]\n",
      "Epoch 4 train loss: 1.267037109375\n",
      "test_batch (Avg. Loss 1.227, Accuracy 56.2): 100%|██████████████████████████████████| 834/834 [00:04<00:00, 195.18it/s]\n",
      "--- EPOCH 6/35 ---\n",
      "train_batch (Avg. Loss 1.182, Accuracy 58.0): 100%|████████████████████████████████| 1000/1000 [00:14<00:00, 67.13it/s]\n",
      "Epoch 5 train loss: 1.182213134765625\n",
      "test_batch (Avg. Loss 1.164, Accuracy 58.7): 100%|██████████████████████████████████| 834/834 [00:04<00:00, 196.28it/s]\n",
      "--- EPOCH 7/35 ---\n",
      "train_batch (Avg. Loss 1.100, Accuracy 61.1): 100%|████████████████████████████████| 1000/1000 [00:14<00:00, 67.12it/s]\n",
      "Epoch 6 train loss: 1.0999456787109374\n",
      "test_batch (Avg. Loss 1.101, Accuracy 61.1): 100%|██████████████████████████████████| 834/834 [00:04<00:00, 195.78it/s]\n",
      "--- EPOCH 8/35 ---\n",
      "train_batch (Avg. Loss 1.026, Accuracy 63.9): 100%|████████████████████████████████| 1000/1000 [00:14<00:00, 66.74it/s]\n",
      "Epoch 7 train loss: 1.02595556640625\n",
      "test_batch (Avg. Loss 1.060, Accuracy 62.9): 100%|██████████████████████████████████| 834/834 [00:04<00:00, 195.64it/s]\n",
      "--- EPOCH 9/35 ---\n",
      "train_batch (Avg. Loss 0.963, Accuracy 66.4): 100%|████████████████████████████████| 1000/1000 [00:14<00:00, 66.73it/s]\n",
      "Epoch 8 train loss: 0.9626812133789062\n",
      "test_batch (Avg. Loss 1.038, Accuracy 63.6): 100%|██████████████████████████████████| 834/834 [00:04<00:00, 197.03it/s]\n",
      "--- EPOCH 10/35 ---\n",
      "train_batch (Avg. Loss 0.905, Accuracy 68.4): 100%|████████████████████████████████| 1000/1000 [00:14<00:00, 67.05it/s]\n",
      "Epoch 9 train loss: 0.9048724975585938\n",
      "test_batch (Avg. Loss 1.022, Accuracy 64.4): 100%|██████████████████████████████████| 834/834 [00:04<00:00, 195.32it/s]\n",
      "--- EPOCH 11/35 ---\n",
      "train_batch (Avg. Loss 0.851, Accuracy 70.3): 100%|████████████████████████████████| 1000/1000 [00:14<00:00, 66.85it/s]\n",
      "Epoch 10 train loss: 0.8509041137695312\n",
      "test_batch (Avg. Loss 1.013, Accuracy 64.8): 100%|██████████████████████████████████| 834/834 [00:04<00:00, 193.41it/s]\n",
      "--- EPOCH 12/35 ---\n",
      "train_batch (Avg. Loss 0.799, Accuracy 72.2): 100%|████████████████████████████████| 1000/1000 [00:14<00:00, 66.85it/s]\n",
      "Epoch 11 train loss: 0.7988964233398438\n",
      "test_batch (Avg. Loss 1.020, Accuracy 65.1): 100%|██████████████████████████████████| 834/834 [00:04<00:00, 192.17it/s]\n",
      "--- EPOCH 13/35 ---\n",
      "train_batch (Avg. Loss 0.747, Accuracy 74.0): 100%|████████████████████████████████| 1000/1000 [00:14<00:00, 66.67it/s]\n",
      "Epoch 12 train loss: 0.7469227294921875\n",
      "test_batch (Avg. Loss 1.016, Accuracy 65.5): 100%|██████████████████████████████████| 834/834 [00:04<00:00, 195.09it/s]\n",
      "--- EPOCH 14/35 ---\n",
      "train_batch (Avg. Loss 0.694, Accuracy 75.9): 100%|████████████████████████████████| 1000/1000 [00:15<00:00, 66.43it/s]\n",
      "Epoch 13 train loss: 0.694002197265625\n",
      "test_batch (Avg. Loss 1.002, Accuracy 66.5): 100%|██████████████████████████████████| 834/834 [00:04<00:00, 193.91it/s]\n",
      "--- EPOCH 15/35 ---\n",
      "train_batch (Avg. Loss 0.642, Accuracy 77.9): 100%|████████████████████████████████| 1000/1000 [00:15<00:00, 65.92it/s]\n",
      "Epoch 14 train loss: 0.6423265991210938\n",
      "test_batch (Avg. Loss 1.001, Accuracy 67.2): 100%|██████████████████████████████████| 834/834 [00:04<00:00, 193.28it/s]\n",
      "--- EPOCH 16/35 ---\n",
      "train_batch (Avg. Loss 0.589, Accuracy 79.9): 100%|████████████████████████████████| 1000/1000 [00:15<00:00, 66.58it/s]\n",
      "Epoch 15 train loss: 0.589270751953125\n",
      "test_batch (Avg. Loss 1.019, Accuracy 67.2): 100%|██████████████████████████████████| 834/834 [00:04<00:00, 189.93it/s]\n",
      "--- EPOCH 17/35 ---\n",
      "train_batch (Avg. Loss 0.536, Accuracy 81.9): 100%|████████████████████████████████| 1000/1000 [00:15<00:00, 66.51it/s]\n",
      "Epoch 16 train loss: 0.5357281494140625\n",
      "test_batch (Avg. Loss 1.051, Accuracy 67.4): 100%|██████████████████████████████████| 834/834 [00:04<00:00, 191.86it/s]\n",
      "--- EPOCH 18/35 ---\n",
      "train_batch (Avg. Loss 0.485, Accuracy 83.8): 100%|████████████████████████████████| 1000/1000 [00:15<00:00, 65.92it/s]\n",
      "Epoch 17 train loss: 0.4845277099609375\n",
      "test_batch (Avg. Loss 1.111, Accuracy 66.8): 100%|██████████████████████████████████| 834/834 [00:04<00:00, 191.81it/s]\n",
      "--- EPOCH 19/35 ---\n",
      "train_batch (Avg. Loss 0.435, Accuracy 85.6): 100%|████████████████████████████████| 1000/1000 [00:14<00:00, 66.79it/s]\n",
      "Epoch 18 train loss: 0.4345858154296875\n",
      "test_batch (Avg. Loss 1.205, Accuracy 66.2): 100%|██████████████████████████████████| 834/834 [00:04<00:00, 193.77it/s]\n",
      "--- EPOCH 20/35 ---\n",
      "train_batch (Avg. Loss 0.389, Accuracy 87.2): 100%|████████████████████████████████| 1000/1000 [00:15<00:00, 66.52it/s]\n",
      "Epoch 19 train loss: 0.38860733032226563\n",
      "test_batch (Avg. Loss 1.309, Accuracy 65.6): 100%|██████████████████████████████████| 834/834 [00:04<00:00, 193.95it/s]\n",
      "*** Output file ./results\\test_run_L2_K32.json written\n",
      "Files already downloaded and verified\n",
      "Files already downloaded and verified\n",
      "--- EPOCH 1/35 ---\n",
      "train_batch (Avg. Loss 1.921, Accuracy 31.4): 100%|████████████████████████████████| 1000/1000 [00:19<00:00, 51.80it/s]\n",
      "Epoch 0 train loss: 1.9212650146484376\n",
      "test_batch (Avg. Loss 1.702, Accuracy 39.9): 100%|██████████████████████████████████| 834/834 [00:04<00:00, 190.89it/s]\n",
      "--- EPOCH 2/35 ---\n",
      "train_batch (Avg. Loss 1.587, Accuracy 43.4): 100%|████████████████████████████████| 1000/1000 [00:19<00:00, 51.72it/s]\n",
      "Epoch 1 train loss: 1.586666015625\n",
      "test_batch (Avg. Loss 1.484, Accuracy 46.8): 100%|██████████████████████████████████| 834/834 [00:04<00:00, 186.45it/s]\n",
      "--- EPOCH 3/35 ---\n",
      "train_batch (Avg. Loss 1.421, Accuracy 49.3): 100%|████████████████████████████████| 1000/1000 [00:19<00:00, 51.63it/s]\n",
      "Epoch 2 train loss: 1.4209219970703124\n",
      "test_batch (Avg. Loss 1.342, Accuracy 51.8): 100%|██████████████████████████████████| 834/834 [00:04<00:00, 191.33it/s]\n",
      "--- EPOCH 4/35 ---\n",
      "train_batch (Avg. Loss 1.282, Accuracy 54.4): 100%|████████████████████████████████| 1000/1000 [00:19<00:00, 51.61it/s]\n",
      "Epoch 3 train loss: 1.281658203125\n",
      "test_batch (Avg. Loss 1.221, Accuracy 56.2): 100%|██████████████████████████████████| 834/834 [00:04<00:00, 189.46it/s]\n",
      "--- EPOCH 5/35 ---\n",
      "train_batch (Avg. Loss 1.163, Accuracy 58.9): 100%|████████████████████████████████| 1000/1000 [00:19<00:00, 51.57it/s]\n",
      "Epoch 4 train loss: 1.162736572265625\n",
      "test_batch (Avg. Loss 1.130, Accuracy 59.7): 100%|██████████████████████████████████| 834/834 [00:04<00:00, 192.97it/s]\n",
      "--- EPOCH 6/35 ---\n",
      "train_batch (Avg. Loss 1.072, Accuracy 62.3): 100%|████████████████████████████████| 1000/1000 [00:19<00:00, 51.60it/s]\n",
      "Epoch 5 train loss: 1.07157470703125\n",
      "test_batch (Avg. Loss 1.081, Accuracy 61.4): 100%|██████████████████████████████████| 834/834 [00:04<00:00, 192.03it/s]\n",
      "--- EPOCH 7/35 ---\n",
      "train_batch (Avg. Loss 0.996, Accuracy 64.9): 100%|████████████████████████████████| 1000/1000 [00:19<00:00, 51.58it/s]\n",
      "Epoch 6 train loss: 0.9962997436523438\n"
     ]
    },
    {
     "name": "stdout",
     "output_type": "stream",
     "text": [
      "test_batch (Avg. Loss 1.044, Accuracy 62.6): 100%|██████████████████████████████████| 834/834 [00:04<00:00, 195.32it/s]\n",
      "--- EPOCH 8/35 ---\n",
      "train_batch (Avg. Loss 0.928, Accuracy 67.6): 100%|████████████████████████████████| 1000/1000 [00:19<00:00, 52.39it/s]\n",
      "Epoch 7 train loss: 0.9282783203125\n",
      "test_batch (Avg. Loss 1.008, Accuracy 64.0): 100%|██████████████████████████████████| 834/834 [00:04<00:00, 195.18it/s]\n",
      "--- EPOCH 9/35 ---\n",
      "train_batch (Avg. Loss 0.865, Accuracy 69.7): 100%|████████████████████████████████| 1000/1000 [00:19<00:00, 52.26it/s]\n",
      "Epoch 8 train loss: 0.864942626953125\n",
      "test_batch (Avg. Loss 0.984, Accuracy 65.2): 100%|██████████████████████████████████| 834/834 [00:04<00:00, 194.91it/s]\n",
      "--- EPOCH 10/35 ---\n",
      "train_batch (Avg. Loss 0.803, Accuracy 72.1): 100%|████████████████████████████████| 1000/1000 [00:19<00:00, 52.13it/s]\n",
      "Epoch 9 train loss: 0.8028240356445312\n",
      "test_batch (Avg. Loss 0.967, Accuracy 66.1): 100%|██████████████████████████████████| 834/834 [00:04<00:00, 196.51it/s]\n",
      "--- EPOCH 11/35 ---\n",
      "train_batch (Avg. Loss 0.743, Accuracy 74.2): 100%|████████████████████████████████| 1000/1000 [00:19<00:00, 50.98it/s]\n",
      "Epoch 10 train loss: 0.7432362670898438\n",
      "test_batch (Avg. Loss 0.942, Accuracy 67.1): 100%|██████████████████████████████████| 834/834 [00:04<00:00, 182.45it/s]\n",
      "--- EPOCH 12/35 ---\n",
      "train_batch (Avg. Loss 0.685, Accuracy 76.3): 100%|████████████████████████████████| 1000/1000 [00:19<00:00, 52.24it/s]\n",
      "Epoch 11 train loss: 0.6853018188476563\n",
      "test_batch (Avg. Loss 0.936, Accuracy 68.0): 100%|██████████████████████████████████| 834/834 [00:04<00:00, 194.54it/s]\n",
      "--- EPOCH 13/35 ---\n",
      "train_batch (Avg. Loss 0.627, Accuracy 78.4): 100%|████████████████████████████████| 1000/1000 [00:19<00:00, 52.09it/s]\n",
      "Epoch 12 train loss: 0.6265379638671875\n",
      "test_batch (Avg. Loss 0.953, Accuracy 68.0): 100%|██████████████████████████████████| 834/834 [00:04<00:00, 197.82it/s]\n",
      "--- EPOCH 14/35 ---\n",
      "train_batch (Avg. Loss 0.570, Accuracy 80.5): 100%|████████████████████████████████| 1000/1000 [00:19<00:00, 52.41it/s]\n",
      "Epoch 13 train loss: 0.56982568359375\n",
      "test_batch (Avg. Loss 0.991, Accuracy 68.1): 100%|██████████████████████████████████| 834/834 [00:04<00:00, 198.10it/s]\n",
      "--- EPOCH 15/35 ---\n",
      "train_batch (Avg. Loss 0.512, Accuracy 82.7): 100%|████████████████████████████████| 1000/1000 [00:19<00:00, 50.16it/s]\n",
      "Epoch 14 train loss: 0.5120477905273437\n",
      "test_batch (Avg. Loss 1.012, Accuracy 68.1): 100%|██████████████████████████████████| 834/834 [00:04<00:00, 193.73it/s]\n",
      "--- EPOCH 16/35 ---\n",
      "train_batch (Avg. Loss 0.456, Accuracy 84.7): 100%|████████████████████████████████| 1000/1000 [00:19<00:00, 51.64it/s]\n",
      "Epoch 15 train loss: 0.4562604064941406\n",
      "test_batch (Avg. Loss 1.075, Accuracy 67.9): 100%|██████████████████████████████████| 834/834 [00:04<00:00, 194.00it/s]\n",
      "--- EPOCH 17/35 ---\n",
      "train_batch (Avg. Loss 0.403, Accuracy 86.5): 100%|████████████████████████████████| 1000/1000 [00:19<00:00, 51.65it/s]\n",
      "Epoch 16 train loss: 0.4034022216796875\n",
      "test_batch (Avg. Loss 1.094, Accuracy 68.9): 100%|██████████████████████████████████| 834/834 [00:04<00:00, 195.04it/s]\n",
      "*** Output file ./results\\test_run_L2_K64.json written\n",
      "Files already downloaded and verified\n",
      "Files already downloaded and verified\n",
      "--- EPOCH 1/35 ---\n",
      "train_batch (Avg. Loss 2.017, Accuracy 27.6): 100%|████████████████████████████████| 1000/1000 [00:15<00:00, 63.39it/s]\n",
      "Epoch 0 train loss: 2.017162353515625\n",
      "test_batch (Avg. Loss 1.810, Accuracy 36.1): 100%|██████████████████████████████████| 834/834 [00:04<00:00, 192.26it/s]\n",
      "--- EPOCH 2/35 ---\n",
      "train_batch (Avg. Loss 1.702, Accuracy 39.6): 100%|████████████████████████████████| 1000/1000 [00:15<00:00, 63.37it/s]\n",
      "Epoch 1 train loss: 1.701745849609375\n",
      "test_batch (Avg. Loss 1.587, Accuracy 43.5): 100%|██████████████████████████████████| 834/834 [00:04<00:00, 192.66it/s]\n",
      "--- EPOCH 3/35 ---\n",
      "train_batch (Avg. Loss 1.539, Accuracy 45.0): 100%|████████████████████████████████| 1000/1000 [00:15<00:00, 63.22it/s]\n",
      "Epoch 2 train loss: 1.538695556640625\n",
      "test_batch (Avg. Loss 1.448, Accuracy 48.0): 100%|██████████████████████████████████| 834/834 [00:04<00:00, 183.98it/s]\n",
      "--- EPOCH 4/35 ---\n",
      "train_batch (Avg. Loss 1.425, Accuracy 49.3): 100%|████████████████████████████████| 1000/1000 [00:15<00:00, 63.80it/s]\n",
      "Epoch 3 train loss: 1.424695556640625\n",
      "test_batch (Avg. Loss 1.362, Accuracy 51.7): 100%|██████████████████████████████████| 834/834 [00:04<00:00, 201.70it/s]\n",
      "--- EPOCH 5/35 ---\n",
      "train_batch (Avg. Loss 1.343, Accuracy 52.2): 100%|████████████████████████████████| 1000/1000 [00:15<00:00, 66.35it/s]\n",
      "Epoch 4 train loss: 1.3432869873046875\n",
      "test_batch (Avg. Loss 1.298, Accuracy 54.1): 100%|██████████████████████████████████| 834/834 [00:04<00:00, 206.34it/s]\n",
      "--- EPOCH 6/35 ---\n",
      "train_batch (Avg. Loss 1.275, Accuracy 54.7): 100%|████████████████████████████████| 1000/1000 [00:15<00:00, 66.45it/s]\n",
      "Epoch 5 train loss: 1.2751097412109376\n",
      "test_batch (Avg. Loss 1.256, Accuracy 55.7): 100%|██████████████████████████████████| 834/834 [00:04<00:00, 194.72it/s]\n",
      "--- EPOCH 7/35 ---\n",
      "train_batch (Avg. Loss 1.215, Accuracy 56.8): 100%|████████████████████████████████| 1000/1000 [00:15<00:00, 65.49it/s]\n",
      "Epoch 6 train loss: 1.2153167724609375\n",
      "test_batch (Avg. Loss 1.216, Accuracy 57.0): 100%|██████████████████████████████████| 834/834 [00:04<00:00, 201.70it/s]\n",
      "--- EPOCH 8/35 ---\n",
      "train_batch (Avg. Loss 1.157, Accuracy 59.0): 100%|████████████████████████████████| 1000/1000 [00:15<00:00, 63.74it/s]\n",
      "Epoch 7 train loss: 1.15677783203125\n",
      "test_batch (Avg. Loss 1.177, Accuracy 58.5): 100%|██████████████████████████████████| 834/834 [00:04<00:00, 191.24it/s]\n",
      "--- EPOCH 9/35 ---\n",
      "train_batch (Avg. Loss 1.099, Accuracy 61.2): 100%|████████████████████████████████| 1000/1000 [00:15<00:00, 62.80it/s]\n",
      "Epoch 8 train loss: 1.0988001708984374\n",
      "test_batch (Avg. Loss 1.145, Accuracy 59.5): 100%|██████████████████████████████████| 834/834 [00:04<00:00, 188.69it/s]\n",
      "--- EPOCH 10/35 ---\n",
      "train_batch (Avg. Loss 1.041, Accuracy 63.2): 100%|████████████████████████████████| 1000/1000 [00:15<00:00, 62.70it/s]\n",
      "Epoch 9 train loss: 1.040923095703125\n",
      "test_batch (Avg. Loss 1.120, Accuracy 60.6): 100%|██████████████████████████████████| 834/834 [00:04<00:00, 189.20it/s]\n",
      "--- EPOCH 11/35 ---\n",
      "train_batch (Avg. Loss 0.984, Accuracy 65.2): 100%|████████████████████████████████| 1000/1000 [00:15<00:00, 62.90it/s]\n",
      "Epoch 10 train loss: 0.9844777221679688\n",
      "test_batch (Avg. Loss 1.095, Accuracy 61.7): 100%|██████████████████████████████████| 834/834 [00:04<00:00, 191.33it/s]\n",
      "--- EPOCH 12/35 ---\n",
      "train_batch (Avg. Loss 0.929, Accuracy 67.2): 100%|████████████████████████████████| 1000/1000 [00:15<00:00, 62.67it/s]\n",
      "Epoch 11 train loss: 0.9285001220703125\n",
      "test_batch (Avg. Loss 1.073, Accuracy 62.7): 100%|██████████████████████████████████| 834/834 [00:04<00:00, 192.39it/s]\n",
      "--- EPOCH 13/35 ---\n",
      "train_batch (Avg. Loss 0.872, Accuracy 69.5): 100%|████████████████████████████████| 1000/1000 [00:15<00:00, 62.82it/s]\n",
      "Epoch 12 train loss: 0.8722440185546875\n",
      "test_batch (Avg. Loss 1.074, Accuracy 62.8): 100%|██████████████████████████████████| 834/834 [00:04<00:00, 191.02it/s]\n",
      "--- EPOCH 14/35 ---\n",
      "train_batch (Avg. Loss 0.816, Accuracy 71.5): 100%|████████████████████████████████| 1000/1000 [00:15<00:00, 63.05it/s]\n",
      "Epoch 13 train loss: 0.8157686767578125\n",
      "test_batch (Avg. Loss 1.085, Accuracy 63.2): 100%|██████████████████████████████████| 834/834 [00:04<00:00, 199.38it/s]\n",
      "--- EPOCH 15/35 ---\n",
      "train_batch (Avg. Loss 0.758, Accuracy 73.7): 100%|████████████████████████████████| 1000/1000 [00:14<00:00, 66.90it/s]\n",
      "Epoch 14 train loss: 0.7581486206054687\n",
      "test_batch (Avg. Loss 1.085, Accuracy 63.6): 100%|██████████████████████████████████| 834/834 [00:04<00:00, 186.49it/s]\n",
      "--- EPOCH 16/35 ---\n",
      "train_batch (Avg. Loss 0.701, Accuracy 75.6): 100%|████████████████████████████████| 1000/1000 [00:15<00:00, 62.63it/s]\n",
      "Epoch 15 train loss: 0.7007191162109375\n",
      "test_batch (Avg. Loss 1.073, Accuracy 64.2): 100%|██████████████████████████████████| 834/834 [00:04<00:00, 188.65it/s]\n",
      "--- EPOCH 17/35 ---\n",
      "train_batch (Avg. Loss 0.645, Accuracy 77.7): 100%|████████████████████████████████| 1000/1000 [00:15<00:00, 63.26it/s]\n",
      "Epoch 16 train loss: 0.645174072265625\n"
     ]
    },
    {
     "name": "stdout",
     "output_type": "stream",
     "text": [
      "test_batch (Avg. Loss 1.086, Accuracy 64.9): 100%|██████████████████████████████████| 834/834 [00:04<00:00, 192.88it/s]\n",
      "--- EPOCH 18/35 ---\n",
      "train_batch (Avg. Loss 0.592, Accuracy 79.6): 100%|████████████████████████████████| 1000/1000 [00:15<00:00, 63.02it/s]\n",
      "Epoch 17 train loss: 0.5920781860351563\n",
      "test_batch (Avg. Loss 1.121, Accuracy 64.9): 100%|██████████████████████████████████| 834/834 [00:04<00:00, 187.88it/s]\n",
      "--- EPOCH 19/35 ---\n",
      "train_batch (Avg. Loss 0.538, Accuracy 81.8): 100%|████████████████████████████████| 1000/1000 [00:15<00:00, 62.95it/s]\n",
      "Epoch 18 train loss: 0.5379939575195313\n",
      "test_batch (Avg. Loss 1.165, Accuracy 65.0): 100%|██████████████████████████████████| 834/834 [00:04<00:00, 201.36it/s]\n",
      "--- EPOCH 20/35 ---\n",
      "train_batch (Avg. Loss 0.484, Accuracy 83.7): 100%|████████████████████████████████| 1000/1000 [00:15<00:00, 66.63it/s]\n",
      "Epoch 19 train loss: 0.48441650390625\n",
      "test_batch (Avg. Loss 1.212, Accuracy 65.2): 100%|██████████████████████████████████| 834/834 [00:04<00:00, 208.09it/s]\n",
      "--- EPOCH 21/35 ---\n",
      "train_batch (Avg. Loss 0.435, Accuracy 85.5): 100%|████████████████████████████████| 1000/1000 [00:15<00:00, 66.53it/s]\n",
      "Epoch 20 train loss: 0.4347128601074219\n",
      "test_batch (Avg. Loss 1.294, Accuracy 64.8): 100%|██████████████████████████████████| 834/834 [00:04<00:00, 201.75it/s]\n",
      "*** Output file ./results\\test_run_L4_K32.json written\n",
      "Files already downloaded and verified\n",
      "Files already downloaded and verified\n",
      "--- EPOCH 1/35 ---\n",
      "train_batch (Avg. Loss 1.935, Accuracy 30.3): 100%|████████████████████████████████| 1000/1000 [00:21<00:00, 45.98it/s]\n",
      "Epoch 0 train loss: 1.934946533203125\n",
      "test_batch (Avg. Loss 1.720, Accuracy 39.0): 100%|██████████████████████████████████| 834/834 [00:04<00:00, 201.99it/s]\n",
      "--- EPOCH 2/35 ---\n",
      "train_batch (Avg. Loss 1.618, Accuracy 42.3): 100%|████████████████████████████████| 1000/1000 [00:21<00:00, 46.28it/s]\n",
      "Epoch 1 train loss: 1.6176895751953124\n",
      "test_batch (Avg. Loss 1.512, Accuracy 46.4): 100%|██████████████████████████████████| 834/834 [00:04<00:00, 189.29it/s]\n",
      "--- EPOCH 3/35 ---\n",
      "train_batch (Avg. Loss 1.462, Accuracy 47.8): 100%|████████████████████████████████| 1000/1000 [00:22<00:00, 45.40it/s]\n",
      "Epoch 2 train loss: 1.4624508056640626\n",
      "test_batch (Avg. Loss 1.369, Accuracy 51.4): 100%|██████████████████████████████████| 834/834 [00:04<00:00, 204.27it/s]\n",
      "--- EPOCH 4/35 ---\n",
      "train_batch (Avg. Loss 1.346, Accuracy 52.1): 100%|████████████████████████████████| 1000/1000 [00:21<00:00, 47.15it/s]\n",
      "Epoch 3 train loss: 1.3456346435546875\n",
      "test_batch (Avg. Loss 1.276, Accuracy 54.3): 100%|██████████████████████████████████| 834/834 [00:04<00:00, 205.57it/s]\n",
      "--- EPOCH 5/35 ---\n",
      "train_batch (Avg. Loss 1.249, Accuracy 55.5): 100%|████████████████████████████████| 1000/1000 [00:21<00:00, 46.85it/s]\n",
      "Epoch 4 train loss: 1.2492060546875\n",
      "test_batch (Avg. Loss 1.206, Accuracy 57.2): 100%|██████████████████████████████████| 834/834 [00:03<00:00, 210.35it/s]\n",
      "--- EPOCH 6/35 ---\n",
      "train_batch (Avg. Loss 1.161, Accuracy 58.8): 100%|████████████████████████████████| 1000/1000 [00:21<00:00, 45.98it/s]\n",
      "Epoch 5 train loss: 1.161050048828125\n",
      "test_batch (Avg. Loss 1.142, Accuracy 59.5): 100%|██████████████████████████████████| 834/834 [00:04<00:00, 188.05it/s]\n",
      "--- EPOCH 7/35 ---\n",
      "train_batch (Avg. Loss 1.081, Accuracy 61.7): 100%|████████████████████████████████| 1000/1000 [00:22<00:00, 44.41it/s]\n",
      "Epoch 6 train loss: 1.0805389404296875\n",
      "test_batch (Avg. Loss 1.101, Accuracy 60.8): 100%|██████████████████████████████████| 834/834 [00:04<00:00, 188.82it/s]\n",
      "--- EPOCH 8/35 ---\n",
      "train_batch (Avg. Loss 1.010, Accuracy 64.4): 100%|████████████████████████████████| 1000/1000 [00:22<00:00, 44.30it/s]\n",
      "Epoch 7 train loss: 1.009979736328125\n",
      "test_batch (Avg. Loss 1.060, Accuracy 62.4): 100%|██████████████████████████████████| 834/834 [00:04<00:00, 186.66it/s]\n",
      "--- EPOCH 9/35 ---\n",
      "train_batch (Avg. Loss 0.944, Accuracy 67.0): 100%|████████████████████████████████| 1000/1000 [00:22<00:00, 44.31it/s]\n",
      "Epoch 8 train loss: 0.944125244140625\n",
      "test_batch (Avg. Loss 1.028, Accuracy 63.7): 100%|██████████████████████████████████| 834/834 [00:04<00:00, 190.41it/s]\n",
      "--- EPOCH 10/35 ---\n",
      "train_batch (Avg. Loss 0.881, Accuracy 69.4): 100%|████████████████████████████████| 1000/1000 [00:22<00:00, 44.25it/s]\n",
      "Epoch 9 train loss: 0.8805110473632812\n",
      "test_batch (Avg. Loss 0.993, Accuracy 65.0): 100%|██████████████████████████████████| 834/834 [00:04<00:00, 188.52it/s]\n",
      "--- EPOCH 11/35 ---\n",
      "train_batch (Avg. Loss 0.815, Accuracy 71.7): 100%|████████████████████████████████| 1000/1000 [00:22<00:00, 44.31it/s]\n",
      "Epoch 10 train loss: 0.814776123046875\n",
      "test_batch (Avg. Loss 0.970, Accuracy 66.4): 100%|██████████████████████████████████| 834/834 [00:04<00:00, 188.77it/s]\n",
      "--- EPOCH 12/35 ---\n",
      "train_batch (Avg. Loss 0.751, Accuracy 74.0): 100%|████████████████████████████████| 1000/1000 [00:22<00:00, 44.45it/s]\n",
      "Epoch 11 train loss: 0.7513678588867188\n",
      "test_batch (Avg. Loss 0.964, Accuracy 66.6): 100%|██████████████████████████████████| 834/834 [00:04<00:00, 187.71it/s]\n",
      "--- EPOCH 13/35 ---\n",
      "train_batch (Avg. Loss 0.688, Accuracy 76.2): 100%|████████████████████████████████| 1000/1000 [00:22<00:00, 44.44it/s]\n",
      "Epoch 12 train loss: 0.6881962280273437\n",
      "test_batch (Avg. Loss 0.962, Accuracy 67.0): 100%|██████████████████████████████████| 834/834 [00:04<00:00, 190.02it/s]\n",
      "--- EPOCH 14/35 ---\n",
      "train_batch (Avg. Loss 0.625, Accuracy 78.6): 100%|████████████████████████████████| 1000/1000 [00:22<00:00, 44.42it/s]\n",
      "Epoch 13 train loss: 0.6254833374023437\n",
      "test_batch (Avg. Loss 0.975, Accuracy 67.2): 100%|██████████████████████████████████| 834/834 [00:04<00:00, 184.80it/s]\n",
      "--- EPOCH 15/35 ---\n",
      "train_batch (Avg. Loss 0.562, Accuracy 81.0): 100%|████████████████████████████████| 1000/1000 [00:22<00:00, 44.33it/s]\n",
      "Epoch 14 train loss: 0.56234912109375\n",
      "test_batch (Avg. Loss 1.007, Accuracy 67.6): 100%|██████████████████████████████████| 834/834 [00:04<00:00, 186.24it/s]\n",
      "--- EPOCH 16/35 ---\n",
      "train_batch (Avg. Loss 0.499, Accuracy 83.3): 100%|████████████████████████████████| 1000/1000 [00:22<00:00, 44.36it/s]\n",
      "Epoch 15 train loss: 0.4989422302246094\n",
      "test_batch (Avg. Loss 1.062, Accuracy 67.3): 100%|██████████████████████████████████| 834/834 [00:04<00:00, 187.21it/s]\n",
      "--- EPOCH 17/35 ---\n",
      "train_batch (Avg. Loss 0.438, Accuracy 85.6): 100%|████████████████████████████████| 1000/1000 [00:22<00:00, 44.27it/s]\n",
      "Epoch 16 train loss: 0.4380950012207031\n",
      "test_batch (Avg. Loss 1.163, Accuracy 66.8): 100%|██████████████████████████████████| 834/834 [00:04<00:00, 186.16it/s]\n",
      "--- EPOCH 18/35 ---\n",
      "train_batch (Avg. Loss 0.384, Accuracy 87.5): 100%|████████████████████████████████| 1000/1000 [00:22<00:00, 44.30it/s]\n",
      "Epoch 17 train loss: 0.3839923095703125\n",
      "test_batch (Avg. Loss 1.315, Accuracy 65.3): 100%|██████████████████████████████████| 834/834 [00:04<00:00, 185.62it/s]\n",
      "*** Output file ./results\\test_run_L4_K64.json written\n",
      "Files already downloaded and verified\n",
      "Files already downloaded and verified\n",
      "--- EPOCH 1/35 ---\n",
      "train_batch (Avg. Loss 2.156, Accuracy 21.9): 100%|████████████████████████████████| 1000/1000 [00:19<00:00, 50.49it/s]\n",
      "Epoch 0 train loss: 2.156242919921875\n",
      "test_batch (Avg. Loss 1.954, Accuracy 29.8): 100%|██████████████████████████████████| 834/834 [00:05<00:00, 154.38it/s]\n",
      "--- EPOCH 2/35 ---\n",
      "train_batch (Avg. Loss 1.827, Accuracy 34.7): 100%|████████████████████████████████| 1000/1000 [00:19<00:00, 50.83it/s]\n",
      "Epoch 1 train loss: 1.8271246337890625\n",
      "test_batch (Avg. Loss 1.724, Accuracy 38.9): 100%|██████████████████████████████████| 834/834 [00:05<00:00, 150.32it/s]\n",
      "--- EPOCH 3/35 ---\n",
      "train_batch (Avg. Loss 1.626, Accuracy 41.4): 100%|████████████████████████████████| 1000/1000 [00:19<00:00, 50.82it/s]\n",
      "Epoch 2 train loss: 1.6263997802734376\n",
      "test_batch (Avg. Loss 1.530, Accuracy 45.1): 100%|██████████████████████████████████| 834/834 [00:05<00:00, 152.94it/s]\n",
      "--- EPOCH 4/35 ---\n",
      "train_batch (Avg. Loss 1.501, Accuracy 46.2): 100%|████████████████████████████████| 1000/1000 [00:19<00:00, 50.57it/s]\n",
      "Epoch 3 train loss: 1.5008038330078124\n",
      "test_batch (Avg. Loss 1.445, Accuracy 48.2): 100%|██████████████████████████████████| 834/834 [00:05<00:00, 153.42it/s]\n",
      "--- EPOCH 5/35 ---\n"
     ]
    },
    {
     "name": "stdout",
     "output_type": "stream",
     "text": [
      "train_batch (Avg. Loss 1.420, Accuracy 49.3): 100%|████████████████████████████████| 1000/1000 [00:19<00:00, 51.11it/s]\n",
      "Epoch 4 train loss: 1.4203165283203125\n",
      "test_batch (Avg. Loss 1.369, Accuracy 51.0): 100%|██████████████████████████████████| 834/834 [00:05<00:00, 155.13it/s]\n",
      "--- EPOCH 6/35 ---\n",
      "train_batch (Avg. Loss 1.346, Accuracy 52.0): 100%|████████████████████████████████| 1000/1000 [00:19<00:00, 50.86it/s]\n",
      "Epoch 5 train loss: 1.3462724609375\n",
      "test_batch (Avg. Loss 1.294, Accuracy 54.1): 100%|██████████████████████████████████| 834/834 [00:05<00:00, 155.27it/s]\n",
      "--- EPOCH 7/35 ---\n",
      "train_batch (Avg. Loss 1.274, Accuracy 54.7): 100%|████████████████████████████████| 1000/1000 [00:19<00:00, 51.10it/s]\n",
      "Epoch 6 train loss: 1.273728759765625\n",
      "test_batch (Avg. Loss 1.231, Accuracy 56.3): 100%|██████████████████████████████████| 834/834 [00:05<00:00, 154.27it/s]\n",
      "--- EPOCH 8/35 ---\n",
      "train_batch (Avg. Loss 1.202, Accuracy 57.2): 100%|████████████████████████████████| 1000/1000 [00:19<00:00, 50.50it/s]\n",
      "Epoch 7 train loss: 1.2016849365234374\n",
      "test_batch (Avg. Loss 1.174, Accuracy 58.6): 100%|██████████████████████████████████| 834/834 [00:05<00:00, 154.21it/s]\n",
      "--- EPOCH 9/35 ---\n",
      "train_batch (Avg. Loss 1.130, Accuracy 59.9): 100%|████████████████████████████████| 1000/1000 [00:19<00:00, 51.10it/s]\n",
      "Epoch 8 train loss: 1.1298062744140625\n",
      "test_batch (Avg. Loss 1.122, Accuracy 60.5): 100%|██████████████████████████████████| 834/834 [00:05<00:00, 153.64it/s]\n",
      "--- EPOCH 10/35 ---\n",
      "train_batch (Avg. Loss 1.058, Accuracy 62.6): 100%|████████████████████████████████| 1000/1000 [00:19<00:00, 50.75it/s]\n",
      "Epoch 9 train loss: 1.0584249267578125\n",
      "test_batch (Avg. Loss 1.074, Accuracy 62.4): 100%|██████████████████████████████████| 834/834 [00:05<00:00, 155.94it/s]\n",
      "--- EPOCH 11/35 ---\n",
      "train_batch (Avg. Loss 0.987, Accuracy 65.3): 100%|████████████████████████████████| 1000/1000 [00:19<00:00, 50.94it/s]\n",
      "Epoch 10 train loss: 0.9865426025390625\n",
      "test_batch (Avg. Loss 1.033, Accuracy 64.0): 100%|██████████████████████████████████| 834/834 [00:05<00:00, 152.10it/s]\n",
      "--- EPOCH 12/35 ---\n",
      "train_batch (Avg. Loss 0.920, Accuracy 67.9): 100%|████████████████████████████████| 1000/1000 [00:19<00:00, 50.94it/s]\n",
      "Epoch 11 train loss: 0.9196456909179688\n",
      "test_batch (Avg. Loss 1.007, Accuracy 65.0): 100%|██████████████████████████████████| 834/834 [00:05<00:00, 156.61it/s]\n",
      "--- EPOCH 13/35 ---\n",
      "train_batch (Avg. Loss 0.860, Accuracy 70.0): 100%|████████████████████████████████| 1000/1000 [00:19<00:00, 51.04it/s]\n",
      "Epoch 12 train loss: 0.8603877563476563\n",
      "test_batch (Avg. Loss 0.995, Accuracy 65.5): 100%|██████████████████████████████████| 834/834 [00:05<00:00, 154.30it/s]\n",
      "--- EPOCH 14/35 ---\n",
      "train_batch (Avg. Loss 0.807, Accuracy 71.8): 100%|████████████████████████████████| 1000/1000 [00:19<00:00, 51.00it/s]\n",
      "Epoch 13 train loss: 0.80670166015625\n",
      "test_batch (Avg. Loss 0.984, Accuracy 66.4): 100%|██████████████████████████████████| 834/834 [00:05<00:00, 155.04it/s]\n",
      "--- EPOCH 15/35 ---\n",
      "train_batch (Avg. Loss 0.758, Accuracy 73.6): 100%|████████████████████████████████| 1000/1000 [00:19<00:00, 50.75it/s]\n",
      "Epoch 14 train loss: 0.7577033081054687\n",
      "test_batch (Avg. Loss 0.961, Accuracy 67.2): 100%|██████████████████████████████████| 834/834 [00:05<00:00, 157.06it/s]\n",
      "--- EPOCH 16/35 ---\n",
      "train_batch (Avg. Loss 0.712, Accuracy 75.3): 100%|████████████████████████████████| 1000/1000 [00:19<00:00, 50.84it/s]\n",
      "Epoch 15 train loss: 0.71153955078125\n",
      "test_batch (Avg. Loss 0.947, Accuracy 67.8): 100%|██████████████████████████████████| 834/834 [00:05<00:00, 153.58it/s]\n",
      "--- EPOCH 17/35 ---\n",
      "train_batch (Avg. Loss 0.665, Accuracy 77.0): 100%|████████████████████████████████| 1000/1000 [00:19<00:00, 51.16it/s]\n",
      "Epoch 16 train loss: 0.6652640991210937\n",
      "test_batch (Avg. Loss 0.929, Accuracy 68.4): 100%|██████████████████████████████████| 834/834 [00:05<00:00, 156.32it/s]\n",
      "--- EPOCH 18/35 ---\n",
      "train_batch (Avg. Loss 0.622, Accuracy 78.5): 100%|████████████████████████████████| 1000/1000 [00:19<00:00, 50.86it/s]\n",
      "Epoch 17 train loss: 0.6216832275390625\n",
      "test_batch (Avg. Loss 0.926, Accuracy 68.7): 100%|██████████████████████████████████| 834/834 [00:05<00:00, 153.11it/s]\n",
      "--- EPOCH 19/35 ---\n",
      "train_batch (Avg. Loss 0.579, Accuracy 80.2): 100%|████████████████████████████████| 1000/1000 [00:19<00:00, 50.93it/s]\n",
      "Epoch 18 train loss: 0.5794161376953125\n",
      "test_batch (Avg. Loss 0.939, Accuracy 69.1): 100%|██████████████████████████████████| 834/834 [00:05<00:00, 155.24it/s]\n",
      "--- EPOCH 20/35 ---\n",
      "train_batch (Avg. Loss 0.541, Accuracy 81.3): 100%|████████████████████████████████| 1000/1000 [00:19<00:00, 50.81it/s]\n",
      "Epoch 19 train loss: 0.5408609619140625\n",
      "test_batch (Avg. Loss 0.973, Accuracy 68.8): 100%|██████████████████████████████████| 834/834 [00:05<00:00, 153.02it/s]\n",
      "--- EPOCH 21/35 ---\n",
      "train_batch (Avg. Loss 0.499, Accuracy 83.0): 100%|████████████████████████████████| 1000/1000 [00:19<00:00, 50.71it/s]\n",
      "Epoch 20 train loss: 0.49898184204101564\n",
      "test_batch (Avg. Loss 1.013, Accuracy 68.8): 100%|██████████████████████████████████| 834/834 [00:05<00:00, 153.02it/s]\n",
      "--- EPOCH 22/35 ---\n",
      "train_batch (Avg. Loss 0.461, Accuracy 84.2): 100%|████████████████████████████████| 1000/1000 [00:19<00:00, 50.72it/s]\n",
      "Epoch 21 train loss: 0.46149298095703123\n",
      "test_batch (Avg. Loss 1.055, Accuracy 68.8): 100%|██████████████████████████████████| 834/834 [00:05<00:00, 156.09it/s]\n",
      "--- EPOCH 23/35 ---\n",
      "train_batch (Avg. Loss 0.427, Accuracy 85.4): 100%|████████████████████████████████| 1000/1000 [00:19<00:00, 50.94it/s]\n",
      "Epoch 22 train loss: 0.427265625\n",
      "test_batch (Avg. Loss 1.154, Accuracy 67.9): 100%|██████████████████████████████████| 834/834 [00:05<00:00, 152.96it/s]\n",
      "*** Output file ./results\\test_run_L8_K32.json written\n",
      "Files already downloaded and verified\n",
      "Files already downloaded and verified\n",
      "--- EPOCH 1/35 ---\n",
      "train_batch (Avg. Loss 2.077, Accuracy 24.9): 100%|████████████████████████████████| 1000/1000 [00:26<00:00, 38.07it/s]\n",
      "Epoch 0 train loss: 2.077022705078125\n",
      "test_batch (Avg. Loss 1.887, Accuracy 32.8): 100%|██████████████████████████████████| 834/834 [00:05<00:00, 154.55it/s]\n",
      "--- EPOCH 2/35 ---\n",
      "train_batch (Avg. Loss 1.743, Accuracy 37.7): 100%|████████████████████████████████| 1000/1000 [00:26<00:00, 37.86it/s]\n",
      "Epoch 1 train loss: 1.7426343994140625\n",
      "test_batch (Avg. Loss 1.632, Accuracy 42.1): 100%|██████████████████████████████████| 834/834 [00:05<00:00, 152.52it/s]\n",
      "--- EPOCH 3/35 ---\n",
      "train_batch (Avg. Loss 1.537, Accuracy 45.0): 100%|████████████████████████████████| 1000/1000 [00:26<00:00, 37.92it/s]\n",
      "Epoch 2 train loss: 1.537441162109375\n",
      "test_batch (Avg. Loss 1.449, Accuracy 47.6): 100%|██████████████████████████████████| 834/834 [00:05<00:00, 153.02it/s]\n",
      "--- EPOCH 4/35 ---\n",
      "train_batch (Avg. Loss 1.403, Accuracy 49.8): 100%|████████████████████████████████| 1000/1000 [00:26<00:00, 37.91it/s]\n",
      "Epoch 3 train loss: 1.4025595703125\n",
      "test_batch (Avg. Loss 1.332, Accuracy 51.8): 100%|██████████████████████████████████| 834/834 [00:05<00:00, 154.44it/s]\n",
      "--- EPOCH 5/35 ---\n",
      "train_batch (Avg. Loss 1.293, Accuracy 54.0): 100%|████████████████████████████████| 1000/1000 [00:26<00:00, 37.91it/s]\n",
      "Epoch 4 train loss: 1.293021728515625\n",
      "test_batch (Avg. Loss 1.231, Accuracy 56.1): 100%|██████████████████████████████████| 834/834 [00:05<00:00, 151.03it/s]\n",
      "--- EPOCH 6/35 ---\n",
      "train_batch (Avg. Loss 1.187, Accuracy 57.9): 100%|████████████████████████████████| 1000/1000 [00:26<00:00, 37.42it/s]\n",
      "Epoch 5 train loss: 1.1869334716796875\n",
      "test_batch (Avg. Loss 1.126, Accuracy 60.1): 100%|██████████████████████████████████| 834/834 [00:05<00:00, 142.56it/s]\n",
      "--- EPOCH 7/35 ---\n",
      "train_batch (Avg. Loss 1.084, Accuracy 61.7): 100%|████████████████████████████████| 1000/1000 [00:26<00:00, 37.55it/s]\n",
      "Epoch 6 train loss: 1.0835858154296876\n",
      "test_batch (Avg. Loss 1.053, Accuracy 62.7): 100%|██████████████████████████████████| 834/834 [00:05<00:00, 152.41it/s]\n",
      "--- EPOCH 8/35 ---\n",
      "train_batch (Avg. Loss 0.992, Accuracy 65.1): 100%|████████████████████████████████| 1000/1000 [00:26<00:00, 37.79it/s]\n",
      "Epoch 7 train loss: 0.9923370971679687\n",
      "test_batch (Avg. Loss 1.005, Accuracy 64.8): 100%|██████████████████████████████████| 834/834 [00:05<00:00, 150.56it/s]\n",
      "--- EPOCH 9/35 ---\n"
     ]
    },
    {
     "name": "stdout",
     "output_type": "stream",
     "text": [
      "train_batch (Avg. Loss 0.913, Accuracy 68.0): 100%|████████████████████████████████| 1000/1000 [00:26<00:00, 38.32it/s]\n",
      "Epoch 8 train loss: 0.9129404296875\n",
      "test_batch (Avg. Loss 0.953, Accuracy 67.0): 100%|██████████████████████████████████| 834/834 [00:05<00:00, 153.22it/s]\n",
      "--- EPOCH 10/35 ---\n",
      "train_batch (Avg. Loss 0.845, Accuracy 70.5): 100%|████████████████████████████████| 1000/1000 [00:26<00:00, 38.21it/s]\n",
      "Epoch 9 train loss: 0.8453770141601562\n",
      "test_batch (Avg. Loss 0.915, Accuracy 68.5): 100%|██████████████████████████████████| 834/834 [00:05<00:00, 149.83it/s]\n",
      "--- EPOCH 11/35 ---\n",
      "train_batch (Avg. Loss 0.785, Accuracy 72.7): 100%|████████████████████████████████| 1000/1000 [00:26<00:00, 38.26it/s]\n",
      "Epoch 10 train loss: 0.78482373046875\n",
      "test_batch (Avg. Loss 0.883, Accuracy 69.8): 100%|██████████████████████████████████| 834/834 [00:05<00:00, 153.30it/s]\n",
      "--- EPOCH 12/35 ---\n",
      "train_batch (Avg. Loss 0.729, Accuracy 74.6): 100%|████████████████████████████████| 1000/1000 [00:26<00:00, 38.19it/s]\n",
      "Epoch 11 train loss: 0.7289205932617188\n",
      "test_batch (Avg. Loss 0.860, Accuracy 70.6): 100%|██████████████████████████████████| 834/834 [00:05<00:00, 154.35it/s]\n",
      "--- EPOCH 13/35 ---\n",
      "train_batch (Avg. Loss 0.674, Accuracy 76.6): 100%|████████████████████████████████| 1000/1000 [00:26<00:00, 38.01it/s]\n",
      "Epoch 12 train loss: 0.6743223266601562\n",
      "test_batch (Avg. Loss 0.841, Accuracy 71.2): 100%|██████████████████████████████████| 834/834 [00:05<00:00, 154.55it/s]\n",
      "--- EPOCH 14/35 ---\n",
      "train_batch (Avg. Loss 0.620, Accuracy 78.5): 100%|████████████████████████████████| 1000/1000 [00:25<00:00, 38.77it/s]\n",
      "Epoch 13 train loss: 0.6197437744140625\n",
      "test_batch (Avg. Loss 0.826, Accuracy 72.1): 100%|██████████████████████████████████| 834/834 [00:05<00:00, 160.29it/s]\n",
      "--- EPOCH 15/35 ---\n",
      "train_batch (Avg. Loss 0.567, Accuracy 80.2): 100%|████████████████████████████████| 1000/1000 [00:25<00:00, 39.24it/s]\n",
      "Epoch 14 train loss: 0.5673726806640625\n",
      "test_batch (Avg. Loss 0.827, Accuracy 72.6): 100%|██████████████████████████████████| 834/834 [00:05<00:00, 161.00it/s]\n",
      "--- EPOCH 16/35 ---\n",
      "train_batch (Avg. Loss 0.513, Accuracy 82.3): 100%|████████████████████████████████| 1000/1000 [00:25<00:00, 38.87it/s]\n",
      "Epoch 15 train loss: 0.513457275390625\n",
      "test_batch (Avg. Loss 0.842, Accuracy 73.0): 100%|██████████████████████████████████| 834/834 [00:05<00:00, 149.78it/s]\n",
      "--- EPOCH 17/35 ---\n",
      "train_batch (Avg. Loss 0.462, Accuracy 84.3): 100%|████████████████████████████████| 1000/1000 [00:26<00:00, 37.91it/s]\n",
      "Epoch 16 train loss: 0.46167416381835935\n",
      "test_batch (Avg. Loss 0.864, Accuracy 73.0): 100%|██████████████████████████████████| 834/834 [00:05<00:00, 148.76it/s]\n",
      "--- EPOCH 18/35 ---\n",
      "train_batch (Avg. Loss 0.411, Accuracy 86.3): 100%|████████████████████████████████| 1000/1000 [00:26<00:00, 38.17it/s]\n",
      "Epoch 17 train loss: 0.41068658447265627\n",
      "test_batch (Avg. Loss 0.889, Accuracy 73.2): 100%|██████████████████████████████████| 834/834 [00:05<00:00, 152.52it/s]\n",
      "--- EPOCH 19/35 ---\n",
      "train_batch (Avg. Loss 0.363, Accuracy 88.1): 100%|████████████████████████████████| 1000/1000 [00:26<00:00, 38.26it/s]\n",
      "Epoch 18 train loss: 0.3632273864746094\n",
      "test_batch (Avg. Loss 0.938, Accuracy 72.5): 100%|██████████████████████████████████| 834/834 [00:05<00:00, 152.80it/s]\n",
      "*** Output file ./results\\test_run_L8_K64.json written\n",
      "Files already downloaded and verified\n",
      "Files already downloaded and verified\n",
      "--- EPOCH 1/35 ---\n",
      "train_batch (Avg. Loss 2.301, Accuracy 9.6): 100%|█████████████████████████████████| 1000/1000 [00:28<00:00, 35.41it/s]\n",
      "Epoch 0 train loss: 2.301356689453125\n",
      "test_batch (Avg. Loss 2.296, Accuracy 10.0): 100%|██████████████████████████████████| 834/834 [00:07<00:00, 107.63it/s]\n",
      "--- EPOCH 2/35 ---\n",
      "train_batch (Avg. Loss 2.284, Accuracy 13.7): 100%|████████████████████████████████| 1000/1000 [00:28<00:00, 35.42it/s]\n",
      "Epoch 1 train loss: 2.284232177734375\n",
      "test_batch (Avg. Loss 2.260, Accuracy 16.5): 100%|██████████████████████████████████| 834/834 [00:07<00:00, 106.63it/s]\n",
      "--- EPOCH 3/35 ---\n",
      "train_batch (Avg. Loss 2.156, Accuracy 19.6): 100%|████████████████████████████████| 1000/1000 [00:28<00:00, 35.58it/s]\n",
      "Epoch 2 train loss: 2.156344970703125\n",
      "test_batch (Avg. Loss 2.043, Accuracy 22.9): 100%|██████████████████████████████████| 834/834 [00:07<00:00, 106.23it/s]\n",
      "--- EPOCH 4/35 ---\n",
      "train_batch (Avg. Loss 1.994, Accuracy 25.5): 100%|████████████████████████████████| 1000/1000 [00:28<00:00, 35.26it/s]\n",
      "Epoch 3 train loss: 1.9935145263671874\n",
      "test_batch (Avg. Loss 1.906, Accuracy 29.8): 100%|██████████████████████████████████| 834/834 [00:07<00:00, 109.29it/s]\n",
      "--- EPOCH 5/35 ---\n",
      "train_batch (Avg. Loss 1.803, Accuracy 33.2): 100%|████████████████████████████████| 1000/1000 [00:28<00:00, 34.97it/s]\n",
      "Epoch 4 train loss: 1.8027633056640624\n",
      "test_batch (Avg. Loss 1.748, Accuracy 34.9): 100%|██████████████████████████████████| 834/834 [00:07<00:00, 111.23it/s]\n",
      "--- EPOCH 6/35 ---\n",
      "train_batch (Avg. Loss 1.638, Accuracy 39.5): 100%|████████████████████████████████| 1000/1000 [00:28<00:00, 35.36it/s]\n",
      "Epoch 5 train loss: 1.6382579345703125\n",
      "test_batch (Avg. Loss 1.602, Accuracy 40.7): 100%|██████████████████████████████████| 834/834 [00:07<00:00, 109.22it/s]\n",
      "--- EPOCH 7/35 ---\n",
      "train_batch (Avg. Loss 1.522, Accuracy 44.0): 100%|████████████████████████████████| 1000/1000 [00:28<00:00, 34.99it/s]\n",
      "Epoch 6 train loss: 1.5223885498046874\n",
      "test_batch (Avg. Loss 1.501, Accuracy 44.7): 100%|██████████████████████████████████| 834/834 [00:07<00:00, 109.37it/s]\n",
      "--- EPOCH 8/35 ---\n",
      "train_batch (Avg. Loss 1.439, Accuracy 47.5): 100%|████████████████████████████████| 1000/1000 [00:28<00:00, 34.89it/s]\n",
      "Epoch 7 train loss: 1.4385777587890625\n",
      "test_batch (Avg. Loss 1.436, Accuracy 47.1): 100%|██████████████████████████████████| 834/834 [00:07<00:00, 112.09it/s]\n",
      "--- EPOCH 9/35 ---\n",
      "train_batch (Avg. Loss 1.367, Accuracy 50.3): 100%|████████████████████████████████| 1000/1000 [00:28<00:00, 35.43it/s]\n",
      "Epoch 8 train loss: 1.367194580078125\n",
      "test_batch (Avg. Loss 1.371, Accuracy 49.9): 100%|██████████████████████████████████| 834/834 [00:07<00:00, 113.86it/s]\n",
      "--- EPOCH 10/35 ---\n",
      "train_batch (Avg. Loss 1.300, Accuracy 52.8): 100%|████████████████████████████████| 1000/1000 [00:28<00:00, 35.41it/s]\n",
      "Epoch 9 train loss: 1.29989453125\n",
      "test_batch (Avg. Loss 1.315, Accuracy 52.2): 100%|██████████████████████████████████| 834/834 [00:07<00:00, 114.36it/s]\n",
      "--- EPOCH 11/35 ---\n",
      "train_batch (Avg. Loss 1.238, Accuracy 55.2): 100%|████████████████████████████████| 1000/1000 [00:28<00:00, 35.40it/s]\n",
      "Epoch 10 train loss: 1.2375838623046875\n",
      "test_batch (Avg. Loss 1.254, Accuracy 54.7): 100%|██████████████████████████████████| 834/834 [00:07<00:00, 112.51it/s]\n",
      "--- EPOCH 12/35 ---\n",
      "train_batch (Avg. Loss 1.185, Accuracy 57.2): 100%|████████████████████████████████| 1000/1000 [00:28<00:00, 35.47it/s]\n",
      "Epoch 11 train loss: 1.18479150390625\n",
      "test_batch (Avg. Loss 1.203, Accuracy 56.7): 100%|██████████████████████████████████| 834/834 [00:07<00:00, 110.63it/s]\n",
      "--- EPOCH 13/35 ---\n",
      "train_batch (Avg. Loss 1.135, Accuracy 59.0): 100%|████████████████████████████████| 1000/1000 [00:28<00:00, 35.26it/s]\n",
      "Epoch 12 train loss: 1.13544189453125\n",
      "test_batch (Avg. Loss 1.165, Accuracy 58.5): 100%|██████████████████████████████████| 834/834 [00:07<00:00, 113.66it/s]\n",
      "--- EPOCH 14/35 ---\n",
      "train_batch (Avg. Loss 1.090, Accuracy 60.9): 100%|████████████████████████████████| 1000/1000 [00:28<00:00, 35.36it/s]\n",
      "Epoch 13 train loss: 1.0896611328125\n",
      "test_batch (Avg. Loss 1.115, Accuracy 60.2): 100%|██████████████████████████████████| 834/834 [00:07<00:00, 112.72it/s]\n",
      "--- EPOCH 15/35 ---\n",
      "train_batch (Avg. Loss 1.046, Accuracy 62.5): 100%|████████████████████████████████| 1000/1000 [00:28<00:00, 35.40it/s]\n",
      "Epoch 14 train loss: 1.0458104248046876\n",
      "test_batch (Avg. Loss 1.079, Accuracy 61.5): 100%|██████████████████████████████████| 834/834 [00:07<00:00, 114.17it/s]\n",
      "--- EPOCH 16/35 ---\n",
      "train_batch (Avg. Loss 1.007, Accuracy 64.0): 100%|████████████████████████████████| 1000/1000 [00:28<00:00, 35.57it/s]\n",
      "Epoch 15 train loss: 1.0066953125\n",
      "test_batch (Avg. Loss 1.052, Accuracy 62.6): 100%|██████████████████████████████████| 834/834 [00:07<00:00, 112.89it/s]\n",
      "--- EPOCH 17/35 ---\n"
     ]
    },
    {
     "name": "stdout",
     "output_type": "stream",
     "text": [
      "train_batch (Avg. Loss 0.969, Accuracy 65.4): 100%|████████████████████████████████| 1000/1000 [00:28<00:00, 35.18it/s]\n",
      "Epoch 16 train loss: 0.9690750122070313\n",
      "test_batch (Avg. Loss 1.040, Accuracy 63.3): 100%|██████████████████████████████████| 834/834 [00:07<00:00, 104.32it/s]\n",
      "--- EPOCH 18/35 ---\n",
      "train_batch (Avg. Loss 0.936, Accuracy 66.7): 100%|████████████████████████████████| 1000/1000 [00:28<00:00, 35.42it/s]\n",
      "Epoch 17 train loss: 0.9364315185546875\n",
      "test_batch (Avg. Loss 1.037, Accuracy 63.5): 100%|██████████████████████████████████| 834/834 [00:07<00:00, 105.77it/s]\n",
      "--- EPOCH 19/35 ---\n",
      "train_batch (Avg. Loss 0.903, Accuracy 67.9): 100%|████████████████████████████████| 1000/1000 [00:28<00:00, 35.36it/s]\n",
      "Epoch 18 train loss: 0.9033301391601563\n",
      "test_batch (Avg. Loss 1.030, Accuracy 63.9): 100%|██████████████████████████████████| 834/834 [00:08<00:00, 103.72it/s]\n",
      "--- EPOCH 20/35 ---\n",
      "train_batch (Avg. Loss 0.872, Accuracy 69.0): 100%|████████████████████████████████| 1000/1000 [00:28<00:00, 35.43it/s]\n",
      "Epoch 19 train loss: 0.8724494018554687\n",
      "test_batch (Avg. Loss 1.019, Accuracy 64.8): 100%|██████████████████████████████████| 834/834 [00:08<00:00, 103.62it/s]\n",
      "--- EPOCH 21/35 ---\n",
      "train_batch (Avg. Loss 0.842, Accuracy 70.2): 100%|████████████████████████████████| 1000/1000 [00:28<00:00, 35.34it/s]\n",
      "Epoch 20 train loss: 0.8422498168945313\n",
      "test_batch (Avg. Loss 1.012, Accuracy 64.7): 100%|██████████████████████████████████| 834/834 [00:08<00:00, 103.88it/s]\n",
      "--- EPOCH 22/35 ---\n",
      "train_batch (Avg. Loss 0.813, Accuracy 71.4): 100%|████████████████████████████████| 1000/1000 [00:28<00:00, 35.41it/s]\n",
      "Epoch 21 train loss: 0.8125968627929687\n",
      "test_batch (Avg. Loss 1.011, Accuracy 65.0): 100%|██████████████████████████████████| 834/834 [00:07<00:00, 105.23it/s]\n",
      "--- EPOCH 23/35 ---\n",
      "train_batch (Avg. Loss 0.784, Accuracy 72.5): 100%|████████████████████████████████| 1000/1000 [00:28<00:00, 35.53it/s]\n",
      "Epoch 22 train loss: 0.784254638671875\n",
      "test_batch (Avg. Loss 0.984, Accuracy 65.9): 100%|██████████████████████████████████| 834/834 [00:07<00:00, 104.38it/s]\n",
      "--- EPOCH 24/35 ---\n",
      "train_batch (Avg. Loss 0.759, Accuracy 73.5): 100%|████████████████████████████████| 1000/1000 [00:28<00:00, 35.36it/s]\n",
      "Epoch 23 train loss: 0.7588081665039063\n",
      "test_batch (Avg. Loss 0.979, Accuracy 66.3): 100%|██████████████████████████████████| 834/834 [00:07<00:00, 105.25it/s]\n",
      "--- EPOCH 25/35 ---\n",
      "train_batch (Avg. Loss 0.733, Accuracy 74.4): 100%|████████████████████████████████| 1000/1000 [00:28<00:00, 35.20it/s]\n",
      "Epoch 24 train loss: 0.7334435424804687\n",
      "test_batch (Avg. Loss 0.990, Accuracy 66.3): 100%|██████████████████████████████████| 834/834 [00:07<00:00, 105.55it/s]\n",
      "--- EPOCH 26/35 ---\n",
      "train_batch (Avg. Loss 0.710, Accuracy 75.2): 100%|████████████████████████████████| 1000/1000 [00:28<00:00, 35.56it/s]\n",
      "Epoch 25 train loss: 0.70981103515625\n",
      "test_batch (Avg. Loss 0.968, Accuracy 67.0): 100%|██████████████████████████████████| 834/834 [00:07<00:00, 105.45it/s]\n",
      "--- EPOCH 27/35 ---\n",
      "train_batch (Avg. Loss 0.685, Accuracy 76.1): 100%|████████████████████████████████| 1000/1000 [00:28<00:00, 35.29it/s]\n",
      "Epoch 26 train loss: 0.6850479125976563\n",
      "test_batch (Avg. Loss 0.963, Accuracy 67.5): 100%|██████████████████████████████████| 834/834 [00:07<00:00, 105.05it/s]\n",
      "--- EPOCH 28/35 ---\n",
      "train_batch (Avg. Loss 0.663, Accuracy 76.8): 100%|████████████████████████████████| 1000/1000 [00:28<00:00, 35.55it/s]\n",
      "Epoch 27 train loss: 0.6627523803710937\n",
      "test_batch (Avg. Loss 0.960, Accuracy 67.8): 100%|██████████████████████████████████| 834/834 [00:07<00:00, 105.45it/s]\n",
      "--- EPOCH 29/35 ---\n",
      "train_batch (Avg. Loss 0.641, Accuracy 77.6): 100%|████████████████████████████████| 1000/1000 [00:28<00:00, 35.00it/s]\n",
      "Epoch 28 train loss: 0.6411394653320313\n",
      "test_batch (Avg. Loss 0.947, Accuracy 68.6): 100%|██████████████████████████████████| 834/834 [00:08<00:00, 102.67it/s]\n",
      "--- EPOCH 30/35 ---\n",
      "train_batch (Avg. Loss 0.622, Accuracy 78.4): 100%|████████████████████████████████| 1000/1000 [00:28<00:00, 34.81it/s]\n",
      "Epoch 29 train loss: 0.622002197265625\n",
      "test_batch (Avg. Loss 0.962, Accuracy 68.4): 100%|██████████████████████████████████| 834/834 [00:07<00:00, 111.89it/s]\n",
      "--- EPOCH 31/35 ---\n",
      "train_batch (Avg. Loss 0.604, Accuracy 79.1): 100%|████████████████████████████████| 1000/1000 [00:28<00:00, 35.21it/s]\n",
      "Epoch 30 train loss: 0.603625244140625\n",
      "test_batch (Avg. Loss 0.967, Accuracy 68.7): 100%|██████████████████████████████████| 834/834 [00:07<00:00, 109.51it/s]\n",
      "--- EPOCH 32/35 ---\n",
      "train_batch (Avg. Loss 0.583, Accuracy 79.7): 100%|████████████████████████████████| 1000/1000 [00:28<00:00, 35.21it/s]\n",
      "Epoch 31 train loss: 0.5834775390625\n",
      "test_batch (Avg. Loss 0.974, Accuracy 68.7): 100%|██████████████████████████████████| 834/834 [00:07<00:00, 112.25it/s]\n",
      "--- EPOCH 33/35 ---\n",
      "train_batch (Avg. Loss 0.562, Accuracy 80.4): 100%|████████████████████████████████| 1000/1000 [00:28<00:00, 35.24it/s]\n",
      "Epoch 32 train loss: 0.56172509765625\n",
      "test_batch (Avg. Loss 1.002, Accuracy 68.7): 100%|██████████████████████████████████| 834/834 [00:07<00:00, 113.72it/s]\n",
      "--- EPOCH 34/35 ---\n",
      "train_batch (Avg. Loss 0.544, Accuracy 81.1): 100%|████████████████████████████████| 1000/1000 [00:28<00:00, 35.11it/s]\n",
      "Epoch 33 train loss: 0.5442102661132813\n",
      "test_batch (Avg. Loss 1.033, Accuracy 68.1): 100%|██████████████████████████████████| 834/834 [00:07<00:00, 107.83it/s]\n",
      "*** Output file ./results\\test_run_L16_K32.json written\n",
      "Files already downloaded and verified\n",
      "Files already downloaded and verified\n",
      "--- EPOCH 1/35 ---\n",
      "train_batch (Avg. Loss 2.295, Accuracy 12.2): 100%|████████████████████████████████| 1000/1000 [00:34<00:00, 28.60it/s]\n",
      "Epoch 0 train loss: 2.294579833984375\n",
      "test_batch (Avg. Loss 2.283, Accuracy 15.4): 100%|██████████████████████████████████| 834/834 [00:07<00:00, 106.48it/s]\n",
      "--- EPOCH 2/35 ---\n",
      "train_batch (Avg. Loss 2.218, Accuracy 18.3): 100%|████████████████████████████████| 1000/1000 [00:34<00:00, 28.69it/s]\n",
      "Epoch 1 train loss: 2.218115478515625\n",
      "test_batch (Avg. Loss 2.051, Accuracy 24.0): 100%|██████████████████████████████████| 834/834 [00:07<00:00, 106.14it/s]\n",
      "--- EPOCH 3/35 ---\n",
      "train_batch (Avg. Loss 1.953, Accuracy 28.8): 100%|████████████████████████████████| 1000/1000 [00:34<00:00, 28.67it/s]\n",
      "Epoch 2 train loss: 1.953003173828125\n",
      "test_batch (Avg. Loss 1.850, Accuracy 34.1): 100%|██████████████████████████████████| 834/834 [00:07<00:00, 106.04it/s]\n",
      "--- EPOCH 4/35 ---\n",
      "train_batch (Avg. Loss 1.758, Accuracy 36.8): 100%|████████████████████████████████| 1000/1000 [00:34<00:00, 28.70it/s]\n",
      "Epoch 3 train loss: 1.757793701171875\n",
      "test_batch (Avg. Loss 1.654, Accuracy 40.8): 100%|██████████████████████████████████| 834/834 [00:07<00:00, 104.25it/s]\n",
      "--- EPOCH 5/35 ---\n",
      "train_batch (Avg. Loss 1.603, Accuracy 42.4): 100%|████████████████████████████████| 1000/1000 [00:34<00:00, 28.66it/s]\n",
      "Epoch 4 train loss: 1.602589599609375\n",
      "test_batch (Avg. Loss 1.528, Accuracy 45.0): 100%|██████████████████████████████████| 834/834 [00:07<00:00, 104.82it/s]\n",
      "--- EPOCH 6/35 ---\n",
      "train_batch (Avg. Loss 1.492, Accuracy 46.2): 100%|████████████████████████████████| 1000/1000 [00:34<00:00, 28.61it/s]\n",
      "Epoch 5 train loss: 1.492216552734375\n",
      "test_batch (Avg. Loss 1.437, Accuracy 48.5): 100%|██████████████████████████████████| 834/834 [00:07<00:00, 105.53it/s]\n",
      "--- EPOCH 7/35 ---\n",
      "train_batch (Avg. Loss 1.414, Accuracy 48.8): 100%|████████████████████████████████| 1000/1000 [00:35<00:00, 28.48it/s]\n",
      "Epoch 6 train loss: 1.4137911376953125\n",
      "test_batch (Avg. Loss 1.365, Accuracy 51.1): 100%|██████████████████████████████████| 834/834 [00:07<00:00, 105.71it/s]\n",
      "--- EPOCH 8/35 ---\n",
      "train_batch (Avg. Loss 1.349, Accuracy 51.3): 100%|████████████████████████████████| 1000/1000 [00:35<00:00, 28.55it/s]\n",
      "Epoch 7 train loss: 1.3491090087890625\n",
      "test_batch (Avg. Loss 1.310, Accuracy 53.1): 100%|██████████████████████████████████| 834/834 [00:07<00:00, 106.91it/s]\n",
      "--- EPOCH 9/35 ---\n",
      "train_batch (Avg. Loss 1.288, Accuracy 53.5): 100%|████████████████████████████████| 1000/1000 [00:34<00:00, 28.63it/s]\n",
      "Epoch 8 train loss: 1.2878338623046874\n",
      "test_batch (Avg. Loss 1.262, Accuracy 55.4): 100%|██████████████████████████████████| 834/834 [00:07<00:00, 106.69it/s]\n"
     ]
    },
    {
     "name": "stdout",
     "output_type": "stream",
     "text": [
      "--- EPOCH 10/35 ---\n",
      "train_batch (Avg. Loss 1.222, Accuracy 56.2): 100%|████████████████████████████████| 1000/1000 [00:34<00:00, 28.81it/s]\n",
      "Epoch 9 train loss: 1.2220479736328125\n",
      "test_batch (Avg. Loss 1.230, Accuracy 56.9): 100%|██████████████████████████████████| 834/834 [00:07<00:00, 106.54it/s]\n",
      "--- EPOCH 11/35 ---\n",
      "train_batch (Avg. Loss 1.155, Accuracy 58.7): 100%|████████████████████████████████| 1000/1000 [00:34<00:00, 28.64it/s]\n",
      "Epoch 10 train loss: 1.15477978515625\n",
      "test_batch (Avg. Loss 1.175, Accuracy 58.4): 100%|██████████████████████████████████| 834/834 [00:07<00:00, 107.56it/s]\n",
      "--- EPOCH 12/35 ---\n",
      "train_batch (Avg. Loss 1.091, Accuracy 61.2): 100%|████████████████████████████████| 1000/1000 [00:34<00:00, 28.78it/s]\n",
      "Epoch 11 train loss: 1.0911729736328124\n",
      "test_batch (Avg. Loss 1.112, Accuracy 60.6): 100%|██████████████████████████████████| 834/834 [00:08<00:00, 104.14it/s]\n",
      "--- EPOCH 13/35 ---\n",
      "train_batch (Avg. Loss 1.028, Accuracy 63.5): 100%|████████████████████████████████| 1000/1000 [00:34<00:00, 28.83it/s]\n",
      "Epoch 12 train loss: 1.027612060546875\n",
      "test_batch (Avg. Loss 1.040, Accuracy 63.2): 100%|██████████████████████████████████| 834/834 [00:07<00:00, 106.18it/s]\n",
      "--- EPOCH 14/35 ---\n",
      "train_batch (Avg. Loss 0.967, Accuracy 65.9): 100%|████████████████████████████████| 1000/1000 [00:34<00:00, 28.69it/s]\n",
      "Epoch 13 train loss: 0.9665224609375\n",
      "test_batch (Avg. Loss 0.997, Accuracy 65.1): 100%|██████████████████████████████████| 834/834 [00:07<00:00, 104.47it/s]\n",
      "--- EPOCH 15/35 ---\n",
      "train_batch (Avg. Loss 0.910, Accuracy 67.9): 100%|████████████████████████████████| 1000/1000 [00:34<00:00, 28.69it/s]\n",
      "Epoch 14 train loss: 0.9100479736328125\n",
      "test_batch (Avg. Loss 0.963, Accuracy 66.2): 100%|██████████████████████████████████| 834/834 [00:07<00:00, 104.64it/s]\n",
      "--- EPOCH 16/35 ---\n",
      "train_batch (Avg. Loss 0.858, Accuracy 70.0): 100%|████████████████████████████████| 1000/1000 [00:34<00:00, 28.71it/s]\n",
      "Epoch 15 train loss: 0.8580896606445313\n",
      "test_batch (Avg. Loss 0.937, Accuracy 67.4): 100%|██████████████████████████████████| 834/834 [00:07<00:00, 106.18it/s]\n",
      "--- EPOCH 17/35 ---\n",
      "train_batch (Avg. Loss 0.809, Accuracy 71.6): 100%|████████████████████████████████| 1000/1000 [00:34<00:00, 28.75it/s]\n",
      "Epoch 16 train loss: 0.8092028198242187\n",
      "test_batch (Avg. Loss 0.920, Accuracy 67.8): 100%|██████████████████████████████████| 834/834 [00:07<00:00, 104.87it/s]\n",
      "--- EPOCH 18/35 ---\n",
      "train_batch (Avg. Loss 0.765, Accuracy 73.2): 100%|████████████████████████████████| 1000/1000 [00:34<00:00, 28.73it/s]\n",
      "Epoch 17 train loss: 0.7648656616210937\n",
      "test_batch (Avg. Loss 0.912, Accuracy 68.6): 100%|██████████████████████████████████| 834/834 [00:07<00:00, 105.05it/s]\n",
      "--- EPOCH 19/35 ---\n",
      "train_batch (Avg. Loss 0.722, Accuracy 74.7): 100%|████████████████████████████████| 1000/1000 [00:34<00:00, 28.78it/s]\n",
      "Epoch 18 train loss: 0.72150341796875\n",
      "test_batch (Avg. Loss 0.917, Accuracy 68.8): 100%|██████████████████████████████████| 834/834 [00:07<00:00, 105.36it/s]\n",
      "--- EPOCH 20/35 ---\n",
      "train_batch (Avg. Loss 0.679, Accuracy 76.4): 100%|████████████████████████████████| 1000/1000 [00:34<00:00, 28.71it/s]\n",
      "Epoch 19 train loss: 0.6791925659179687\n",
      "test_batch (Avg. Loss 0.907, Accuracy 69.6): 100%|██████████████████████████████████| 834/834 [00:07<00:00, 104.58it/s]\n",
      "--- EPOCH 21/35 ---\n",
      "train_batch (Avg. Loss 0.638, Accuracy 77.8): 100%|████████████████████████████████| 1000/1000 [00:34<00:00, 28.73it/s]\n",
      "Epoch 20 train loss: 0.6384970703125\n",
      "test_batch (Avg. Loss 0.907, Accuracy 69.6): 100%|██████████████████████████████████| 834/834 [00:07<00:00, 104.83it/s]\n",
      "--- EPOCH 22/35 ---\n",
      "train_batch (Avg. Loss 0.602, Accuracy 79.1): 100%|████████████████████████████████| 1000/1000 [00:34<00:00, 28.66it/s]\n",
      "Epoch 21 train loss: 0.6017402954101563\n",
      "test_batch (Avg. Loss 0.923, Accuracy 69.9): 100%|██████████████████████████████████| 834/834 [00:07<00:00, 106.53it/s]\n",
      "--- EPOCH 23/35 ---\n",
      "train_batch (Avg. Loss 0.567, Accuracy 80.4): 100%|████████████████████████████████| 1000/1000 [00:34<00:00, 28.72it/s]\n",
      "Epoch 22 train loss: 0.5666431884765625\n",
      "test_batch (Avg. Loss 0.919, Accuracy 70.3): 100%|██████████████████████████████████| 834/834 [00:07<00:00, 106.30it/s]\n",
      "--- EPOCH 24/35 ---\n",
      "train_batch (Avg. Loss 0.533, Accuracy 81.6): 100%|████████████████████████████████| 1000/1000 [00:34<00:00, 28.66it/s]\n",
      "Epoch 23 train loss: 0.532683837890625\n",
      "test_batch (Avg. Loss 0.933, Accuracy 70.5): 100%|██████████████████████████████████| 834/834 [00:07<00:00, 106.52it/s]\n",
      "--- EPOCH 25/35 ---\n",
      "train_batch (Avg. Loss 0.500, Accuracy 82.8): 100%|████████████████████████████████| 1000/1000 [00:34<00:00, 28.67it/s]\n",
      "Epoch 24 train loss: 0.4998658447265625\n",
      "test_batch (Avg. Loss 0.972, Accuracy 70.5): 100%|██████████████████████████████████| 834/834 [00:07<00:00, 105.85it/s]\n",
      "--- EPOCH 26/35 ---\n",
      "train_batch (Avg. Loss 0.470, Accuracy 83.7): 100%|████████████████████████████████| 1000/1000 [00:34<00:00, 28.67it/s]\n",
      "Epoch 25 train loss: 0.47013522338867186\n",
      "test_batch (Avg. Loss 0.983, Accuracy 71.0): 100%|██████████████████████████████████| 834/834 [00:07<00:00, 105.92it/s]\n",
      "--- EPOCH 27/35 ---\n",
      "train_batch (Avg. Loss 0.440, Accuracy 84.8): 100%|████████████████████████████████| 1000/1000 [00:35<00:00, 28.45it/s]\n",
      "Epoch 26 train loss: 0.440363037109375\n",
      "test_batch (Avg. Loss 1.092, Accuracy 69.5): 100%|██████████████████████████████████| 834/834 [00:08<00:00, 102.15it/s]\n",
      "--- EPOCH 28/35 ---\n",
      "train_batch (Avg. Loss 0.427, Accuracy 85.1): 100%|████████████████████████████████| 1000/1000 [00:36<00:00, 27.22it/s]\n",
      "Epoch 27 train loss: 0.42693936157226564\n",
      "test_batch (Avg. Loss 1.048, Accuracy 70.1): 100%|██████████████████████████████████| 834/834 [00:07<00:00, 105.59it/s]\n",
      "--- EPOCH 29/35 ---\n",
      "train_batch (Avg. Loss 0.412, Accuracy 85.6): 100%|████████████████████████████████| 1000/1000 [00:35<00:00, 28.50it/s]\n",
      "Epoch 28 train loss: 0.41205908203125\n",
      "test_batch (Avg. Loss 1.079, Accuracy 70.0): 100%|██████████████████████████████████| 834/834 [00:07<00:00, 106.46it/s]\n",
      "--- EPOCH 30/35 ---\n",
      "train_batch (Avg. Loss 0.399, Accuracy 86.0): 100%|████████████████████████████████| 1000/1000 [00:35<00:00, 28.56it/s]\n",
      "Epoch 29 train loss: 0.39899301147460936\n",
      "test_batch (Avg. Loss 0.995, Accuracy 72.0): 100%|██████████████████████████████████| 834/834 [00:07<00:00, 106.61it/s]\n",
      "--- EPOCH 31/35 ---\n",
      "train_batch (Avg. Loss 0.371, Accuracy 86.7): 100%|████████████████████████████████| 1000/1000 [00:34<00:00, 28.59it/s]\n",
      "Epoch 30 train loss: 0.3711893310546875\n",
      "test_batch (Avg. Loss 0.976, Accuracy 73.2): 100%|██████████████████████████████████| 834/834 [00:08<00:00, 102.45it/s]\n",
      "--- EPOCH 32/35 ---\n",
      "train_batch (Avg. Loss 0.347, Accuracy 87.7): 100%|████████████████████████████████| 1000/1000 [00:34<00:00, 28.64it/s]\n",
      "Epoch 31 train loss: 0.3467991638183594\n",
      "test_batch (Avg. Loss 1.032, Accuracy 72.5): 100%|██████████████████████████████████| 834/834 [00:07<00:00, 105.47it/s]\n",
      "--- EPOCH 33/35 ---\n",
      "train_batch (Avg. Loss 0.330, Accuracy 87.9): 100%|████████████████████████████████| 1000/1000 [00:34<00:00, 28.64it/s]\n",
      "Epoch 32 train loss: 0.3304111328125\n",
      "test_batch (Avg. Loss 1.067, Accuracy 72.0): 100%|██████████████████████████████████| 834/834 [00:07<00:00, 106.53it/s]\n",
      "--- EPOCH 34/35 ---\n",
      "train_batch (Avg. Loss 0.303, Accuracy 89.0): 100%|████████████████████████████████| 1000/1000 [00:35<00:00, 28.57it/s]\n",
      "Epoch 33 train loss: 0.3034823303222656\n",
      "test_batch (Avg. Loss 1.127, Accuracy 71.8): 100%|██████████████████████████████████| 834/834 [00:07<00:00, 105.92it/s]\n",
      "--- EPOCH 35/35 ---\n",
      "train_batch (Avg. Loss 0.280, Accuracy 89.7): 100%|████████████████████████████████| 1000/1000 [00:34<00:00, 28.61it/s]\n",
      "Epoch 34 train loss: 0.27975070190429685\n",
      "test_batch (Avg. Loss 1.135, Accuracy 72.7): 100%|██████████████████████████████████| 834/834 [00:07<00:00, 105.61it/s]\n",
      "*** Output file ./results\\test_run_L16_K64.json written\n"
     ]
    }
   ],
   "source": [
    "# TODO delete\n",
    "\n",
    "import hw2.experiments as experiments\n",
    "from hw2.experiments import load_experiment\n",
    "from cs236781.plot import plot_fit\n",
    "\n",
    "layers = [2, 4, 8, 16]\n",
    "\n",
    "for layers_per_block in layers:\n",
    "    experiments.run_experiment(\n",
    "        'test_run', seed=seed, bs_train=50, batches=20, epochs=35, early_stopping=5,\n",
    "        filters_per_layer=[32], layers_per_block=layers_per_block, pool_every=3, hidden_dims=[100],\n",
    "        model_type='resnet',\n",
    "    )\n",
    "\n",
    "    experiments.run_experiment(\n",
    "        'test_run', seed=seed, bs_train=50, batches=20, epochs=35, early_stopping=5,\n",
    "        filters_per_layer=[64], layers_per_block=layers_per_block, pool_every=3, hidden_dims=[100],\n",
    "        model_type='resnet',\n",
    "    )"
   ]
  },
  {
   "cell_type": "markdown",
   "metadata": {},
   "source": [
    "#### Experiment 1.1: Varying the network depth (`L`)"
   ]
  },
  {
   "cell_type": "markdown",
   "metadata": {},
   "source": [
    "First, we'll test the effect of the network depth on training.\n",
    "\n",
    "**Configuratons**:\n",
    "- `K=32` fixed, with `L=2,4,8,16` varying per run\n",
    "- `K=64` fixed, with `L=2,4,8,16` varying per run\n",
    "\n",
    "So 8 different runs in total.\n",
    "\n",
    "**Naming runs**:\n",
    "Each run should be named `exp1_1_L{}_K{}` where the braces are placeholders for the values. For example, the first run should be named `exp1_1_L2_K32`. "
   ]
  },
  {
   "cell_type": "markdown",
   "metadata": {},
   "source": [
    "**TODO**: Run the experiment on the above configuration with the `ConvClassifier` model. Make sure the result file names are as expected. Use the following blocks to display the results."
   ]
  },
  {
   "cell_type": "code",
   "execution_count": 13,
   "metadata": {},
   "outputs": [
    {
     "name": "stderr",
     "output_type": "stream",
     "text": [
      "No results found for pattern exp1_1_L*_K32*.json.\n"
     ]
    }
   ],
   "source": [
    "plot_exp_results('exp1_1_L*_K32*.json')"
   ]
  },
  {
   "cell_type": "code",
   "execution_count": 14,
   "metadata": {},
   "outputs": [
    {
     "name": "stderr",
     "output_type": "stream",
     "text": [
      "No results found for pattern exp1_1_L*_K64*.json.\n"
     ]
    }
   ],
   "source": [
    "plot_exp_results('exp1_1_L*_K64*.json')"
   ]
  },
  {
   "cell_type": "markdown",
   "metadata": {},
   "source": [
    "#### Experiment 1.2: Varying the number of filters per layer (`K`)"
   ]
  },
  {
   "cell_type": "markdown",
   "metadata": {},
   "source": [
    "Now we'll test the effect of the number of convolutional filters in each layer.\n",
    "\n",
    "**Configuratons**:\n",
    "- `L=2` fixed, with `K=[32],[64],[128],[256]` varying per run.\n",
    "- `L=4` fixed, with `K=[32],[64],[128],[256]` varying per run.\n",
    "- `L=8` fixed, with `K=[32],[64],[128],[256]` varying per run.\n",
    "\n",
    "So 12 different runs in total. To clarify, each run `K` takes the value of a list with a single element.\n",
    "\n",
    "**Naming runs**:\n",
    "Each run should be named `exp1_2_L{}_K{}` where the braces are placeholders for the values. For example, the first run should be named `exp1_2_L2_K32`. "
   ]
  },
  {
   "cell_type": "markdown",
   "metadata": {},
   "source": [
    "**TODO**: Run the experiment on the above configuration with the `ConvClassifier` model. Make sure the result file names are as expected. Use the following blocks to display the results."
   ]
  },
  {
   "cell_type": "code",
   "execution_count": 15,
   "metadata": {},
   "outputs": [
    {
     "name": "stderr",
     "output_type": "stream",
     "text": [
      "No results found for pattern exp1_2_L2*.json.\n"
     ]
    }
   ],
   "source": [
    "plot_exp_results('exp1_2_L2*.json')"
   ]
  },
  {
   "cell_type": "code",
   "execution_count": 16,
   "metadata": {},
   "outputs": [
    {
     "name": "stderr",
     "output_type": "stream",
     "text": [
      "No results found for pattern exp1_2_L4*.json.\n"
     ]
    }
   ],
   "source": [
    "plot_exp_results('exp1_2_L4*.json')"
   ]
  },
  {
   "cell_type": "code",
   "execution_count": 17,
   "metadata": {},
   "outputs": [
    {
     "name": "stderr",
     "output_type": "stream",
     "text": [
      "No results found for pattern exp1_2_L8*.json.\n"
     ]
    }
   ],
   "source": [
    "plot_exp_results('exp1_2_L8*.json')"
   ]
  },
  {
   "cell_type": "markdown",
   "metadata": {},
   "source": [
    "#### Experiment 1.3: Varying both the number of filters (`K`) and network depth (`L`)"
   ]
  },
  {
   "cell_type": "markdown",
   "metadata": {},
   "source": [
    "Now we'll test the effect of the number of convolutional filters in each layer.\n",
    "\n",
    "**Configuratons**:\n",
    "- `K=[64, 128, 256]` fixed with `L=1,2,3,4` varying per run.\n",
    "\n",
    "So 4 different runs in total. To clarify, each run `K` takes the value of an array with a three elements.\n",
    "\n",
    "**Naming runs**:\n",
    "Each run should be named `exp1_3_L{}_K{}-{}-{}` where the braces are placeholders for the values. For example, the first run should be named `exp1_3_L1_K64-128-256`. "
   ]
  },
  {
   "cell_type": "markdown",
   "metadata": {},
   "source": [
    "**TODO**: Run the experiment on the above configuration  with the `ConvClassifier` model. Make sure the result file names are as expected. Use the following blocks to display the results."
   ]
  },
  {
   "cell_type": "code",
   "execution_count": 18,
   "metadata": {},
   "outputs": [
    {
     "name": "stderr",
     "output_type": "stream",
     "text": [
      "No results found for pattern exp1_3*.json.\n"
     ]
    }
   ],
   "source": [
    "plot_exp_results('exp1_3*.json')"
   ]
  },
  {
   "cell_type": "markdown",
   "metadata": {},
   "source": [
    "#### Experiment 1.4: Adding depth with Residual Networks"
   ]
  },
  {
   "cell_type": "markdown",
   "metadata": {},
   "source": [
    "Now we'll test the effect of skip connections on the training and performance.\n",
    "\n",
    "**Configuratons**:\n",
    "- `K=[32]` fixed with `L=8,16,32` varying per run.\n",
    "- `K=[64, 128, 256]` fixed with `L=2,4,8` varying per run.\n",
    "\n",
    "So 6 different runs in total.\n",
    "\n",
    "**Naming runs**:\n",
    "Each run should be named `exp1_4_L{}_K{}-{}-{}` where the braces are placeholders for the values."
   ]
  },
  {
   "cell_type": "markdown",
   "metadata": {},
   "source": [
    "**TODO**: Run the experiment on the above configuration with the `ResNetClassifier` model. Make sure the result file names are as expected. Use the following blocks to display the results."
   ]
  },
  {
   "cell_type": "code",
   "execution_count": 19,
   "metadata": {},
   "outputs": [
    {
     "name": "stderr",
     "output_type": "stream",
     "text": [
      "No results found for pattern exp1_4_L*_K32.json.\n"
     ]
    }
   ],
   "source": [
    "plot_exp_results('exp1_4_L*_K32.json')"
   ]
  },
  {
   "cell_type": "code",
   "execution_count": 20,
   "metadata": {},
   "outputs": [
    {
     "name": "stderr",
     "output_type": "stream",
     "text": [
      "No results found for pattern exp1_4_L*_K64*.json.\n"
     ]
    }
   ],
   "source": [
    "plot_exp_results('exp1_4_L*_K64*.json')"
   ]
  },
  {
   "cell_type": "markdown",
   "metadata": {},
   "source": [
    "### Experiment 2: Custom network architecture"
   ]
  },
  {
   "cell_type": "markdown",
   "metadata": {},
   "source": [
    "In this part you will create your own custom network architecture based on the `ConvClassifier` you've implemented.\n",
    "\n",
    "Try to overcome some of the limitations your experiment 1 results, using what you learned in the course.\n",
    "\n",
    "You are free to add whatever you like to the model, for instance \n",
    "- Batch normalization\n",
    "- Dropout layers\n",
    "- Skip connections\n",
    "- Change kernel spatial sizes and strides\n",
    "- Custom blocks or ideas from known architectures (e.g. inception module)\n",
    "\n",
    "Just make sure to keep the model's `init` API identical (or maybe just add parameters)."
   ]
  },
  {
   "cell_type": "markdown",
   "metadata": {},
   "source": [
    "**TODO**: Implement your custom architecture in the `YourCodeNet` class within the `hw2/cnn.py` module."
   ]
  },
  {
   "cell_type": "code",
   "execution_count": 21,
   "metadata": {},
   "outputs": [
    {
     "name": "stdout",
     "output_type": "stream",
     "text": [
      "YourCodeNet(\n",
      "  (feature_extractor): Sequential(\n",
      "    (0): Conv2d(3, 32, kernel_size=(3, 3), stride=(1, 1), padding=(1, 1))\n",
      "    (1): ReLU()\n",
      "    (2): Conv2d(32, 32, kernel_size=(3, 3), stride=(1, 1), padding=(1, 1))\n",
      "    (3): ReLU()\n",
      "    (4): MaxPool2d(kernel_size=2, stride=2, padding=0, dilation=1, ceil_mode=False)\n",
      "    (5): Conv2d(32, 32, kernel_size=(3, 3), stride=(1, 1), padding=(1, 1))\n",
      "    (6): ReLU()\n",
      "    (7): Conv2d(32, 32, kernel_size=(3, 3), stride=(1, 1), padding=(1, 1))\n",
      "    (8): ReLU()\n",
      "    (9): MaxPool2d(kernel_size=2, stride=2, padding=0, dilation=1, ceil_mode=False)\n",
      "  )\n",
      "  (classifier): Sequential(\n",
      "    (0): Linear(in_features=20000, out_features=100, bias=True)\n",
      "    (1): ReLU()\n",
      "    (2): Linear(in_features=100, out_features=100, bias=True)\n",
      "    (3): ReLU()\n",
      "    (4): Linear(in_features=100, out_features=10, bias=True)\n",
      "  )\n",
      ")\n",
      "out = tensor([[-0.4733, -0.5248,  0.1698,  0.2607,  0.9842, -0.1944,  0.7836,  0.6179,\n",
      "          0.8109, -0.2685]], grad_fn=<AddmmBackward>)\n"
     ]
    }
   ],
   "source": [
    "net = cnn.YourCodeNet((3,100,100), 10, channels=[32]*4, pool_every=2, hidden_dims=[100]*2)\n",
    "print(net)\n",
    "\n",
    "test_image = torch.randint(low=0, high=256, size=(3, 100, 100), dtype=torch.float).unsqueeze(0)\n",
    "test_out = net(test_image)\n",
    "print('out =', test_out)"
   ]
  },
  {
   "cell_type": "markdown",
   "metadata": {},
   "source": [
    "#### Experiment 2 Configuration"
   ]
  },
  {
   "cell_type": "markdown",
   "metadata": {},
   "source": [
    "Run your custom model on at least the following:\n",
    "\n",
    "**Configuratons**:\n",
    "- `K=[32, 64, 128]` fixed with `L=3,6,9,12` varying per run.\n",
    "\n",
    "So 4 different runs in total. To clarify, each run `K` takes the value of an array with a three elements.\n",
    "\n",
    "If you want, you can add some extra runs following the same pattern.\n",
    "Try to see how deep a model you can train.\n",
    "\n",
    "**Naming runs**:\n",
    "Each run should be named `exp2_L{}_K{}-{}-{}-{}` where the braces are placeholders for the values. For example, the first run should be named `exp2_L3_K32-64-128`. "
   ]
  },
  {
   "cell_type": "markdown",
   "metadata": {},
   "source": [
    "**TODO**: Run the experiment on the above configuration with the `YourCodeNet` model. Make sure the result file names are as expected. Use the following blocks to display the results."
   ]
  },
  {
   "cell_type": "code",
   "execution_count": 22,
   "metadata": {},
   "outputs": [
    {
     "name": "stderr",
     "output_type": "stream",
     "text": [
      "No results found for pattern exp2*.json.\n"
     ]
    }
   ],
   "source": [
    "plot_exp_results('exp2*.json')"
   ]
  },
  {
   "cell_type": "markdown",
   "metadata": {},
   "source": [
    "## Questions\n",
    "<a id=part3_4></a>"
   ]
  },
  {
   "cell_type": "markdown",
   "metadata": {},
   "source": [
    "**TODO** Answer the following questions. Write your answers in the appropriate variables in the module `hw2/answers.py`."
   ]
  },
  {
   "cell_type": "code",
   "execution_count": 23,
   "metadata": {},
   "outputs": [],
   "source": [
    "from cs236781.answers import display_answer\n",
    "import hw2.answers"
   ]
  },
  {
   "cell_type": "markdown",
   "metadata": {},
   "source": [
    "### Question 1 \n",
    "\n",
    "Analyze your results from experiment 1.1. In particular,\n",
    "1.  Explain the effect of depth on the accuracy. What depth produces the best results and why do you think that's the case?\n",
    "1. Were there values of `L` for which the network wasn't trainable? what causes this? Suggest two things which may be done to resolve it at least partially."
   ]
  },
  {
   "cell_type": "code",
   "execution_count": 24,
   "metadata": {},
   "outputs": [
    {
     "data": {
      "text/markdown": [
       "\n",
       "**Your answer:**\n",
       "\n",
       "\n",
       "Write your answer using **markdown** and $\\LaTeX$:\n",
       "```python\n",
       "# A code block\n",
       "a = 2\n",
       "```\n",
       "An equation: $e^{i\\pi} -1 = 0$\n",
       "\n"
      ],
      "text/plain": [
       "<IPython.core.display.Markdown object>"
      ]
     },
     "metadata": {},
     "output_type": "display_data"
    }
   ],
   "source": [
    "display_answer(hw2.answers.part3_q1)"
   ]
  },
  {
   "cell_type": "markdown",
   "metadata": {},
   "source": [
    "### Question 2 \n",
    "\n",
    "Analyze your results from experiment 1.2. In particular, compare to the results of experiment 1.1."
   ]
  },
  {
   "cell_type": "code",
   "execution_count": 25,
   "metadata": {},
   "outputs": [
    {
     "data": {
      "text/markdown": [
       "\n",
       "**Your answer:**\n",
       "\n",
       "\n",
       "Write your answer using **markdown** and $\\LaTeX$:\n",
       "```python\n",
       "# A code block\n",
       "a = 2\n",
       "```\n",
       "An equation: $e^{i\\pi} -1 = 0$\n",
       "\n"
      ],
      "text/plain": [
       "<IPython.core.display.Markdown object>"
      ]
     },
     "metadata": {},
     "output_type": "display_data"
    }
   ],
   "source": [
    "display_answer(hw2.answers.part3_q2)"
   ]
  },
  {
   "cell_type": "markdown",
   "metadata": {},
   "source": [
    "### Question 3 \n",
    "\n",
    "Analyze your results from experiment 1.3."
   ]
  },
  {
   "cell_type": "code",
   "execution_count": 26,
   "metadata": {},
   "outputs": [
    {
     "data": {
      "text/markdown": [
       "\n",
       "**Your answer:**\n",
       "\n",
       "\n",
       "Write your answer using **markdown** and $\\LaTeX$:\n",
       "```python\n",
       "# A code block\n",
       "a = 2\n",
       "```\n",
       "An equation: $e^{i\\pi} -1 = 0$\n",
       "\n"
      ],
      "text/plain": [
       "<IPython.core.display.Markdown object>"
      ]
     },
     "metadata": {},
     "output_type": "display_data"
    }
   ],
   "source": [
    "display_answer(hw2.answers.part3_q3)"
   ]
  },
  {
   "cell_type": "markdown",
   "metadata": {},
   "source": [
    "### Question 4\n",
    "\n",
    "Analyze your results from experiment 1.4. Compare to experiment 1.1 and 1.3."
   ]
  },
  {
   "cell_type": "code",
   "execution_count": 27,
   "metadata": {},
   "outputs": [
    {
     "data": {
      "text/markdown": [
       "\n",
       "**Your answer:**\n",
       "\n",
       "\n",
       "Write your answer using **markdown** and $\\LaTeX$:\n",
       "```python\n",
       "# A code block\n",
       "a = 2\n",
       "```\n",
       "An equation: $e^{i\\pi} -1 = 0$\n",
       "\n"
      ],
      "text/plain": [
       "<IPython.core.display.Markdown object>"
      ]
     },
     "metadata": {},
     "output_type": "display_data"
    }
   ],
   "source": [
    "display_answer(hw2.answers.part3_q4)"
   ]
  },
  {
   "cell_type": "markdown",
   "metadata": {},
   "source": [
    "### Question 5\n",
    "\n",
    "1. Explain your modifications to the architecture which you implemented in the `YourCodeNet` class.\n",
    "2. Analyze the results of experiment 2. Compare to experiment 1."
   ]
  },
  {
   "cell_type": "code",
   "execution_count": 28,
   "metadata": {},
   "outputs": [
    {
     "data": {
      "text/markdown": [
       "\n",
       "**Your answer:**\n",
       "\n",
       "\n",
       "Write your answer using **markdown** and $\\LaTeX$:\n",
       "```python\n",
       "# A code block\n",
       "a = 2\n",
       "```\n",
       "An equation: $e^{i\\pi} -1 = 0$\n",
       "\n"
      ],
      "text/plain": [
       "<IPython.core.display.Markdown object>"
      ]
     },
     "metadata": {},
     "output_type": "display_data"
    }
   ],
   "source": [
    "display_answer(hw2.answers.part3_q5)"
   ]
  }
 ],
 "metadata": {
  "kernelspec": {
   "display_name": "Python 3",
   "language": "python",
   "name": "python3"
  },
  "language_info": {
   "codemirror_mode": {
    "name": "ipython",
    "version": 3
   },
   "file_extension": ".py",
   "mimetype": "text/x-python",
   "name": "python",
   "nbconvert_exporter": "python",
   "pygments_lexer": "ipython3",
   "version": "3.7.5"
  }
 },
 "nbformat": 4,
 "nbformat_minor": 4
}
