{
 "cells": [
  {
   "cell_type": "markdown",
   "metadata": {},
   "source": [
    "$$\n",
    "\\newcommand{\\mat}[1]{\\boldsymbol {#1}}\n",
    "\\newcommand{\\mattr}[1]{\\boldsymbol {#1}^\\top}\n",
    "\\newcommand{\\matinv}[1]{\\boldsymbol {#1}^{-1}}\n",
    "\\newcommand{\\vec}[1]{\\boldsymbol {#1}}\n",
    "\\newcommand{\\vectr}[1]{\\boldsymbol {#1}^\\top}\n",
    "\\newcommand{\\rvar}[1]{\\mathrm {#1}}\n",
    "\\newcommand{\\rvec}[1]{\\boldsymbol{\\mathrm{#1}}}\n",
    "\\newcommand{\\diag}{\\mathop{\\mathrm {diag}}}\n",
    "\\newcommand{\\set}[1]{\\mathbb {#1}}\n",
    "\\newcommand{\\norm}[1]{\\left\\lVert#1\\right\\rVert}\n",
    "\\newcommand{\\pderiv}[2]{\\frac{\\partial #1}{\\partial #2}}\n",
    "\\newcommand{\\bb}[1]{\\boldsymbol{#1}}\n",
    "$$\n",
    "# Part 3: Convolutional Architectures\n",
    "<a id=part3></a>"
   ]
  },
  {
   "cell_type": "markdown",
   "metadata": {},
   "source": [
    "In this part we will explore convolution networks and the effects of their architecture on accuracy. We'll implement a common block-based deep CNN pattern and we'll perform various experiments on it while varying the architecture. Then we'll implement our own custom architecture to see whether we can get high classification results on a large subset of CIFAR-10.\n",
    "\n",
    "Training will be performed on GPU."
   ]
  },
  {
   "cell_type": "code",
   "execution_count": 1,
   "metadata": {},
   "outputs": [],
   "source": [
    "import os\n",
    "import re\n",
    "import sys\n",
    "import glob\n",
    "import numpy as np\n",
    "import matplotlib.pyplot as plt\n",
    "import unittest\n",
    "import torch\n",
    "import torchvision\n",
    "import torchvision.transforms as tvtf\n",
    "\n",
    "%matplotlib inline\n",
    "%load_ext autoreload\n",
    "%autoreload 2"
   ]
  },
  {
   "cell_type": "code",
   "execution_count": 2,
   "metadata": {},
   "outputs": [],
   "source": [
    "seed = 42\n",
    "device = torch.device('cuda' if torch.cuda.is_available() else 'cpu')\n",
    "plt.rcParams.update({'font.size': 12})\n",
    "test = unittest.TestCase()"
   ]
  },
  {
   "cell_type": "code",
   "execution_count": 30,
   "metadata": {},
   "outputs": [
    {
     "data": {
      "text/plain": [
       "tensor([[[0.6390]]])"
      ]
     },
     "execution_count": 30,
     "metadata": {},
     "output_type": "execute_result"
    }
   ],
   "source": [
    "# TODO delete\n",
    "import torch.nn as nn\n",
    "m = nn.MaxPool2d(kernel_size = 2,stride=2)\n",
    "a = torch.rand(1,2,2)\n",
    "pritn(m(a))\n",
    "b = torch.rand(1,1,1)\n",
    "m(b)"
   ]
  },
  {
   "cell_type": "markdown",
   "metadata": {},
   "source": [
    "## Convolutional layers and networks\n",
    "<a id=part3_1></a>"
   ]
  },
  {
   "cell_type": "markdown",
   "metadata": {},
   "source": [
    "Convolutional layers are the most essential building blocks of the state of the art deep learning image classification models and also play an important role in many other tasks.\n",
    "As we saw in the tutorial, when applied to images, convolutional layers operate on and produce volumes (3D tensors)\n",
    "of activations.\n",
    "\n",
    "One way to think about them is as if the neurons are organized in a 3D grid,\n",
    "where neurons at the same depth share weights (represented here as colors).\n",
    "Contrary to fully connected (affine) layers, neurons in convolutional layers are **not** connected to each of\n",
    "the activations of the previous layer.\n",
    "Instead, each neuron is connected only to a small region of the input volume,\n",
    "for example a 5x5x$C_{\\mathrm{in}}$ slice (where $C_{\\mathrm{in}}$ is the input volume's depth).\n",
    "\n",
    "<img src=\"imgs/depthcol.jpeg\" />"
   ]
  },
  {
   "cell_type": "markdown",
   "metadata": {},
   "source": [
    "Another way to interpret convolutional layers for images is as a collection of 3D learnable filters,\n",
    "each of which operates on a small spatial region of the input volume.\n",
    "Each filter is convolved with the input volume (\"slides over it\"),\n",
    "and a dot product is computed at each location followed by a non-linearity which produces one activation.\n",
    "All these activations produce a 2D plane known as a **feature map**.\n",
    "Multiple feature maps (one for each filter) comprise the output volume.\n",
    "\n",
    "<img src=\"imgs/cnn_filters.png\" width=\"600\" />"
   ]
  },
  {
   "cell_type": "markdown",
   "metadata": {},
   "source": [
    "A crucial property of convolutional layers is their translation equivariance, i.e. shifting the input results in\n",
    "and equivalently shifted output.\n",
    "This produces the ability to detect features regardless of their spatial location in the input."
   ]
  },
  {
   "cell_type": "markdown",
   "metadata": {},
   "source": [
    "Convolutional network architectures usually follow a pattern basic repeating blocks: one or more convolution layers, each followed by a non-linearity (generally ReLU) and then a pooling layer to reduce spatial dimensions. Usually, the number of convolutional filters increases the deeper they are in the network.\n",
    "These layers are meant to extract features from the input.\n",
    "Then, one or more fully-connected layers is used to combine the extracted features into the required number of output class scores."
   ]
  },
  {
   "cell_type": "markdown",
   "metadata": {},
   "source": [
    "## Building convolutional networks with PyTorch\n",
    "<a id=part3_2></a>"
   ]
  },
  {
   "cell_type": "markdown",
   "metadata": {},
   "source": [
    "PyTorch provides all the basic building blocks needed for creating a convolutional arcitecture within the [`torch.nn`](https://pytorch.org/docs/stable/nn.html) package.\n",
    "Let's use them to create a basic convolutional network with the following architecture pattern:\n",
    "\n",
    "    [(CONV -> ReLU)*P -> MaxPool]*(N/P) -> (Linear -> ReLU)*M -> Linear\n",
    "\n",
    "Here $N$ is the total number of convolutional layers,\n",
    "$P$ specifies how many convolutions to perform before each pooling layer\n",
    "and $M$ specifies the number of hidden fully-connected layers before the final output layer."
   ]
  },
  {
   "cell_type": "markdown",
   "metadata": {},
   "source": [
    "**TODO**: Complete the implementaion of the `ConvClassifier` class in the `hw2/cnn.py` module.\n",
    "Use PyTorch's `nn.Conv2d` and `nn.MaxPool2d` for the convolution and pooling layers."
   ]
  },
  {
   "cell_type": "code",
   "execution_count": 26,
   "metadata": {},
   "outputs": [
    {
     "name": "stdout",
     "output_type": "stream",
     "text": [
      "ConvClassifier(\n",
      "  (feature_extractor): Sequential(\n",
      "    (0): Conv2d(3, 32, kernel_size=(3, 3), stride=(1, 1), padding=(1, 1))\n",
      "    (1): ReLU()\n",
      "    (2): Conv2d(32, 32, kernel_size=(3, 3), stride=(1, 1), padding=(1, 1))\n",
      "    (3): ReLU()\n",
      "    (4): MaxPool2d(kernel_size=2, stride=2, padding=0, dilation=1, ceil_mode=False)\n",
      "    (5): Conv2d(32, 32, kernel_size=(3, 3), stride=(1, 1), padding=(1, 1))\n",
      "    (6): ReLU()\n",
      "    (7): Conv2d(32, 32, kernel_size=(3, 3), stride=(1, 1), padding=(1, 1))\n",
      "    (8): ReLU()\n",
      "    (9): MaxPool2d(kernel_size=2, stride=2, padding=0, dilation=1, ceil_mode=False)\n",
      "  )\n",
      "  (classifier): Sequential(\n",
      "    (0): Linear(in_features=20000, out_features=100, bias=True)\n",
      "    (1): ReLU()\n",
      "    (2): Linear(in_features=100, out_features=100, bias=True)\n",
      "    (3): ReLU()\n",
      "    (4): Linear(in_features=100, out_features=10, bias=True)\n",
      "  )\n",
      ")\n",
      "out = tensor([[-0.0868, -0.3790, -0.4341, -0.1236, -0.2160,  0.1683,  0.4739,  0.0750,\n",
      "          0.1151, -0.1606]], grad_fn=<AddmmBackward>)\n"
     ]
    }
   ],
   "source": [
    "import hw2.cnn as cnn\n",
    "torch.manual_seed(seed)\n",
    "\n",
    "net = cnn.ConvClassifier((3,100,100), 10, channels=[32]*4, pool_every=2, hidden_dims=[100]*2)\n",
    "print(net)\n",
    "\n",
    "test_image = torch.randint(low=0, high=256, size=(3, 100, 100), dtype=torch.float).unsqueeze(0)\n",
    "test_out = net(test_image)\n",
    "print('out =', test_out)\n",
    "\n",
    "expected_out = torch.load('tests/assets/expected_conv_out.pt')\n",
    "test.assertLess(torch.norm(test_out - expected_out).item(), 1e-3)"
   ]
  },
  {
   "cell_type": "markdown",
   "metadata": {},
   "source": [
    "Let's load CIFAR-10 again to use as our dataset."
   ]
  },
  {
   "cell_type": "code",
   "execution_count": 4,
   "metadata": {},
   "outputs": [
    {
     "name": "stdout",
     "output_type": "stream",
     "text": [
      "Files already downloaded and verified\n",
      "Files already downloaded and verified\n",
      "Train: 50000 samples\n",
      "Test: 10000 samples\n",
      "input image size = torch.Size([3, 32, 32])\n"
     ]
    }
   ],
   "source": [
    "data_dir = os.path.expanduser('~/.pytorch-datasets')\n",
    "ds_train = torchvision.datasets.CIFAR10(root=data_dir, download=True, train=True, transform=tvtf.ToTensor())\n",
    "ds_test = torchvision.datasets.CIFAR10(root=data_dir, download=True, train=False, transform=tvtf.ToTensor())\n",
    "\n",
    "print(f'Train: {len(ds_train)} samples')\n",
    "print(f'Test: {len(ds_test)} samples')\n",
    "\n",
    "x0,_ = ds_train[0]\n",
    "in_size = x0.shape\n",
    "num_classes = 10\n",
    "print('input image size =', in_size)"
   ]
  },
  {
   "cell_type": "markdown",
   "metadata": {},
   "source": [
    "Now as usual, as a sanity test let's make sure we can overfit a tiny dataset with our model. But first we need to adapt our `Trainer` for PyTorch models."
   ]
  },
  {
   "cell_type": "markdown",
   "metadata": {},
   "source": [
    "**TODO**: Complete the implementaion of the `TorchTrainer` class in the `hw2/training.py` module."
   ]
  },
  {
   "cell_type": "code",
   "execution_count": 5,
   "metadata": {},
   "outputs": [
    {
     "name": "stdout",
     "output_type": "stream",
     "text": [
      "train_batch (Avg. Loss 2.378, Accuracy 0.0): 100%|█████████████████████████████████████| 25/25 [00:01<00:00, 13.89it/s]\n",
      "train_batch (Avg. Loss 2.220, Accuracy 20.0): 100%|███████████████████████████████████| 25/25 [00:00<00:00, 193.75it/s]\n",
      "train_batch (Avg. Loss 2.110, Accuracy 22.0): 100%|███████████████████████████████████| 25/25 [00:00<00:00, 186.53it/s]\n",
      "train_batch (Avg. Loss 1.786, Accuracy 32.0): 100%|███████████████████████████████████| 25/25 [00:00<00:00, 189.35it/s]\n",
      "train_batch (Avg. Loss 1.366, Accuracy 52.0): 100%|███████████████████████████████████| 25/25 [00:00<00:00, 189.35it/s]\n",
      "train_batch (Avg. Loss 1.241, Accuracy 56.0): 100%|███████████████████████████████████| 25/25 [00:00<00:00, 190.80it/s]\n",
      "train_batch (Avg. Loss 0.547, Accuracy 80.0): 100%|███████████████████████████████████| 25/25 [00:00<00:00, 178.53it/s]\n",
      "train_batch (Avg. Loss 0.120, Accuracy 100.0): 100%|██████████████████████████████████| 25/25 [00:00<00:00, 187.93it/s]\n",
      "train_batch (Avg. Loss 0.263, Accuracy 96.0): 100%|███████████████████████████████████| 25/25 [00:00<00:00, 187.93it/s]\n",
      "train_batch (Avg. Loss 0.460, Accuracy 90.0): 100%|███████████████████████████████████| 25/25 [00:00<00:00, 190.80it/s]\n",
      "train_batch (Avg. Loss 0.051, Accuracy 98.0): 100%|███████████████████████████████████| 25/25 [00:00<00:00, 189.35it/s]\n",
      "train_batch (Avg. Loss 0.017, Accuracy 100.0): 100%|██████████████████████████████████| 25/25 [00:00<00:00, 189.35it/s]\n",
      "train_batch (Avg. Loss 0.002, Accuracy 100.0): 100%|██████████████████████████████████| 25/25 [00:00<00:00, 187.93it/s]\n",
      "train_batch (Avg. Loss 0.001, Accuracy 100.0): 100%|██████████████████████████████████| 25/25 [00:00<00:00, 186.52it/s]\n",
      "train_batch (Avg. Loss 0.000, Accuracy 100.0): 100%|██████████████████████████████████| 25/25 [00:00<00:00, 192.26it/s]\n"
     ]
    }
   ],
   "source": [
    "import hw2.training as training\n",
    "torch.manual_seed(seed)\n",
    "\n",
    "# Define a tiny part of the CIFAR-10 dataset to overfit it\n",
    "batch_size = 2\n",
    "max_batches = 25\n",
    "dl_train = torch.utils.data.DataLoader(ds_train, batch_size, shuffle=False)\n",
    "\n",
    "# Create model, loss and optimizer instances\n",
    "model = cnn.ConvClassifier(in_size, num_classes, channels=[32], pool_every=1, hidden_dims=[100])\n",
    "loss_fn = torch.nn.CrossEntropyLoss()\n",
    "optimizer = torch.optim.SGD(model.parameters(), lr=1e-2, momentum=0.9,)\n",
    "\n",
    "# Use TorchTrainer to run only the training loop a few times.\n",
    "trainer = training.TorchTrainer(model, loss_fn, optimizer, device)\n",
    "best_acc = 0\n",
    "for i in range(30):\n",
    "    res = trainer.train_epoch(dl_train, max_batches=max_batches, verbose=(i%2==0))\n",
    "    best_acc = res.accuracy if res.accuracy > best_acc else best_acc\n",
    "    \n",
    "# Test overfitting\n",
    "test.assertGreaterEqual(best_acc, 95)"
   ]
  },
  {
   "cell_type": "markdown",
   "metadata": {},
   "source": [
    "### Residual Networks"
   ]
  },
  {
   "cell_type": "markdown",
   "metadata": {},
   "source": [
    "A very common addition to the basic convolutional architecture described above are **shortcut connections**.\n",
    "First proposed by [He et al. (2016)](https://www.cv-foundation.org/openaccess/content_cvpr_2016/papers/He_Deep_Residual_Learning_CVPR_2016_paper.pdf), this simple addition has been shown to be crucial\n",
    "ingredient in order to achieve effective learning with very deep networks.\n",
    "Virtually all state of the art image classification models from recent years use this technique."
   ]
  },
  {
   "cell_type": "markdown",
   "metadata": {},
   "source": [
    "The idea is to add an shortcut, or skip, around every two or more convolutional layers:\n",
    "\n",
    "<img src=\"imgs/resnet_block2.png\" width=\"700\" />\n",
    "\n",
    "This adds an easy way for the network to learn identity mappings: set the weight values to be very small.\n",
    "The consequence is that the convolutional layers to learn a **residual** mapping, i.e. some delta that is applied\n",
    "to the identity map, instead of actually learning a completely new mapping from scratch."
   ]
  },
  {
   "cell_type": "markdown",
   "metadata": {},
   "source": [
    "Lets start by implementing a general residual block, representing a structure similar to the above diagrams.\n",
    "Our residual block will be composed of:\n",
    "- A \"main path\" with some number of convolutional layers with ReLU between them. Optionally, we'll also allow batch normalization and dropout layers between the convolutions, before the ReLU.\n",
    "- A \"shortcut path\" implementing an identity mapping around the main path. In case of a different number of input/output channels, the shortcut path may contain an additional `1x1` convolution to project the channel dimension.\n",
    "- The sum of the main and shortcut paths output is passed though a ReLU and returned."
   ]
  },
  {
   "cell_type": "markdown",
   "metadata": {},
   "source": [
    "**TODO**: Complete the implementation of the `ResidualBlock`'s `__init__()` method in the `hw2/cnn.py` module."
   ]
  },
  {
   "cell_type": "code",
   "execution_count": 6,
   "metadata": {},
   "outputs": [
    {
     "name": "stdout",
     "output_type": "stream",
     "text": [
      "ResidualBlock(\n",
      "  (shortcut_path): Sequential(\n",
      "    (0): Conv2d(3, 4, kernel_size=(1, 1), stride=(1, 1), bias=False)\n",
      "  )\n",
      "  (main_path): Sequential(\n",
      "    (0): Conv2d(3, 6, kernel_size=(3, 3), stride=(1, 1), padding=(1, 1))\n",
      "    (1): Dropout2d(p=0.2, inplace=False)\n",
      "    (2): BatchNorm2d(6, eps=1e-05, momentum=0.1, affine=True, track_running_stats=True)\n",
      "    (3): ReLU()\n",
      "    (4): Conv2d(6, 4, kernel_size=(5, 5), stride=(1, 1), padding=(2, 2))\n",
      "    (5): ReLU()\n",
      "    (6): Dropout2d(p=0.2, inplace=False)\n",
      "    (7): BatchNorm2d(4, eps=1e-05, momentum=0.1, affine=True, track_running_stats=True)\n",
      "    (8): Conv2d(4, 6, kernel_size=(3, 3), stride=(1, 1), padding=(1, 1))\n",
      "    (9): ReLU()\n",
      "    (10): Dropout2d(p=0.2, inplace=False)\n",
      "    (11): BatchNorm2d(6, eps=1e-05, momentum=0.1, affine=True, track_running_stats=True)\n",
      "    (12): Conv2d(6, 4, kernel_size=(5, 5), stride=(1, 1), padding=(2, 2))\n",
      "  )\n",
      ")\n",
      "out shape=torch.Size([1, 4, 32, 32])\n"
     ]
    }
   ],
   "source": [
    "torch.manual_seed(seed)\n",
    "\n",
    "resblock = cnn.ResidualBlock(\n",
    "    in_channels=3, channels=[6, 4]*2, kernel_sizes=[3, 5]*2, batchnorm=True, dropout=0.2\n",
    ")\n",
    "\n",
    "print(resblock)\n",
    "test_out = resblock(torch.zeros(1, 3, 32, 32))\n",
    "print(f'out shape={test_out.shape}')\n",
    "\n",
    "expected_out = torch.load('tests/assets/expected_resblock_out.pt')\n",
    "test.assertLess(torch.norm(test_out - expected_out).item(), 1e-3)"
   ]
  },
  {
   "cell_type": "markdown",
   "metadata": {},
   "source": [
    "Now based on the `ResidualBlock`, we'll implement our own variation of a residual network (ResNet),\n",
    "with the following architecture:\n",
    "\n",
    "    [-> (CONV -> ReLU)*P -> MaxPool]*(N/P) -> (Linear -> ReLU)*M -> Linear\n",
    "     \\------- SKIP ------/\n",
    "     \n",
    "Note that $N$, $P$ and $M$ are as before, however now $P$ also controls the number of convolutional layers to add a skip-connection to."
   ]
  },
  {
   "cell_type": "markdown",
   "metadata": {},
   "source": [
    "**TODO**: Complete the implementation of the `ResNetClassifier` class in the `hw2/cnn.py` module.\n",
    "You should use `ResidualBlock`s to group together every $P$ convolutional layers."
   ]
  },
  {
   "cell_type": "code",
   "execution_count": 9,
   "metadata": {},
   "outputs": [
    {
     "name": "stdout",
     "output_type": "stream",
     "text": [
      "ResNetClassifier(\n",
      "  (feature_extractor): Sequential(\n",
      "    (0): ResidualBlock(\n",
      "      (shortcut_path): Sequential(\n",
      "        (0): Conv2d(3, 64, kernel_size=(1, 1), stride=(1, 1), bias=False)\n",
      "      )\n",
      "      (main_path): Sequential(\n",
      "        (0): Conv2d(3, 32, kernel_size=(3, 3), stride=(1, 1), padding=(1, 1))\n",
      "        (1): Dropout2d(p=0.0, inplace=False)\n",
      "        (2): ReLU()\n",
      "        (3): Conv2d(32, 64, kernel_size=(3, 3), stride=(1, 1), padding=(1, 1))\n",
      "        (4): ReLU()\n",
      "        (5): Dropout2d(p=0.0, inplace=False)\n",
      "        (6): Conv2d(64, 32, kernel_size=(3, 3), stride=(1, 1), padding=(1, 1))\n",
      "        (7): ReLU()\n",
      "        (8): Dropout2d(p=0.0, inplace=False)\n",
      "        (9): Conv2d(32, 64, kernel_size=(3, 3), stride=(1, 1), padding=(1, 1))\n",
      "      )\n",
      "    )\n",
      "    (1): MaxPool2d(kernel_size=2, stride=2, padding=0, dilation=1, ceil_mode=False)\n",
      "    (2): ResidualBlock(\n",
      "      (shortcut_path): Sequential()\n",
      "      (main_path): Sequential(\n",
      "        (0): Conv2d(64, 32, kernel_size=(3, 3), stride=(1, 1), padding=(1, 1))\n",
      "        (1): Dropout2d(p=0.0, inplace=False)\n",
      "        (2): ReLU()\n",
      "        (3): Conv2d(32, 64, kernel_size=(3, 3), stride=(1, 1), padding=(1, 1))\n",
      "      )\n",
      "    )\n",
      "  )\n",
      "  (classifier): Sequential(\n",
      "    (0): Linear(in_features=160000, out_features=100, bias=True)\n",
      "    (1): ReLU()\n",
      "    (2): Linear(in_features=100, out_features=100, bias=True)\n",
      "    (3): ReLU()\n",
      "    (4): Linear(in_features=100, out_features=10, bias=True)\n",
      "  )\n",
      ")\n",
      "out = tensor([[ 0.7512, -0.5055, 12.0261,  3.6577, -1.6581, 11.0309,  6.6823,  1.1269,\n",
      "          6.9933,  4.3001]], grad_fn=<AddmmBackward>)\n"
     ]
    }
   ],
   "source": [
    "torch.manual_seed(seed)\n",
    "\n",
    "net = cnn.ResNetClassifier(\n",
    "    in_size=(3,100,100), out_classes=10, channels=[32, 64]*3, pool_every=4, hidden_dims=[100]*2\n",
    ")\n",
    "print(net)\n",
    "\n",
    "test_image = torch.randint(low=0, high=256, size=(3, 100, 100), dtype=torch.float).unsqueeze(0)\n",
    "test_out = net(test_image)\n",
    "print('out =', test_out)\n",
    "\n",
    "expected_out = torch.load('tests/assets/expected_resnet_out.pt')\n",
    "test.assertLess(torch.norm(test_out - expected_out).item(), 1e-3)"
   ]
  },
  {
   "cell_type": "markdown",
   "metadata": {},
   "source": [
    "## Experimenting with model architectures\n",
    "<a id=part3_3></a>"
   ]
  },
  {
   "cell_type": "markdown",
   "metadata": {},
   "source": [
    "You will now perform a series of experiments that train various model configurations on a much larger part of the CIFAR-10 dataset.\n",
    "\n",
    "To perform the experiments, you'll need to use a machine with a GPU since training time might be too long otherwise.\n"
   ]
  },
  {
   "cell_type": "markdown",
   "metadata": {},
   "source": [
    "### Note about running on GPUs"
   ]
  },
  {
   "cell_type": "markdown",
   "metadata": {},
   "source": [
    "Here's an example of running a forward pass on the GPU\n",
    "(assuming you're running this notebook on a GPU-enabled machine)."
   ]
  },
  {
   "cell_type": "code",
   "execution_count": 10,
   "metadata": {},
   "outputs": [],
   "source": [
    "net = net.to(device)\n",
    "test_image = test_image.to(device)\n",
    "test_out = net(test_image)"
   ]
  },
  {
   "cell_type": "markdown",
   "metadata": {},
   "source": [
    "Notice how we called `.to(device)` on **both** the model and the input tensor.\n",
    "Here the `device` is a `torch.device` object that we created above. If an nvidia GPU is available on the machine you're running this on, the `device` will be `'cuda'`. When you run `.to(device)` on a model, it recursively goes over all the model parameter tensors and copies their memory to the GPU. Similarly, calling `.to(device)` on the input image also copies it.\n",
    "\n",
    "In order to train on a GPU, you need to make sure to move **all** your tensors to it. You'll get errors if you try to mix CPU and GPU tensors in a computation."
   ]
  },
  {
   "cell_type": "code",
   "execution_count": 11,
   "metadata": {},
   "outputs": [
    {
     "name": "stdout",
     "output_type": "stream",
     "text": [
      "This notebook is running with device=cuda\n",
      "The model parameter tensors are also on device=cuda:0\n",
      "The test image is also on device=cuda:0\n",
      "The output is therefore also on device=cuda:0\n"
     ]
    }
   ],
   "source": [
    "print(f'This notebook is running with device={device}')\n",
    "print(f'The model parameter tensors are also on device={next(net.parameters()).device}')\n",
    "print(f'The test image is also on device={test_image.device}')\n",
    "print(f'The output is therefore also on device={test_out.device}')"
   ]
  },
  {
   "cell_type": "markdown",
   "metadata": {},
   "source": [
    "### General notes for running experiments\n",
    "\n",
    "- You can run the experiments on a different machine (e.g. the course servers) and copy the results (files)\n",
    "  to the `results` folder on your local machine.\n",
    "  This notebook will only display the results, not run the actual experiment code (except for a demo run).\n",
    "- It's important to give each experiment run a name as specified by the notebook instructions later on.\n",
    "  Each run has a `run_name` parameter that will also be the base name of the results file which this \n",
    "  notebook will expect to load.\n",
    "- You will implement the code to run the experiments in the `hw2/experiments.py` module.\n",
    "  This module has a CLI parser so that you can invoke it as a script and pass in all the\n",
    "  configuration parameters for a single experiment run.\n",
    "- You should use `python -m hw2.experiments run-exp` to run an experiment, and **not**\n",
    "  `python hw2/experiments.py run-exp`, regardless of how/where you run it."
   ]
  },
  {
   "cell_type": "markdown",
   "metadata": {},
   "source": [
    "### Experiment 1: Network depth and number of filters"
   ]
  },
  {
   "cell_type": "markdown",
   "metadata": {},
   "source": [
    "In this part we will test some different architecture configurations based on our `ConvClassifier` and `ResNetClassifier`.\n",
    "Specifically, we want to try different depths and number of features to see the effects these parameters have on the model's performance.\n",
    "\n",
    "To do this, we'll define two extra hyperparameters for our model, `K` (`filters_per_layer`) and `L` (`layers_per_block`).\n",
    "- `K` is a list, containing the number of filters we want to have in our conv layers.\n",
    "- `L` is the number of consecutive layers with the same number of filters to use.\n",
    "\n",
    "For example, if `K=[32, 64]` and `L=2` it means we want two conv layers with 32 filters followed by two conv layers with 64 filters. The feature-extraction part of our model will therefore be:\n",
    "\n",
    "    Conv(X,32)->ReLu->Conv(32,32)->ReLU->MaxPool->Conv(32,64)->ReLU->Conv(64,64)->ReLU->MaxPool\n",
    "    \n",
    "We'll try various values of the `K` and `L` parameters in combination and see how each architecture trains. **All other hyperparameters are up to you**, including the choice of the optimization algorithm, the learning rate, regularization and architecture hyperparams such as `pad_every` and `hidden_dims`. Note that you should select the `pad_every` parameter wisely per experiment so that you don't end up with zero-with feature maps.\n",
    "\n",
    "You can try some short manual runs to determine some good values for the hyperparameters or implement cross-validation to do it. However, the **dataset size** you test on should be large. Use at least ~20000 training images and ~6000 validation images.\n",
    "\n",
    "The important thing is that you state what you used, how you decided on it, and explain your results based on that."
   ]
  },
  {
   "cell_type": "markdown",
   "metadata": {},
   "source": [
    "First we need to write some code to run the experiment.\n",
    "\n",
    "**TODO**:\n",
    "1. Implement the `run_experiment()` function in the `hw2/experiments.py` module.\n",
    "1. If you haven't done so already, it would be an excellent idea to implement the **early stopping** feature of the `Trainer` class.\n",
    "\n",
    "The following block tests that your implementation works. It's also meant to show you that each experiment run creates a result file containing the parameters to reproduce and the `FitResult` object for plotting."
   ]
  },
  {
   "cell_type": "code",
   "execution_count": 35,
   "metadata": {},
   "outputs": [
    {
     "name": "stdout",
     "output_type": "stream",
     "text": [
      "Files already downloaded and verified\n",
      "Files already downloaded and verified\n",
      "--- EPOCH 1/10 ---\n",
      "train_batch (Avg. Loss 2.067, Accuracy 25.6): 100%|████████████████████████████████| 1000/1000 [00:13<00:00, 71.75it/s]\n",
      "Epoch 0 train loss: 2.067415283203125\n",
      "test_batch (Avg. Loss 1.883, Accuracy 33.5): 100%|██████████████████████████████████| 834/834 [00:04<00:00, 200.82it/s]\n",
      "Epoch 0 test loss: 1.882947157898681\n",
      "--- EPOCH 2/10 ---\n",
      "train_batch (Avg. Loss 1.739, Accuracy 38.1): 100%|████████████████████████████████| 1000/1000 [00:13<00:00, 72.00it/s]\n",
      "Epoch 1 train loss: 1.73850146484375\n",
      "test_batch (Avg. Loss 1.605, Accuracy 43.0): 100%|██████████████████████████████████| 834/834 [00:04<00:00, 199.24it/s]\n",
      "Epoch 1 test loss: 1.6051388381482314\n",
      "--- EPOCH 3/10 ---\n",
      "train_batch (Avg. Loss 1.551, Accuracy 44.5): 100%|████████████████████████████████| 1000/1000 [00:13<00:00, 71.65it/s]\n",
      "Epoch 2 train loss: 1.550665283203125\n",
      "test_batch (Avg. Loss 1.476, Accuracy 47.2): 100%|██████████████████████████████████| 834/834 [00:04<00:00, 200.68it/s]\n",
      "Epoch 2 test loss: 1.4763739789418466\n",
      "--- EPOCH 4/10 ---\n",
      "train_batch (Avg. Loss 1.445, Accuracy 48.3): 100%|████████████████████████████████| 1000/1000 [00:13<00:00, 71.54it/s]\n",
      "Epoch 3 train loss: 1.4450550537109375\n",
      "test_batch (Avg. Loss 1.370, Accuracy 51.4): 100%|██████████████████████████████████| 834/834 [00:04<00:00, 201.55it/s]\n",
      "Epoch 3 test loss: 1.3704050919420714\n",
      "--- EPOCH 5/10 ---\n",
      "train_batch (Avg. Loss 1.355, Accuracy 51.7): 100%|████████████████████████████████| 1000/1000 [00:13<00:00, 71.65it/s]\n",
      "Epoch 4 train loss: 1.355358154296875\n",
      "test_batch (Avg. Loss 1.289, Accuracy 54.5): 100%|██████████████████████████████████| 834/834 [00:04<00:00, 201.06it/s]\n",
      "Epoch 4 test loss: 1.2891320244585582\n",
      "--- EPOCH 6/10 ---\n",
      "train_batch (Avg. Loss 1.283, Accuracy 54.6): 100%|████████████████████████████████| 1000/1000 [00:13<00:00, 71.76it/s]\n",
      "Epoch 5 train loss: 1.283174560546875\n",
      "test_batch (Avg. Loss 1.231, Accuracy 56.5): 100%|██████████████████████████████████| 834/834 [00:04<00:00, 198.95it/s]\n",
      "Epoch 5 test loss: 1.2311887306561\n",
      "*** Output file ./results\\test_run_L1_K32-64.json written\n",
      "experiment config:  {'run_name': 'test_run', 'out_dir': './results', 'seed': 42, 'device': None, 'bs_train': 50, 'bs_test': 12, 'batches': 10, 'epochs': 10, 'early_stopping': 5, 'checkpoints': None, 'lr': 0.001, 'reg': 0.001, 'filters_per_layer': [32, 64], 'pool_every': 1, 'hidden_dims': [100], 'model_type': 'resnet', 'kw': {}, 'layers_per_block': 1}\n"
     ]
    },
    {
     "data": {
      "image/png": "[encoded data removed]",
      "text/plain": [
       "<Figure size 1152x720 with 4 Axes>"
      ]
     },
     "metadata": {
      "needs_background": "light"
     },
     "output_type": "display_data"
    }
   ],
   "source": [
    "import hw2.experiments as experiments\n",
    "from hw2.experiments import load_experiment\n",
    "from cs236781.plot import plot_fit\n",
    "\n",
    "# Test experiment1 implementation on a few data samples and with a small model\n",
    "\n",
    "experiments.run_experiment(\n",
    "    'test_run', seed=seed, bs_train=50, batches=10, epochs=10, early_stopping=5,\n",
    "    filters_per_layer=[32,64], layers_per_block=1, pool_every=1, hidden_dims=[100],\n",
    "    model_type='resnet',\n",
    ")\n",
    "\n",
    "# There should now be a file 'test_run.json' in your `results/` folder.\n",
    "# We can use it to load the results of the experiment.\n",
    "cfg, fit_res = load_experiment('results/test_run_L1_K32-64.json')\n",
    "_, _ = plot_fit(fit_res)\n",
    "\n",
    "# And `cfg` contains the exact parameters to reproduce it\n",
    "print('experiment config: ', cfg)"
   ]
  },
  {
   "cell_type": "markdown",
   "metadata": {},
   "source": [
    "We'll use the following function to load multiple experiment results and plot them together."
   ]
  },
  {
   "cell_type": "code",
   "execution_count": 13,
   "metadata": {},
   "outputs": [],
   "source": [
    "def plot_exp_results(filename_pattern, results_dir='results'):\n",
    "    fig = None\n",
    "    result_files = glob.glob(os.path.join(results_dir, filename_pattern))\n",
    "    result_files.sort()\n",
    "    if len(result_files) == 0:\n",
    "        print(f'No results found for pattern {filename_pattern}.', file=sys.stderr)\n",
    "        return\n",
    "    for filepath in result_files:\n",
    "        m = re.match('exp\\d_(\\d_)?(.*)\\.json', os.path.basename(filepath))\n",
    "        cfg, fit_res = load_experiment(filepath)\n",
    "        fig, axes = plot_fit(fit_res, fig, legend=m[2],log_loss=True)\n",
    "    del cfg['filters_per_layer']\n",
    "    del cfg['layers_per_block']\n",
    "    print('common config: ', cfg)"
   ]
  },
  {
   "cell_type": "code",
   "execution_count": 37,
   "metadata": {},
   "outputs": [
    {
     "name": "stdout",
     "output_type": "stream",
     "text": [
      "Files already downloaded and verified\n",
      "Files already downloaded and verified\n",
      "--- EPOCH 1/10 ---\n",
      "train_batch (Avg. Loss 1.974, Accuracy 29.3): 100%|████████████████████████████████| 1000/1000 [00:15<00:00, 65.52it/s]\n",
      "Epoch 0 train loss: 1.97362548828125\n",
      "test_batch (Avg. Loss 1.770, Accuracy 37.7): 100%|██████████████████████████████████| 834/834 [00:04<00:00, 192.74it/s]\n",
      "Epoch 0 test loss: 1.7704614140718675\n",
      "--- EPOCH 2/10 ---\n",
      "train_batch (Avg. Loss 1.656, Accuracy 41.3): 100%|████████████████████████████████| 1000/1000 [00:15<00:00, 65.30it/s]\n",
      "Epoch 1 train loss: 1.656273681640625\n",
      "test_batch (Avg. Loss 1.536, Accuracy 45.3): 100%|██████████████████████████████████| 834/834 [00:04<00:00, 194.09it/s]\n",
      "Epoch 1 test loss: 1.536288254552608\n",
      "--- EPOCH 3/10 ---\n",
      "train_batch (Avg. Loss 1.489, Accuracy 46.8): 100%|████████████████████████████████| 1000/1000 [00:15<00:00, 65.26it/s]\n",
      "Epoch 2 train loss: 1.4885435791015624\n",
      "test_batch (Avg. Loss 1.399, Accuracy 49.6): 100%|██████████████████████████████████| 834/834 [00:04<00:00, 192.26it/s]\n",
      "Epoch 2 test loss: 1.3993400006557255\n",
      "--- EPOCH 4/10 ---\n",
      "train_batch (Avg. Loss 1.368, Accuracy 51.2): 100%|████████████████████████████████| 1000/1000 [00:15<00:00, 65.24it/s]\n",
      "Epoch 3 train loss: 1.36764306640625\n",
      "test_batch (Avg. Loss 1.298, Accuracy 53.3): 100%|██████████████████████████████████| 834/834 [00:04<00:00, 191.64it/s]\n",
      "Epoch 3 test loss: 1.2977331513695294\n",
      "--- EPOCH 5/10 ---\n",
      "train_batch (Avg. Loss 1.266, Accuracy 54.8): 100%|████████████████████████████████| 1000/1000 [00:15<00:00, 65.32it/s]\n",
      "Epoch 4 train loss: 1.26629638671875\n",
      "test_batch (Avg. Loss 1.226, Accuracy 56.2): 100%|██████████████████████████████████| 834/834 [00:04<00:00, 193.50it/s]\n",
      "Epoch 4 test loss: 1.2262934037535596\n",
      "--- EPOCH 6/10 ---\n",
      "train_batch (Avg. Loss 1.182, Accuracy 58.0): 100%|████████████████████████████████| 1000/1000 [00:15<00:00, 65.24it/s]\n",
      "Epoch 5 train loss: 1.1821878662109375\n",
      "test_batch (Avg. Loss 1.160, Accuracy 58.7): 100%|██████████████████████████████████| 834/834 [00:04<00:00, 192.26it/s]\n",
      "Epoch 5 test loss: 1.159668846953687\n",
      "*** Output file ./results\\test_run_L2_K32.json written\n",
      "Files already downloaded and verified\n",
      "Files already downloaded and verified\n",
      "--- EPOCH 1/10 ---\n",
      "train_batch (Avg. Loss 1.921, Accuracy 31.4): 100%|████████████████████████████████| 1000/1000 [00:20<00:00, 49.36it/s]\n",
      "Epoch 0 train loss: 1.9212650146484376\n",
      "test_batch (Avg. Loss 1.702, Accuracy 39.9): 100%|██████████████████████████████████| 834/834 [00:04<00:00, 193.95it/s]\n",
      "Epoch 0 test loss: 1.7020645690478866\n",
      "--- EPOCH 2/10 ---\n",
      "train_batch (Avg. Loss 1.587, Accuracy 43.4): 100%|████████████████████████████████| 1000/1000 [00:20<00:00, 49.43it/s]\n",
      "Epoch 1 train loss: 1.586666015625\n",
      "test_batch (Avg. Loss 1.484, Accuracy 46.8): 100%|██████████████████████████████████| 834/834 [00:04<00:00, 193.19it/s]\n",
      "Epoch 1 test loss: 1.4843167458220923\n",
      "--- EPOCH 3/10 ---\n",
      "train_batch (Avg. Loss 1.421, Accuracy 49.3): 100%|████████████████████████████████| 1000/1000 [00:20<00:00, 49.24it/s]\n",
      "Epoch 2 train loss: 1.4209219970703124\n",
      "test_batch (Avg. Loss 1.342, Accuracy 51.8): 100%|██████████████████████████████████| 834/834 [00:04<00:00, 193.06it/s]\n",
      "Epoch 2 test loss: 1.341998422746178\n",
      "--- EPOCH 4/10 ---\n",
      "train_batch (Avg. Loss 1.282, Accuracy 54.4): 100%|████████████████████████████████| 1000/1000 [00:20<00:00, 49.27it/s]\n",
      "Epoch 3 train loss: 1.281658203125\n",
      "test_batch (Avg. Loss 1.221, Accuracy 56.2): 100%|██████████████████████████████████| 834/834 [00:04<00:00, 191.81it/s]\n",
      "Epoch 3 test loss: 1.2213019135472871\n",
      "--- EPOCH 5/10 ---\n",
      "train_batch (Avg. Loss 1.163, Accuracy 58.9): 100%|████████████████████████████████| 1000/1000 [00:20<00:00, 48.99it/s]\n",
      "Epoch 4 train loss: 1.162736572265625\n",
      "test_batch (Avg. Loss 1.130, Accuracy 59.7): 100%|██████████████████████████████████| 834/834 [00:04<00:00, 190.85it/s]\n",
      "Epoch 4 test loss: 1.130073163149168\n",
      "--- EPOCH 6/10 ---\n",
      "train_batch (Avg. Loss 1.072, Accuracy 62.3): 100%|████████████████████████████████| 1000/1000 [00:20<00:00, 48.69it/s]\n",
      "Epoch 5 train loss: 1.07157470703125\n",
      "test_batch (Avg. Loss 1.081, Accuracy 61.4): 100%|██████████████████████████████████| 834/834 [00:04<00:00, 189.16it/s]\n",
      "Epoch 5 test loss: 1.0813514471625825\n",
      "*** Output file ./results\\test_run_L2_K64.json written\n",
      "Files already downloaded and verified\n",
      "Files already downloaded and verified\n",
      "--- EPOCH 1/10 ---\n",
      "train_batch (Avg. Loss 2.017, Accuracy 27.6): 100%|████████████████████████████████| 1000/1000 [00:16<00:00, 60.81it/s]\n",
      "Epoch 0 train loss: 2.017152099609375\n",
      "test_batch (Avg. Loss 1.812, Accuracy 36.2): 100%|██████████████████████████████████| 834/834 [00:04<00:00, 187.84it/s]\n",
      "Epoch 0 test loss: 1.8115437825520833\n",
      "--- EPOCH 2/10 ---\n",
      "train_batch (Avg. Loss 1.702, Accuracy 39.6): 100%|████████████████████████████████| 1000/1000 [00:16<00:00, 62.37it/s]\n",
      "Epoch 1 train loss: 1.7018446044921876\n",
      "test_batch (Avg. Loss 1.590, Accuracy 43.5): 100%|██████████████████████████████████| 834/834 [00:04<00:00, 197.21it/s]\n",
      "Epoch 1 test loss: 1.5895852653814448\n",
      "--- EPOCH 3/10 ---\n",
      "train_batch (Avg. Loss 1.539, Accuracy 45.1): 100%|████████████████████████████████| 1000/1000 [00:15<00:00, 63.55it/s]\n",
      "Epoch 2 train loss: 1.5385775146484375\n",
      "test_batch (Avg. Loss 1.448, Accuracy 48.3): 100%|██████████████████████████████████| 834/834 [00:04<00:00, 198.51it/s]\n",
      "Epoch 2 test loss: 1.4481943253990557\n",
      "--- EPOCH 4/10 ---\n",
      "train_batch (Avg. Loss 1.425, Accuracy 49.3): 100%|████████████████████████████████| 1000/1000 [00:15<00:00, 63.52it/s]\n",
      "Epoch 3 train loss: 1.42474365234375\n",
      "test_batch (Avg. Loss 1.360, Accuracy 51.6): 100%|██████████████████████████████████| 834/834 [00:04<00:00, 201.26it/s]\n",
      "Epoch 3 test loss: 1.3601195703593376\n",
      "--- EPOCH 5/10 ---\n",
      "train_batch (Avg. Loss 1.344, Accuracy 52.3): 100%|████████████████████████████████| 1000/1000 [00:15<00:00, 63.62it/s]\n",
      "Epoch 4 train loss: 1.3441357421875\n",
      "test_batch (Avg. Loss 1.302, Accuracy 54.0): 100%|██████████████████████████████████| 834/834 [00:04<00:00, 200.24it/s]\n",
      "Epoch 4 test loss: 1.3017515187069095\n",
      "--- EPOCH 6/10 ---\n",
      "train_batch (Avg. Loss 1.277, Accuracy 54.6): 100%|████████████████████████████████| 1000/1000 [00:15<00:00, 63.77it/s]\n",
      "Epoch 5 train loss: 1.2765006103515626\n",
      "test_batch (Avg. Loss 1.254, Accuracy 55.4): 100%|██████████████████████████████████| 834/834 [00:04<00:00, 200.97it/s]\n",
      "Epoch 5 test loss: 1.254410338916367\n",
      "*** Output file ./results\\test_run_L4_K32.json written\n",
      "Files already downloaded and verified\n",
      "Files already downloaded and verified\n",
      "--- EPOCH 1/10 ---\n",
      "train_batch (Avg. Loss 1.935, Accuracy 30.3): 100%|████████████████████████████████| 1000/1000 [00:22<00:00, 43.67it/s]\n",
      "Epoch 0 train loss: 1.934946533203125\n",
      "test_batch (Avg. Loss 1.720, Accuracy 39.0): 100%|██████████████████████████████████| 834/834 [00:04<00:00, 200.39it/s]\n",
      "Epoch 0 test loss: 1.7204390784247603\n",
      "--- EPOCH 2/10 ---\n",
      "train_batch (Avg. Loss 1.618, Accuracy 42.3): 100%|████████████████████████████████| 1000/1000 [00:22<00:00, 43.74it/s]\n",
      "Epoch 1 train loss: 1.6176895751953124\n",
      "test_batch (Avg. Loss 1.512, Accuracy 46.4): 100%|██████████████████████████████████| 834/834 [00:04<00:00, 199.57it/s]\n",
      "Epoch 1 test loss: 1.511820621627698\n",
      "--- EPOCH 3/10 ---\n",
      "train_batch (Avg. Loss 1.462, Accuracy 47.8): 100%|████████████████████████████████| 1000/1000 [00:22<00:00, 43.66it/s]\n",
      "Epoch 2 train loss: 1.4624508056640626\n",
      "test_batch (Avg. Loss 1.369, Accuracy 51.4): 100%|██████████████████████████████████| 834/834 [00:04<00:00, 199.24it/s]\n",
      "Epoch 2 test loss: 1.3687310893472722\n",
      "--- EPOCH 4/10 ---\n",
      "train_batch (Avg. Loss 1.346, Accuracy 52.1): 100%|████████████████████████████████| 1000/1000 [00:22<00:00, 43.70it/s]\n",
      "Epoch 3 train loss: 1.3456346435546875\n",
      "test_batch (Avg. Loss 1.276, Accuracy 54.3): 100%|██████████████████████████████████| 834/834 [00:04<00:00, 199.57it/s]\n",
      "Epoch 3 test loss: 1.2763543071792567\n",
      "--- EPOCH 5/10 ---\n",
      "train_batch (Avg. Loss 1.249, Accuracy 55.5): 100%|████████████████████████████████| 1000/1000 [00:22<00:00, 43.56it/s]\n",
      "Epoch 4 train loss: 1.2492060546875\n",
      "test_batch (Avg. Loss 1.206, Accuracy 57.2): 100%|██████████████████████████████████| 834/834 [00:04<00:00, 198.91it/s]\n",
      "Epoch 4 test loss: 1.205828623234225\n",
      "--- EPOCH 6/10 ---\n"
     ]
    },
    {
     "name": "stdout",
     "output_type": "stream",
     "text": [
      "train_batch (Avg. Loss 1.161, Accuracy 58.8): 100%|████████████████████████████████| 1000/1000 [00:22<00:00, 43.65it/s]\n",
      "Epoch 5 train loss: 1.161050048828125\n",
      "test_batch (Avg. Loss 1.142, Accuracy 59.5): 100%|██████████████████████████████████| 834/834 [00:04<00:00, 198.15it/s]\n",
      "Epoch 5 test loss: 1.141524207391899\n",
      "*** Output file ./results\\test_run_L4_K64.json written\n",
      "Files already downloaded and verified\n",
      "Files already downloaded and verified\n",
      "--- EPOCH 1/10 ---\n",
      "train_batch (Avg. Loss 2.156, Accuracy 21.9): 100%|████████████████████████████████| 1000/1000 [00:19<00:00, 51.11it/s]\n",
      "Epoch 0 train loss: 2.156224365234375\n",
      "test_batch (Avg. Loss 1.954, Accuracy 29.7): 100%|██████████████████████████████████| 834/834 [00:05<00:00, 161.34it/s]\n",
      "Epoch 0 test loss: 1.9544500629964778\n",
      "--- EPOCH 2/10 ---\n",
      "train_batch (Avg. Loss 1.828, Accuracy 34.7): 100%|████████████████████████████████| 1000/1000 [00:19<00:00, 51.42it/s]\n",
      "Epoch 1 train loss: 1.8275340576171875\n",
      "test_batch (Avg. Loss 1.720, Accuracy 39.1): 100%|██████████████████████████████████| 834/834 [00:05<00:00, 160.66it/s]\n",
      "Epoch 1 test loss: 1.719779254721223\n",
      "--- EPOCH 3/10 ---\n",
      "train_batch (Avg. Loss 1.627, Accuracy 41.4): 100%|████████████████████████████████| 1000/1000 [00:19<00:00, 51.52it/s]\n",
      "Epoch 2 train loss: 1.6265513916015626\n",
      "test_batch (Avg. Loss 1.528, Accuracy 45.3): 100%|██████████████████████████████████| 834/834 [00:05<00:00, 163.14it/s]\n",
      "Epoch 2 test loss: 1.5282904535746402\n",
      "--- EPOCH 4/10 ---\n",
      "train_batch (Avg. Loss 1.501, Accuracy 46.3): 100%|████████████████████████████████| 1000/1000 [00:19<00:00, 51.49it/s]\n",
      "Epoch 3 train loss: 1.500705078125\n",
      "test_batch (Avg. Loss 1.444, Accuracy 48.2): 100%|██████████████████████████████████| 834/834 [00:05<00:00, 162.76it/s]\n",
      "Epoch 3 test loss: 1.4440537413818946\n",
      "--- EPOCH 5/10 ---\n",
      "train_batch (Avg. Loss 1.421, Accuracy 49.2): 100%|████████████████████████████████| 1000/1000 [00:19<00:00, 51.42it/s]\n",
      "Epoch 4 train loss: 1.42121337890625\n",
      "test_batch (Avg. Loss 1.364, Accuracy 51.0): 100%|██████████████████████████████████| 834/834 [00:05<00:00, 163.46it/s]\n",
      "Epoch 4 test loss: 1.3639463429256595\n",
      "--- EPOCH 6/10 ---\n",
      "train_batch (Avg. Loss 1.347, Accuracy 52.0): 100%|████████████████████████████████| 1000/1000 [00:19<00:00, 51.28it/s]\n",
      "Epoch 5 train loss: 1.3472071533203125\n",
      "test_batch (Avg. Loss 1.291, Accuracy 53.8): 100%|██████████████████████████████████| 834/834 [00:05<00:00, 163.62it/s]\n",
      "Epoch 5 test loss: 1.290650292266187\n",
      "*** Output file ./results\\test_run_L8_K32.json written\n",
      "Files already downloaded and verified\n",
      "Files already downloaded and verified\n",
      "--- EPOCH 1/10 ---\n",
      "train_batch (Avg. Loss 2.077, Accuracy 24.9): 100%|████████████████████████████████| 1000/1000 [00:27<00:00, 36.77it/s]\n",
      "Epoch 0 train loss: 2.077022705078125\n",
      "test_batch (Avg. Loss 1.887, Accuracy 32.8): 100%|██████████████████████████████████| 834/834 [00:05<00:00, 160.84it/s]\n",
      "Epoch 0 test loss: 1.8868908779226619\n",
      "--- EPOCH 2/10 ---\n",
      "train_batch (Avg. Loss 1.743, Accuracy 37.7): 100%|████████████████████████████████| 1000/1000 [00:27<00:00, 36.71it/s]\n",
      "Epoch 1 train loss: 1.7426343994140625\n",
      "test_batch (Avg. Loss 1.632, Accuracy 42.1): 100%|██████████████████████████████████| 834/834 [00:05<00:00, 160.35it/s]\n",
      "Epoch 1 test loss: 1.6315531559127698\n",
      "--- EPOCH 3/10 ---\n",
      "train_batch (Avg. Loss 1.537, Accuracy 45.0): 100%|████████████████████████████████| 1000/1000 [00:27<00:00, 36.70it/s]\n",
      "Epoch 2 train loss: 1.537441162109375\n",
      "test_batch (Avg. Loss 1.449, Accuracy 47.6): 100%|██████████████████████████████████| 834/834 [00:05<00:00, 162.13it/s]\n",
      "Epoch 2 test loss: 1.4494107838729018\n",
      "--- EPOCH 4/10 ---\n",
      "train_batch (Avg. Loss 1.403, Accuracy 49.8): 100%|████████████████████████████████| 1000/1000 [00:27<00:00, 36.65it/s]\n",
      "Epoch 3 train loss: 1.4025595703125\n",
      "test_batch (Avg. Loss 1.332, Accuracy 51.8): 100%|██████████████████████████████████| 834/834 [00:05<00:00, 160.84it/s]\n",
      "Epoch 3 test loss: 1.331978557778777\n",
      "--- EPOCH 5/10 ---\n",
      "train_batch (Avg. Loss 1.293, Accuracy 54.0): 100%|████████████████████████████████| 1000/1000 [00:27<00:00, 36.65it/s]\n",
      "Epoch 4 train loss: 1.293021728515625\n",
      "test_batch (Avg. Loss 1.231, Accuracy 56.1): 100%|██████████████████████████████████| 834/834 [00:05<00:00, 161.12it/s]\n",
      "Epoch 4 test loss: 1.2307850496946193\n",
      "--- EPOCH 6/10 ---\n",
      "train_batch (Avg. Loss 1.187, Accuracy 57.9): 100%|████████████████████████████████| 1000/1000 [00:27<00:00, 36.68it/s]\n",
      "Epoch 5 train loss: 1.1869334716796875\n",
      "test_batch (Avg. Loss 1.126, Accuracy 60.1): 100%|██████████████████████████████████| 834/834 [00:05<00:00, 161.00it/s]\n",
      "Epoch 5 test loss: 1.1260754335984338\n",
      "*** Output file ./results\\test_run_L8_K64.json written\n",
      "Files already downloaded and verified\n",
      "Files already downloaded and verified\n",
      "--- EPOCH 1/10 ---\n",
      "train_batch (Avg. Loss 2.301, Accuracy 9.6): 100%|█████████████████████████████████| 1000/1000 [00:28<00:00, 34.67it/s]\n",
      "Epoch 0 train loss: 2.301355224609375\n",
      "test_batch (Avg. Loss 2.296, Accuracy 10.0): 100%|██████████████████████████████████| 834/834 [00:07<00:00, 111.47it/s]\n",
      "Epoch 0 test loss: 2.29618619557479\n",
      "--- EPOCH 2/10 ---\n",
      "train_batch (Avg. Loss 2.284, Accuracy 13.7): 100%|████████████████████████████████| 1000/1000 [00:28<00:00, 34.54it/s]\n",
      "Epoch 1 train loss: 2.284307861328125\n",
      "test_batch (Avg. Loss 2.260, Accuracy 16.6): 100%|██████████████████████████████████| 834/834 [00:07<00:00, 111.29it/s]\n",
      "Epoch 1 test loss: 2.260284789746328\n",
      "--- EPOCH 3/10 ---\n",
      "train_batch (Avg. Loss 2.157, Accuracy 19.6): 100%|████████████████████████████████| 1000/1000 [00:28<00:00, 34.64it/s]\n",
      "Epoch 2 train loss: 2.1567138671875\n",
      "test_batch (Avg. Loss 2.043, Accuracy 22.9): 100%|██████████████████████████████████| 834/834 [00:07<00:00, 112.30it/s]\n",
      "Epoch 2 test loss: 2.043073109871478\n",
      "--- EPOCH 4/10 ---\n",
      "train_batch (Avg. Loss 1.994, Accuracy 25.5): 100%|████████████████████████████████| 1000/1000 [00:28<00:00, 34.75it/s]\n",
      "Epoch 3 train loss: 1.9940535888671875\n",
      "test_batch (Avg. Loss 1.906, Accuracy 29.6): 100%|██████████████████████████████████| 834/834 [00:07<00:00, 112.15it/s]\n",
      "Epoch 3 test loss: 1.9063163043783724\n",
      "--- EPOCH 5/10 ---\n",
      "train_batch (Avg. Loss 1.806, Accuracy 33.0): 100%|████████████████████████████████| 1000/1000 [00:28<00:00, 34.58it/s]\n",
      "Epoch 4 train loss: 1.8057198486328125\n",
      "test_batch (Avg. Loss 1.744, Accuracy 35.2): 100%|██████████████████████████████████| 834/834 [00:07<00:00, 111.91it/s]\n",
      "Epoch 4 test loss: 1.743873211977293\n",
      "--- EPOCH 6/10 ---\n",
      "train_batch (Avg. Loss 1.641, Accuracy 39.4): 100%|████████████████████████████████| 1000/1000 [00:28<00:00, 34.72it/s]\n",
      "Epoch 5 train loss: 1.64122607421875\n",
      "test_batch (Avg. Loss 1.599, Accuracy 40.5): 100%|██████████████████████████████████| 834/834 [00:07<00:00, 112.69it/s]\n",
      "Epoch 5 test loss: 1.5993646489058753\n",
      "*** Output file ./results\\test_run_L16_K32.json written\n",
      "Files already downloaded and verified\n",
      "Files already downloaded and verified\n",
      "--- EPOCH 1/10 ---\n",
      "train_batch (Avg. Loss 2.295, Accuracy 12.2): 100%|████████████████████████████████| 1000/1000 [00:35<00:00, 27.96it/s]\n",
      "Epoch 0 train loss: 2.294579833984375\n",
      "test_batch (Avg. Loss 2.283, Accuracy 15.4): 100%|██████████████████████████████████| 834/834 [00:07<00:00, 111.47it/s]\n",
      "Epoch 0 test loss: 2.2830162139819397\n",
      "--- EPOCH 2/10 ---\n",
      "train_batch (Avg. Loss 2.218, Accuracy 18.3): 100%|████████████████████████████████| 1000/1000 [00:35<00:00, 27.96it/s]\n",
      "Epoch 1 train loss: 2.218115478515625\n",
      "test_batch (Avg. Loss 2.051, Accuracy 24.0): 100%|██████████████████████████████████| 834/834 [00:07<00:00, 111.58it/s]\n",
      "Epoch 1 test loss: 2.05073016781887\n",
      "--- EPOCH 3/10 ---\n",
      "train_batch (Avg. Loss 1.953, Accuracy 28.8): 100%|████████████████████████████████| 1000/1000 [00:35<00:00, 27.92it/s]\n",
      "Epoch 2 train loss: 1.953003173828125\n",
      "test_batch (Avg. Loss 1.850, Accuracy 34.1): 100%|██████████████████████████████████| 834/834 [00:07<00:00, 111.82it/s]\n",
      "Epoch 2 test loss: 1.8500814094817897\n",
      "--- EPOCH 4/10 ---\n",
      "train_batch (Avg. Loss 1.758, Accuracy 36.8): 100%|████████████████████████████████| 1000/1000 [00:35<00:00, 27.90it/s]\n",
      "Epoch 3 train loss: 1.757793701171875\n",
      "test_batch (Avg. Loss 1.654, Accuracy 40.8): 100%|██████████████████████████████████| 834/834 [00:07<00:00, 110.54it/s]\n"
     ]
    },
    {
     "name": "stdout",
     "output_type": "stream",
     "text": [
      "Epoch 3 test loss: 1.6536500779844874\n",
      "--- EPOCH 5/10 ---\n",
      "train_batch (Avg. Loss 1.603, Accuracy 42.4): 100%|████████████████████████████████| 1000/1000 [00:35<00:00, 27.84it/s]\n",
      "Epoch 4 train loss: 1.602589599609375\n",
      "test_batch (Avg. Loss 1.528, Accuracy 45.0): 100%|██████████████████████████████████| 834/834 [00:07<00:00, 111.28it/s]\n",
      "Epoch 4 test loss: 1.5279369765906026\n",
      "--- EPOCH 6/10 ---\n",
      "train_batch (Avg. Loss 1.492, Accuracy 46.2): 100%|████████████████████████████████| 1000/1000 [00:35<00:00, 27.85it/s]\n",
      "Epoch 5 train loss: 1.492216552734375\n",
      "test_batch (Avg. Loss 1.437, Accuracy 48.5): 100%|██████████████████████████████████| 834/834 [00:07<00:00, 112.21it/s]\n",
      "Epoch 5 test loss: 1.4365890100419665\n",
      "*** Output file ./results\\test_run_L16_K64.json written\n"
     ]
    }
   ],
   "source": [
    "# TODO delete\n",
    "\n",
    "import hw2.experiments as experiments\n",
    "from hw2.experiments import load_experiment\n",
    "from cs236781.plot import plot_fit\n",
    "\n",
    "layers = [2, 4, 8, 16]\n",
    "\n",
    "for layers_per_block in layers:\n",
    "    experiments.run_experiment(\n",
    "        'test_run', seed=seed, bs_train=50, batches=10, epochs=10, early_stopping=5,\n",
    "        filters_per_layer=[32], layers_per_block=layers_per_block, pool_every=3, hidden_dims=[100],\n",
    "        model_type='resnet',\n",
    "    )\n",
    "\n",
    "    experiments.run_experiment(\n",
    "        'test_run', seed=seed, bs_train=50, batches=10, epochs=10, early_stopping=5,\n",
    "        filters_per_layer=[64], layers_per_block=layers_per_block, pool_every=3, hidden_dims=[100],\n",
    "        model_type='resnet',\n",
    "    )"
   ]
  },
  {
   "cell_type": "markdown",
   "metadata": {},
   "source": [
    "#### Experiment 1.1: Varying the network depth (`L`)"
   ]
  },
  {
   "cell_type": "markdown",
   "metadata": {},
   "source": [
    "First, we'll test the effect of the network depth on training.\n",
    "\n",
    "**Configuratons**:\n",
    "- `K=32` fixed, with `L=2,4,8,16` varying per run\n",
    "- `K=64` fixed, with `L=2,4,8,16` varying per run\n",
    "\n",
    "So 8 different runs in total.\n",
    "\n",
    "**Naming runs**:\n",
    "Each run should be named `exp1_1_L{}_K{}` where the braces are placeholders for the values. For example, the first run should be named `exp1_1_L2_K32`. "
   ]
  },
  {
   "cell_type": "markdown",
   "metadata": {},
   "source": [
    "**TODO**: Run the experiment on the above configuration with the `ConvClassifier` model. Make sure the result file names are as expected. Use the following blocks to display the results."
   ]
  },
  {
   "cell_type": "code",
   "execution_count": 32,
   "metadata": {},
   "outputs": [
    {
     "name": "stderr",
     "output_type": "stream",
     "text": [
      "No results found for pattern exp1_1_L*_K32*.json.\n"
     ]
    }
   ],
   "source": [
    "plot_exp_results('exp1_1_L*_K32*.json')"
   ]
  },
  {
   "cell_type": "code",
   "execution_count": 33,
   "metadata": {},
   "outputs": [
    {
     "name": "stderr",
     "output_type": "stream",
     "text": [
      "No results found for pattern exp1_1_L*_K64*.json.\n"
     ]
    }
   ],
   "source": [
    "plot_exp_results('exp1_1_L*_K64*.json')"
   ]
  },
  {
   "cell_type": "markdown",
   "metadata": {},
   "source": [
    "#### Experiment 1.2: Varying the number of filters per layer (`K`)"
   ]
  },
  {
   "cell_type": "markdown",
   "metadata": {},
   "source": [
    "Now we'll test the effect of the number of convolutional filters in each layer.\n",
    "\n",
    "**Configuratons**:\n",
    "- `L=2` fixed, with `K=[32],[64],[128],[256]` varying per run.\n",
    "- `L=4` fixed, with `K=[32],[64],[128],[256]` varying per run.\n",
    "- `L=8` fixed, with `K=[32],[64],[128],[256]` varying per run.\n",
    "\n",
    "So 12 different runs in total. To clarify, each run `K` takes the value of a list with a single element.\n",
    "\n",
    "**Naming runs**:\n",
    "Each run should be named `exp1_2_L{}_K{}` where the braces are placeholders for the values. For example, the first run should be named `exp1_2_L2_K32`. "
   ]
  },
  {
   "cell_type": "markdown",
   "metadata": {},
   "source": [
    "**TODO**: Run the experiment on the above configuration with the `ConvClassifier` model. Make sure the result file names are as expected. Use the following blocks to display the results."
   ]
  },
  {
   "cell_type": "code",
   "execution_count": 18,
   "metadata": {},
   "outputs": [
    {
     "name": "stderr",
     "output_type": "stream",
     "text": [
      "No results found for pattern exp1_2_L2*.json.\n"
     ]
    }
   ],
   "source": [
    "plot_exp_results('exp1_2_L2*.json')"
   ]
  },
  {
   "cell_type": "code",
   "execution_count": null,
   "metadata": {},
   "outputs": [],
   "source": [
    "plot_exp_results('exp1_2_L4*.json')"
   ]
  },
  {
   "cell_type": "code",
   "execution_count": null,
   "metadata": {},
   "outputs": [],
   "source": [
    "plot_exp_results('exp1_2_L8*.json')"
   ]
  },
  {
   "cell_type": "markdown",
   "metadata": {},
   "source": [
    "#### Experiment 1.3: Varying both the number of filters (`K`) and network depth (`L`)"
   ]
  },
  {
   "cell_type": "markdown",
   "metadata": {},
   "source": [
    "Now we'll test the effect of the number of convolutional filters in each layer.\n",
    "\n",
    "**Configuratons**:\n",
    "- `K=[64, 128, 256]` fixed with `L=1,2,3,4` varying per run.\n",
    "\n",
    "So 4 different runs in total. To clarify, each run `K` takes the value of an array with a three elements.\n",
    "\n",
    "**Naming runs**:\n",
    "Each run should be named `exp1_3_L{}_K{}-{}-{}` where the braces are placeholders for the values. For example, the first run should be named `exp1_3_L1_K64-128-256`. "
   ]
  },
  {
   "cell_type": "markdown",
   "metadata": {},
   "source": [
    "**TODO**: Run the experiment on the above configuration  with the `ConvClassifier` model. Make sure the result file names are as expected. Use the following blocks to display the results."
   ]
  },
  {
   "cell_type": "code",
   "execution_count": null,
   "metadata": {},
   "outputs": [],
   "source": [
    "plot_exp_results('exp1_3*.json')"
   ]
  },
  {
   "cell_type": "markdown",
   "metadata": {},
   "source": [
    "#### Experiment 1.4: Adding depth with Residual Networks"
   ]
  },
  {
   "cell_type": "markdown",
   "metadata": {},
   "source": [
    "Now we'll test the effect of skip connections on the training and performance.\n",
    "\n",
    "**Configuratons**:\n",
    "- `K=[32]` fixed with `L=8,16,32` varying per run.\n",
    "- `K=[64, 128, 256]` fixed with `L=2,4,8` varying per run.\n",
    "\n",
    "So 6 different runs in total.\n",
    "\n",
    "**Naming runs**:\n",
    "Each run should be named `exp1_4_L{}_K{}-{}-{}` where the braces are placeholders for the values."
   ]
  },
  {
   "cell_type": "markdown",
   "metadata": {},
   "source": [
    "**TODO**: Run the experiment on the above configuration with the `ResNetClassifier` model. Make sure the result file names are as expected. Use the following blocks to display the results."
   ]
  },
  {
   "cell_type": "code",
   "execution_count": null,
   "metadata": {},
   "outputs": [],
   "source": [
    "plot_exp_results('exp1_4_L*_K32.json')"
   ]
  },
  {
   "cell_type": "code",
   "execution_count": null,
   "metadata": {},
   "outputs": [],
   "source": [
    "plot_exp_results('exp1_4_L*_K64*.json')"
   ]
  },
  {
   "cell_type": "markdown",
   "metadata": {},
   "source": [
    "### Experiment 2: Custom network architecture"
   ]
  },
  {
   "cell_type": "markdown",
   "metadata": {},
   "source": [
    "In this part you will create your own custom network architecture based on the `ConvClassifier` you've implemented.\n",
    "\n",
    "Try to overcome some of the limitations your experiment 1 results, using what you learned in the course.\n",
    "\n",
    "You are free to add whatever you like to the model, for instance \n",
    "- Batch normalization\n",
    "- Dropout layers\n",
    "- Skip connections\n",
    "- Change kernel spatial sizes and strides\n",
    "- Custom blocks or ideas from known architectures (e.g. inception module)\n",
    "\n",
    "Just make sure to keep the model's `init` API identical (or maybe just add parameters)."
   ]
  },
  {
   "cell_type": "markdown",
   "metadata": {},
   "source": [
    "**TODO**: Implement your custom architecture in the `YourCodeNet` class within the `hw2/cnn.py` module."
   ]
  },
  {
   "cell_type": "code",
   "execution_count": null,
   "metadata": {},
   "outputs": [],
   "source": [
    "net = cnn.YourCodeNet((3,100,100), 10, channels=[32]*4, pool_every=2, hidden_dims=[100]*2)\n",
    "print(net)\n",
    "\n",
    "test_image = torch.randint(low=0, high=256, size=(3, 100, 100), dtype=torch.float).unsqueeze(0)\n",
    "test_out = net(test_image)\n",
    "print('out =', test_out)"
   ]
  },
  {
   "cell_type": "markdown",
   "metadata": {},
   "source": [
    "#### Experiment 2 Configuration"
   ]
  },
  {
   "cell_type": "markdown",
   "metadata": {},
   "source": [
    "Run your custom model on at least the following:\n",
    "\n",
    "**Configuratons**:\n",
    "- `K=[32, 64, 128]` fixed with `L=3,6,9,12` varying per run.\n",
    "\n",
    "So 4 different runs in total. To clarify, each run `K` takes the value of an array with a three elements.\n",
    "\n",
    "If you want, you can add some extra runs following the same pattern.\n",
    "Try to see how deep a model you can train.\n",
    "\n",
    "**Naming runs**:\n",
    "Each run should be named `exp2_L{}_K{}-{}-{}-{}` where the braces are placeholders for the values. For example, the first run should be named `exp2_L3_K32-64-128`. "
   ]
  },
  {
   "cell_type": "markdown",
   "metadata": {},
   "source": [
    "**TODO**: Run the experiment on the above configuration with the `YourCodeNet` model. Make sure the result file names are as expected. Use the following blocks to display the results."
   ]
  },
  {
   "cell_type": "code",
   "execution_count": null,
   "metadata": {},
   "outputs": [],
   "source": [
    "plot_exp_results('exp2*.json')"
   ]
  },
  {
   "cell_type": "markdown",
   "metadata": {},
   "source": [
    "## Questions\n",
    "<a id=part3_4></a>"
   ]
  },
  {
   "cell_type": "markdown",
   "metadata": {},
   "source": [
    "**TODO** Answer the following questions. Write your answers in the appropriate variables in the module `hw2/answers.py`."
   ]
  },
  {
   "cell_type": "code",
   "execution_count": null,
   "metadata": {},
   "outputs": [],
   "source": [
    "from cs236781.answers import display_answer\n",
    "import hw2.answers"
   ]
  },
  {
   "cell_type": "markdown",
   "metadata": {},
   "source": [
    "### Question 1 \n",
    "\n",
    "Analyze your results from experiment 1.1. In particular,\n",
    "1.  Explain the effect of depth on the accuracy. What depth produces the best results and why do you think that's the case?\n",
    "1. Were there values of `L` for which the network wasn't trainable? what causes this? Suggest two things which may be done to resolve it at least partially."
   ]
  },
  {
   "cell_type": "code",
   "execution_count": null,
   "metadata": {},
   "outputs": [],
   "source": [
    "display_answer(hw2.answers.part3_q1)"
   ]
  },
  {
   "cell_type": "markdown",
   "metadata": {},
   "source": [
    "### Question 2 \n",
    "\n",
    "Analyze your results from experiment 1.2. In particular, compare to the results of experiment 1.1."
   ]
  },
  {
   "cell_type": "code",
   "execution_count": null,
   "metadata": {},
   "outputs": [],
   "source": [
    "display_answer(hw2.answers.part3_q2)"
   ]
  },
  {
   "cell_type": "markdown",
   "metadata": {},
   "source": [
    "### Question 3 \n",
    "\n",
    "Analyze your results from experiment 1.3."
   ]
  },
  {
   "cell_type": "code",
   "execution_count": null,
   "metadata": {},
   "outputs": [],
   "source": [
    "display_answer(hw2.answers.part3_q3)"
   ]
  },
  {
   "cell_type": "markdown",
   "metadata": {},
   "source": [
    "### Question 4\n",
    "\n",
    "Analyze your results from experiment 1.4. Compare to experiment 1.1 and 1.3."
   ]
  },
  {
   "cell_type": "code",
   "execution_count": null,
   "metadata": {},
   "outputs": [],
   "source": [
    "display_answer(hw2.answers.part3_q4)"
   ]
  },
  {
   "cell_type": "markdown",
   "metadata": {},
   "source": [
    "### Question 5\n",
    "\n",
    "1. Explain your modifications to the architecture which you implemented in the `YourCodeNet` class.\n",
    "2. Analyze the results of experiment 2. Compare to experiment 1."
   ]
  },
  {
   "cell_type": "code",
   "execution_count": null,
   "metadata": {},
   "outputs": [],
   "source": [
    "display_answer(hw2.answers.part3_q5)"
   ]
  }
 ],
 "metadata": {
  "kernelspec": {
   "display_name": "Python 3",
   "language": "python",
   "name": "python3"
  },
  "language_info": {
   "codemirror_mode": {
    "name": "ipython",
    "version": 3
   },
   "file_extension": ".py",
   "mimetype": "text/x-python",
   "name": "python",
   "nbconvert_exporter": "python",
   "pygments_lexer": "ipython3",
   "version": "3.7.5"
  }
 },
 "nbformat": 4,
 "nbformat_minor": 4
}
