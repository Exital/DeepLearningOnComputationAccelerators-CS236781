{
 "cells": [
  {
   "cell_type": "markdown",
   "metadata": {},
   "source": [
    "$$\n",
    "\\newcommand{\\mat}[1]{\\boldsymbol {#1}}\n",
    "\\newcommand{\\mattr}[1]{\\boldsymbol {#1}^\\top}\n",
    "\\newcommand{\\matinv}[1]{\\boldsymbol {#1}^{-1}}\n",
    "\\newcommand{\\vec}[1]{\\boldsymbol {#1}}\n",
    "\\newcommand{\\vectr}[1]{\\boldsymbol {#1}^\\top}\n",
    "\\newcommand{\\rvar}[1]{\\mathrm {#1}}\n",
    "\\newcommand{\\rvec}[1]{\\boldsymbol{\\mathrm{#1}}}\n",
    "\\newcommand{\\diag}{\\mathop{\\mathrm {diag}}}\n",
    "\\newcommand{\\set}[1]{\\mathbb {#1}}\n",
    "\\newcommand{\\norm}[1]{\\left\\lVert#1\\right\\rVert}\n",
    "\\newcommand{\\pderiv}[2]{\\frac{\\partial #1}{\\partial #2}}\n",
    "\\newcommand{\\bb}[1]{\\boldsymbol{#1}}\n",
    "$$\n",
    "# Part 2: Optimization and Training\n",
    "<a id=part2></a>"
   ]
  },
  {
   "cell_type": "markdown",
   "metadata": {},
   "source": [
    "In this part we will learn how to implement optimization algorithms for deep networks. Additionally, we'll learn how to write training loops and implement a modular model trainer.\n",
    "We'll use our optimizers and training code to test a few configurations for classifying images with an MLP model."
   ]
  },
  {
   "cell_type": "code",
   "execution_count": 1,
   "metadata": {},
   "outputs": [],
   "source": [
    "import os\n",
    "import numpy as np\n",
    "import matplotlib.pyplot as plt\n",
    "import unittest\n",
    "import torch\n",
    "import torchvision\n",
    "import torchvision.transforms as tvtf\n",
    "\n",
    "%matplotlib inline\n",
    "%load_ext autoreload\n",
    "%autoreload 2"
   ]
  },
  {
   "cell_type": "code",
   "execution_count": 2,
   "metadata": {},
   "outputs": [],
   "source": [
    "seed = 42\n",
    "plt.rcParams.update({'font.size': 12})\n",
    "test = unittest.TestCase()"
   ]
  },
  {
   "cell_type": "markdown",
   "metadata": {},
   "source": [
    "## Implementing Optimization Algorithms\n",
    "<a id=part2_1></a>"
   ]
  },
  {
   "cell_type": "markdown",
   "metadata": {},
   "source": [
    "In the context of deep learning, an optimization algorithm is some method of iteratively updating model parameters so that the loss converges toward some local minimum (which we hope will be good enough).\n",
    "\n",
    "Gradient descent-based methods are by far the most popular algorithms for optimization of neural network parameters.\n",
    "However the high-dimensional loss-surfaces we encounter in deep learning applications are highly non-convex.\n",
    "They may be riddled with local minima, saddle points, large plateaus and a host of very challenging \"terrain\" for gradient-based optimization.\n",
    "This gave rise to many different methods of performing the parameter updates based on the loss gradients,\n",
    "aiming to tackle these optimization challenges."
   ]
  },
  {
   "cell_type": "markdown",
   "metadata": {},
   "source": [
    "The most basic gradient-based update rule can be written as,\n",
    "\n",
    "$$\n",
    "\\vec{\\theta} \\leftarrow \\vec{\\theta} - \\eta \\nabla_{\\vec{\\theta}} L(\\vec{\\theta}; \\mathcal{D})\n",
    "$$\n",
    "\n",
    "where $\\mathcal{D} = \\left\\{ (\\vec{x}^i, \\vec{y}^i) \\right\\}_{i=1}^{M}$ is our training dataset or part of it. Specifically, if we have in total $N$ training samples, then\n",
    "- If $M=N$ this is known as regular gradient descent. If the dataset does not fit in memory the gradient of this loss becomes infeasible to compute.\n",
    "- If $M=1$, the loss is computed w.r.t. a single different sample each time. This is known as stochastic gradient descent.\n",
    "- If $1<M<N$ this is known as stochastic mini-batch gradient descent. This is the most commonly-used option."
   ]
  },
  {
   "cell_type": "markdown",
   "metadata": {},
   "source": [
    "The intuition behind gradient descent is simple: since the gradient of a multivariate function points to the direction of steepest ascent (\"uphill\"), we move in the opposite direction. A small step size $\\eta$ known as the **learning rate** is required since the gradient can only serve as a first-order linear approximation of the function's behaviour at $\\vec{\\theta}$ (recall e.g. the Taylor expansion).\n",
    "However in truth our loss surface generally has nontrivial curvature caused by a high order nonlinear dependency on\n",
    "$\\vec{\\theta}$.\n",
    "Thus taking a large step in the direction of the gradient is actually just as likely to increase the function value.\n",
    "\n",
    "<img src=\"imgs/sgd2d.png\" width=\"600\" />\n",
    "\n",
    "The idea behind the stochastic versions is that by constantly changing the samples we compute the loss with,\n",
    "we get a dynamic error surface, i.e. it's different for each set of training samples.\n",
    "This is thought to generally improve the optimization since it may help the optimizer get out of flat regions or sharp local minima since these features may disappear in the loss surface of subsequent batches. The image below illustrates this. The different lines are different 1-dimensional losses for different training set-samples.\n",
    "\n",
    "<img src=\"imgs/sgd1d.png\" width=\"600\" />"
   ]
  },
  {
   "cell_type": "markdown",
   "metadata": {},
   "source": [
    "Deep learning frameworks generally provide implementations of various gradient-based optimization algorithms.\n",
    "Here we'll implement our own optimization module from scratch, this time keeping a similar API to the PyTorch `optim` package.\n",
    "\n",
    "We define a base `Optimizer` class. An optimizer holds a set of parameter tensors (these are the trainable parameters of some model) and maintains internal state. It may be used as follows:\n",
    "- After the forward pass has been performed the optimizer's `zero_grad()` function is invoked to clear the parameter gradients computed by previous iterations.\n",
    "- After the backward pass has been performed, and gradients have been calculated for these parameters, the optimizer's `step()` function is invoked in order to update the value of each parameter based on it's gradient.\n",
    "\n",
    "The exact method of update is implementation-specific for each optimizer and may depend on its internal state. In addition, adding the regularization penalty to the gradient is handled by the optimizer since it only depends on the parameter values (and not the data)."
   ]
  },
  {
   "cell_type": "markdown",
   "metadata": {},
   "source": [
    "Here's the API of our `Optimizer`:"
   ]
  },
  {
   "cell_type": "code",
   "execution_count": 3,
   "metadata": {},
   "outputs": [
    {
     "name": "stdout",
     "output_type": "stream",
     "text": [
      "Help on class Optimizer in module hw2.optimizers:\n",
      "\n",
      "class Optimizer(abc.ABC)\n",
      " |  Optimizer(params)\n",
      " |  \n",
      " |  Base class for optimizers.\n",
      " |  \n",
      " |  Method resolution order:\n",
      " |      Optimizer\n",
      " |      abc.ABC\n",
      " |      builtins.object\n",
      " |  \n",
      " |  Methods defined here:\n",
      " |  \n",
      " |  __init__(self, params)\n",
      " |      :param params: A sequence of model parameters to optimize. Can be a\n",
      " |      list of (param,grad) tuples as returned by the Blocks, or a list of\n",
      " |      pytorch tensors in which case the grad will be taken from them.\n",
      " |  \n",
      " |  step(self)\n",
      " |      Updates all the registered parameter values based on their gradients.\n",
      " |  \n",
      " |  zero_grad(self)\n",
      " |      Sets the gradient of the optimized parameters to zero (in place).\n",
      " |  \n",
      " |  ----------------------------------------------------------------------\n",
      " |  Data descriptors defined here:\n",
      " |  \n",
      " |  __dict__\n",
      " |      dictionary for instance variables (if defined)\n",
      " |  \n",
      " |  __weakref__\n",
      " |      list of weak references to the object (if defined)\n",
      " |  \n",
      " |  params\n",
      " |      :return: A sequence of parameter tuples, each tuple containing\n",
      " |      (param_data, param_grad). The data should be updated in-place\n",
      " |      according to the grad.\n",
      " |  \n",
      " |  ----------------------------------------------------------------------\n",
      " |  Data and other attributes defined here:\n",
      " |  \n",
      " |  __abstractmethods__ = frozenset({'step'})\n",
      "\n"
     ]
    }
   ],
   "source": [
    "import hw2.optimizers as optimizers\n",
    "help(optimizers.Optimizer)"
   ]
  },
  {
   "cell_type": "markdown",
   "metadata": {},
   "source": [
    "## Vanilla SGD with Regularization\n",
    "<a id=part2_2></a>"
   ]
  },
  {
   "cell_type": "markdown",
   "metadata": {},
   "source": [
    "Let's start by implementing the simplest gradient based optimizer. The update rule will be exacly as stated above, but we'll also add a L2-regularization term to the gradient. Remember that in the **loss function**, the L2 regularization term is expressed by\n",
    "\n",
    "$$R(\\vec{\\theta}) = \\frac{1}{2}\\lambda||\\vec{\\theta}||^2_2.$$"
   ]
  },
  {
   "cell_type": "markdown",
   "metadata": {},
   "source": [
    "**TODO**: Complete the implementation of the `VanillaSGD` class in the `hw2/optimizers.py` module."
   ]
  },
  {
   "cell_type": "code",
   "execution_count": 4,
   "metadata": {},
   "outputs": [
    {
     "name": "stdout",
     "output_type": "stream",
     "text": [
      "diff=0.0\n"
     ]
    }
   ],
   "source": [
    " # Test VanillaSGD\n",
    "torch.manual_seed(42)\n",
    "p = torch.randn(500, 10)\n",
    "dp = torch.randn(*p.shape)*2\n",
    "params = [(p, dp)]\n",
    "\n",
    "vsgd = optimizers.VanillaSGD(params, learn_rate=0.5, reg=0.1)\n",
    "vsgd.step()\n",
    "\n",
    "expected_p = torch.load('tests/assets/expected_vsgd.pt')\n",
    "diff = torch.norm(p-expected_p).item()\n",
    "print(f'diff={diff}')\n",
    "test.assertLess(diff, 1e-3)"
   ]
  },
  {
   "cell_type": "markdown",
   "metadata": {},
   "source": [
    "## Training\n",
    "<a id=part2_3></a>"
   ]
  },
  {
   "cell_type": "markdown",
   "metadata": {},
   "source": [
    "Now that we can build a model and loss function, compute their gradients and we have an optimizer, we can finally do some training!\n",
    "\n",
    "In the spirit of more modular software design, we'll implement a class that will aid us in automating the repetitive training loop code that we usually write over and over again. This will be useful for both training our `Block`-based models and also later for training PyTorch `nn.Module`s.\n",
    "\n",
    "Here's our `Trainer` API:"
   ]
  },
  {
   "cell_type": "code",
   "execution_count": 5,
   "metadata": {},
   "outputs": [
    {
     "name": "stdout",
     "output_type": "stream",
     "text": [
      "Help on class Trainer in module hw2.training:\n",
      "\n",
      "class Trainer(abc.ABC)\n",
      " |  Trainer(model, loss_fn, optimizer, device=None)\n",
      " |  \n",
      " |  A class abstracting the various tasks of training models.\n",
      " |  \n",
      " |  Provides methods at multiple levels of granularity:\n",
      " |  - Multiple epochs (fit)\n",
      " |  - Single epoch (train_epoch/test_epoch)\n",
      " |  - Single batch (train_batch/test_batch)\n",
      " |  \n",
      " |  Method resolution order:\n",
      " |      Trainer\n",
      " |      abc.ABC\n",
      " |      builtins.object\n",
      " |  \n",
      " |  Methods defined here:\n",
      " |  \n",
      " |  __init__(self, model, loss_fn, optimizer, device=None)\n",
      " |      Initialize the trainer.\n",
      " |      :param model: Instance of the model to train.\n",
      " |      :param loss_fn: The loss function to evaluate with.\n",
      " |      :param optimizer: The optimizer to train with.\n",
      " |      :param device: torch.device to run training on (CPU or GPU).\n",
      " |  \n",
      " |  fit(self, dl_train: torch.utils.data.dataloader.DataLoader, dl_test: torch.utils.data.dataloader.DataLoader, num_epochs, checkpoints: str = None, early_stopping: int = None, print_every=1, **kw) -> cs236781.train_results.FitResult\n",
      " |      Trains the model for multiple epochs with a given training set,\n",
      " |      and calculates validation loss over a given validation set.\n",
      " |      :param dl_train: Dataloader for the training set.\n",
      " |      :param dl_test: Dataloader for the test set.\n",
      " |      :param num_epochs: Number of epochs to train for.\n",
      " |      :param checkpoints: Whether to save model to file every time the\n",
      " |          test set accuracy improves. Should be a string containing a\n",
      " |          filename without extension.\n",
      " |      :param early_stopping: Whether to stop training early if there is no\n",
      " |          test loss improvement for this number of epochs.\n",
      " |      :param print_every: Print progress every this number of epochs.\n",
      " |      :return: A FitResult object containing train and test losses per epoch.\n",
      " |  \n",
      " |  test_batch(self, batch) -> cs236781.train_results.BatchResult\n",
      " |      Runs a single batch forward through the model and calculates loss.\n",
      " |      :param batch: A single batch of data  from a data loader (might\n",
      " |          be a tuple of data and labels or anything else depending on\n",
      " |          the underlying dataset.\n",
      " |      :return: A BatchResult containing the value of the loss function and\n",
      " |          the number of correctly classified samples in the batch.\n",
      " |  \n",
      " |  test_epoch(self, dl_test: torch.utils.data.dataloader.DataLoader, **kw) -> cs236781.train_results.EpochResult\n",
      " |      Evaluate model once over a test set (single epoch).\n",
      " |      :param dl_test: DataLoader for the test set.\n",
      " |      :param kw: Keyword args supported by _foreach_batch.\n",
      " |      :return: An EpochResult for the epoch.\n",
      " |  \n",
      " |  train_batch(self, batch) -> cs236781.train_results.BatchResult\n",
      " |      Runs a single batch forward through the model, calculates loss,\n",
      " |      preforms back-propagation and uses the optimizer to update weights.\n",
      " |      :param batch: A single batch of data  from a data loader (might\n",
      " |          be a tuple of data and labels or anything else depending on\n",
      " |          the underlying dataset.\n",
      " |      :return: A BatchResult containing the value of the loss function and\n",
      " |          the number of correctly classified samples in the batch.\n",
      " |  \n",
      " |  train_epoch(self, dl_train: torch.utils.data.dataloader.DataLoader, **kw) -> cs236781.train_results.EpochResult\n",
      " |      Train once over a training set (single epoch).\n",
      " |      :param dl_train: DataLoader for the training set.\n",
      " |      :param kw: Keyword args supported by _foreach_batch.\n",
      " |      :return: An EpochResult for the epoch.\n",
      " |  \n",
      " |  ----------------------------------------------------------------------\n",
      " |  Data descriptors defined here:\n",
      " |  \n",
      " |  __dict__\n",
      " |      dictionary for instance variables (if defined)\n",
      " |  \n",
      " |  __weakref__\n",
      " |      list of weak references to the object (if defined)\n",
      " |  \n",
      " |  ----------------------------------------------------------------------\n",
      " |  Data and other attributes defined here:\n",
      " |  \n",
      " |  __abstractmethods__ = frozenset({'test_batch', 'train_batch'})\n",
      "\n"
     ]
    }
   ],
   "source": [
    "import hw2.training as training\n",
    "help(training.Trainer)"
   ]
  },
  {
   "cell_type": "markdown",
   "metadata": {},
   "source": [
    "The `Trainer` class splits the task of training (and evaluating) models into three conceptual levels,\n",
    "- Multiple epochs - the `fit` method, which returns a `FitResult` containing losses and accuracies for all epochs.\n",
    "- Single epoch - the `train_epoch` and `test_epoch` methods, which return an `EpochResult` containing losses per batch and the single accuracy result of the epoch.\n",
    "- Single batch - the `train_batch` and `test_batch` methods, which return a `BatchResult` containing a single loss and the number of correctly classified samples in the batch.\n",
    "\n",
    "It implements the first two levels. Inheriting classes are expected to implement the single-batch level methods since these are model and/or task specific."
   ]
  },
  {
   "cell_type": "markdown",
   "metadata": {},
   "source": [
    "The first thing we should do in order to verify our model, gradient calculations and optimizer implementation is to try to overfit a large model (many parameters) to a small dataset (few images). This will show us that things are working properly.\n",
    "\n",
    "Let's begin by loading the CIFAR-10 dataset."
   ]
  },
  {
   "cell_type": "code",
   "execution_count": 6,
   "metadata": {},
   "outputs": [
    {
     "name": "stdout",
     "output_type": "stream",
     "text": [
      "Files already downloaded and verified\n",
      "Files already downloaded and verified\n",
      "Train: 50000 samples\n",
      "Test: 10000 samples\n"
     ]
    }
   ],
   "source": [
    "data_dir = os.path.expanduser('~/.pytorch-datasets')\n",
    "ds_train = torchvision.datasets.CIFAR10(root=data_dir, download=True, train=True, transform=tvtf.ToTensor())\n",
    "ds_test = torchvision.datasets.CIFAR10(root=data_dir, download=True, train=False, transform=tvtf.ToTensor())\n",
    "\n",
    "print(f'Train: {len(ds_train)} samples')\n",
    "print(f'Test: {len(ds_test)} samples')"
   ]
  },
  {
   "cell_type": "markdown",
   "metadata": {},
   "source": [
    "Now, let's implement just a small part of our training logic since that's what we need right now."
   ]
  },
  {
   "cell_type": "markdown",
   "metadata": {},
   "source": [
    "**TODO**:\n",
    "1. Complete the implementation of the `train_batch()` method in the `BlocksTrainer` class within the `hw2/training.py` module.\n",
    "1. Update the hyperparameter values in the `part2_overfit_hp()` function in the `hw2/answers.py` module. Tweak the hyperparameter values until your model overfits a small number of samples in the block below. You should get 100% accuracy within a few epochs.\n",
    "\n",
    "The following block will use your custom `Block`-based MLP implentation, custom Vanilla SGD and custom trainer to overfit the data. The classification accuracy should be 100% within a few epochs."
   ]
  },
  {
   "cell_type": "code",
   "execution_count": 7,
   "metadata": {},
   "outputs": [
    {
     "name": "stdout",
     "output_type": "stream",
     "text": [
      "train_batch (Avg. Loss 3.545, Accuracy 20.0): 100%|█████████████████████████████████████| 2/2 [00:00<00:00, 111.09it/s]\n",
      "train_batch (Avg. Loss 2.887, Accuracy 10.0): 100%|█████████████████████████████████████| 2/2 [00:00<00:00, 166.62it/s]\n",
      "train_batch (Avg. Loss 1.968, Accuracy 35.0): 100%|█████████████████████████████████████| 2/2 [00:00<00:00, 153.80it/s]\n",
      "train_batch (Avg. Loss 1.808, Accuracy 40.0): 100%|█████████████████████████████████████| 2/2 [00:00<00:00, 153.81it/s]\n",
      "train_batch (Avg. Loss 1.443, Accuracy 60.0): 100%|█████████████████████████████████████| 2/2 [00:00<00:00, 153.80it/s]\n",
      "train_batch (Avg. Loss 1.417, Accuracy 55.0): 100%|█████████████████████████████████████| 2/2 [00:00<00:00, 166.63it/s]\n",
      "train_batch (Avg. Loss 1.236, Accuracy 50.0): 100%|█████████████████████████████████████| 2/2 [00:00<00:00, 153.81it/s]\n",
      "train_batch (Avg. Loss 1.270, Accuracy 55.0): 100%|█████████████████████████████████████| 2/2 [00:00<00:00, 153.83it/s]\n",
      "train_batch (Avg. Loss 1.047, Accuracy 75.0): 100%|█████████████████████████████████████| 2/2 [00:00<00:00, 166.65it/s]\n",
      "train_batch (Avg. Loss 1.833, Accuracy 30.0): 100%|█████████████████████████████████████| 2/2 [00:00<00:00, 166.63it/s]\n",
      "train_batch (Avg. Loss 1.492, Accuracy 40.0): 100%|█████████████████████████████████████| 2/2 [00:00<00:00, 166.63it/s]\n",
      "train_batch (Avg. Loss 1.040, Accuracy 70.0): 100%|█████████████████████████████████████| 2/2 [00:00<00:00, 153.80it/s]\n",
      "train_batch (Avg. Loss 1.273, Accuracy 60.0): 100%|█████████████████████████████████████| 2/2 [00:00<00:00, 166.64it/s]\n",
      "train_batch (Avg. Loss 1.126, Accuracy 65.0): 100%|█████████████████████████████████████| 2/2 [00:00<00:00, 181.79it/s]\n",
      "train_batch (Avg. Loss 1.217, Accuracy 70.0): 100%|█████████████████████████████████████| 2/2 [00:00<00:00, 153.81it/s]\n",
      "train_batch (Avg. Loss 1.129, Accuracy 50.0): 100%|█████████████████████████████████████| 2/2 [00:00<00:00, 153.81it/s]\n",
      "train_batch (Avg. Loss 0.822, Accuracy 75.0): 100%|█████████████████████████████████████| 2/2 [00:00<00:00, 166.64it/s]\n",
      "train_batch (Avg. Loss 0.442, Accuracy 100.0): 100%|████████████████████████████████████| 2/2 [00:00<00:00, 166.63it/s]\n",
      "train_batch (Avg. Loss 0.388, Accuracy 90.0): 100%|█████████████████████████████████████| 2/2 [00:00<00:00, 181.80it/s]\n",
      "train_batch (Avg. Loss 0.566, Accuracy 90.0): 100%|█████████████████████████████████████| 2/2 [00:00<00:00, 153.82it/s]\n"
     ]
    }
   ],
   "source": [
    "import hw2.blocks as blocks\n",
    "import hw2.answers as answers\n",
    "from torch.utils.data import DataLoader\n",
    "\n",
    "# Overfit to a very small dataset of 20 samples\n",
    "batch_size = 10\n",
    "max_batches = 2\n",
    "dl_train = torch.utils.data.DataLoader(ds_train, batch_size, shuffle=False)\n",
    "\n",
    "# Get hyperparameters\n",
    "hp = answers.part2_overfit_hp()\n",
    "\n",
    "torch.manual_seed(seed)\n",
    "\n",
    "# Build a model and loss using our custom MLP and CE implementations\n",
    "model = blocks.MLP(3*32*32, num_classes=10, hidden_features=[128]*3, wstd=hp['wstd'])\n",
    "loss_fn = blocks.CrossEntropyLoss()\n",
    "\n",
    "# Use our custom optimizer\n",
    "optimizer = optimizers.VanillaSGD(model.params(), learn_rate=hp['lr'], reg=hp['reg'])\n",
    "\n",
    "# Run training over small dataset multiple times\n",
    "trainer = training.BlocksTrainer(model, loss_fn, optimizer)\n",
    "best_acc = 0\n",
    "for i in range(20):\n",
    "    res = trainer.train_epoch(dl_train, max_batches=max_batches)\n",
    "    best_acc = res.accuracy if res.accuracy > best_acc else best_acc\n",
    "    \n",
    "test.assertGreaterEqual(best_acc, 98)"
   ]
  },
  {
   "cell_type": "markdown",
   "metadata": {},
   "source": [
    "Now that we know training works, let's try to fit a model to a bit more data for a few epochs, to see how well we're doing. First, we need a function to plot the FitResults object."
   ]
  },
  {
   "cell_type": "code",
   "execution_count": 8,
   "metadata": {},
   "outputs": [],
   "source": [
    "from cs236781.plot import plot_fit\n",
    "plot_fit?"
   ]
  },
  {
   "cell_type": "markdown",
   "metadata": {},
   "source": [
    "**TODO**:\n",
    "1. Complete the implementation of the `test_batch()` method in the `BlocksTrainer` class within the `hw2/training.py` module.\n",
    "1. Implement the `fit()` method of the `Trainer` class within the `hw2/training.py` module.\n",
    "1. Tweak the hyperparameters for this section in the `part2_optim_hp()` function in the `hw2/answers.py` module.\n",
    "1. Run the following blocks to train. Try to get above 35-40% test-set accuracy."
   ]
  },
  {
   "cell_type": "code",
   "execution_count": 25,
   "metadata": {},
   "outputs": [],
   "source": [
    "# Define a larger part of the CIFAR-10 dataset (still not the whole thing)\n",
    "batch_size = 50\n",
    "max_batches = 100\n",
    "in_features = 3*32*32\n",
    "num_classes = 10\n",
    "dl_train = torch.utils.data.DataLoader(ds_train, batch_size, shuffle=False)\n",
    "dl_test = torch.utils.data.DataLoader(ds_test, batch_size//2, shuffle=False)"
   ]
  },
  {
   "cell_type": "code",
   "execution_count": 29,
   "metadata": {},
   "outputs": [],
   "source": [
    "# Define a function to train a model with our Trainer and various optimizers\n",
    "def train_with_optimizer(opt_name, opt_class, fig):\n",
    "    torch.manual_seed(seed)\n",
    "    \n",
    "    # Get hyperparameters\n",
    "    hp = answers.part2_optim_hp()\n",
    "    hidden_features = [128] * 5\n",
    "    num_epochs = 10\n",
    "    \n",
    "    # Create model, loss and optimizer instances\n",
    "    model = blocks.MLP(in_features, num_classes, hidden_features, wstd=hp['wstd'])\n",
    "    loss_fn = blocks.CrossEntropyLoss()\n",
    "    optimizer = opt_class(model.params(), learn_rate=hp[f'lr_{opt_name}'], reg=hp['reg'])\n",
    "\n",
    "    # Train with the Trainer\n",
    "    trainer = training.BlocksTrainer(model, loss_fn, optimizer)\n",
    "    fit_res = trainer.fit(dl_train, dl_test, num_epochs, max_batches=max_batches)\n",
    "    \n",
    "    fig, axes = plot_fit(fit_res, fig=fig, legend=opt_name)\n",
    "    return fig"
   ]
  },
  {
   "cell_type": "code",
   "execution_count": 30,
   "metadata": {},
   "outputs": [
    {
     "name": "stdout",
     "output_type": "stream",
     "text": [
      "--- EPOCH 1/10 ---\n",
      "train_batch (Avg. Loss 2.217, Accuracy 18.5): 100%|██████████████████████████████████| 100/100 [00:01<00:00, 81.04it/s]\n",
      "Epoch 0 train loss: 2.2166810607910157\n",
      "test_batch (Avg. Loss 2.106, Accuracy 23.3): 100%|██████████████████████████████████| 100/100 [00:00<00:00, 199.16it/s]\n",
      "Epoch 0 test loss: 2.105857391357422\n",
      "--- EPOCH 2/10 ---\n",
      "train_batch (Avg. Loss 2.045, Accuracy 25.1): 100%|██████████████████████████████████| 100/100 [00:01<00:00, 80.69it/s]\n",
      "Epoch 1 train loss: 2.045074920654297\n",
      "test_batch (Avg. Loss 2.011, Accuracy 27.3): 100%|██████████████████████████████████| 100/100 [00:00<00:00, 203.62it/s]\n",
      "Epoch 1 test loss: 2.010764923095703\n",
      "--- EPOCH 3/10 ---\n",
      "train_batch (Avg. Loss 1.972, Accuracy 27.7): 100%|██████████████████████████████████| 100/100 [00:01<00:00, 81.48it/s]\n",
      "Epoch 2 train loss: 1.972448272705078\n",
      "test_batch (Avg. Loss 1.967, Accuracy 29.5): 100%|██████████████████████████████████| 100/100 [00:00<00:00, 202.79it/s]\n",
      "Epoch 2 test loss: 1.966646728515625\n",
      "--- EPOCH 4/10 ---\n",
      "train_batch (Avg. Loss 1.926, Accuracy 29.3): 100%|██████████████████████████████████| 100/100 [00:01<00:00, 81.88it/s]\n",
      "Epoch 3 train loss: 1.9262171936035157\n",
      "test_batch (Avg. Loss 1.939, Accuracy 31.1): 100%|██████████████████████████████████| 100/100 [00:00<00:00, 200.76it/s]\n",
      "Epoch 3 test loss: 1.938685302734375\n",
      "--- EPOCH 5/10 ---\n",
      "train_batch (Avg. Loss 1.892, Accuracy 30.7): 100%|██████████████████████████████████| 100/100 [00:01<00:00, 81.68it/s]\n",
      "Epoch 4 train loss: 1.89188232421875\n",
      "test_batch (Avg. Loss 1.917, Accuracy 31.4): 100%|██████████████████████████████████| 100/100 [00:00<00:00, 203.21it/s]\n",
      "Epoch 4 test loss: 1.9172164916992187\n",
      "--- EPOCH 6/10 ---\n",
      "train_batch (Avg. Loss 1.864, Accuracy 31.7): 100%|██████████████████████████████████| 100/100 [00:01<00:00, 81.81it/s]\n",
      "Epoch 5 train loss: 1.8644277954101562\n",
      "test_batch (Avg. Loss 1.898, Accuracy 32.0): 100%|██████████████████████████████████| 100/100 [00:00<00:00, 193.75it/s]\n",
      "Epoch 5 test loss: 1.8979107666015624\n",
      "--- EPOCH 7/10 ---\n",
      "train_batch (Avg. Loss 1.840, Accuracy 32.9): 100%|██████████████████████████████████| 100/100 [00:01<00:00, 78.91it/s]\n",
      "Epoch 6 train loss: 1.840083770751953\n",
      "test_batch (Avg. Loss 1.883, Accuracy 32.9): 100%|██████████████████████████████████| 100/100 [00:00<00:00, 200.36it/s]\n",
      "Epoch 6 test loss: 1.8829396057128907\n",
      "--- EPOCH 8/10 ---\n",
      "train_batch (Avg. Loss 1.819, Accuracy 33.8): 100%|██████████████████████████████████| 100/100 [00:01<00:00, 81.15it/s]\n",
      "Epoch 7 train loss: 1.818854522705078\n",
      "test_batch (Avg. Loss 1.869, Accuracy 33.1): 100%|██████████████████████████████████| 100/100 [00:00<00:00, 195.27it/s]\n",
      "Epoch 7 test loss: 1.8693560791015624\n",
      "--- EPOCH 9/10 ---\n",
      "train_batch (Avg. Loss 1.800, Accuracy 34.7): 100%|██████████████████████████████████| 100/100 [00:01<00:00, 78.56it/s]\n",
      "Epoch 8 train loss: 1.7996664428710938\n",
      "test_batch (Avg. Loss 1.855, Accuracy 33.5): 100%|██████████████████████████████████| 100/100 [00:00<00:00, 193.38it/s]\n",
      "Epoch 8 test loss: 1.8550909423828126\n",
      "--- EPOCH 10/10 ---\n",
      "train_batch (Avg. Loss 1.781, Accuracy 35.4): 100%|██████████████████████████████████| 100/100 [00:01<00:00, 77.34it/s]\n",
      "Epoch 9 train loss: 1.7811614990234375\n",
      "test_batch (Avg. Loss 1.840, Accuracy 34.0): 100%|██████████████████████████████████| 100/100 [00:00<00:00, 193.75it/s]\n",
      "Epoch 9 test loss: 1.8404716491699218\n"
     ]
    },
    {
     "data": {
      "image/png": "[encoded data removed]",
      "text/plain": [
       "<Figure size 1152x720 with 4 Axes>"
      ]
     },
     "metadata": {
      "needs_background": "light"
     },
     "output_type": "display_data"
    }
   ],
   "source": [
    "fig_optim = None\n",
    "fig_optim = train_with_optimizer('vanilla', optimizers.VanillaSGD, fig_optim)"
   ]
  },
  {
   "cell_type": "markdown",
   "metadata": {},
   "source": [
    "## Momentum\n",
    "<a id=part2_4></a>"
   ]
  },
  {
   "cell_type": "markdown",
   "metadata": {},
   "source": [
    "The simple vanilla SGD update is rarely used in practice since it's very slow to converge relative to other optimization algorithms.\n",
    "\n",
    "One reason is that naïvely updating in the direction of the current gradient causes it to fluctuate wildly in areas where the loss surface in some dimensions is much steeper than in others.\n",
    "Another reason is that using the same learning rate for all parameters is not a great idea since not all parameters are created equal. For example, parameters associated with rare features should be updated with a larger step than ones associated with commonly-occurring features because they'll get less updates through the gradients.\n",
    "\n",
    "Therefore more advanced optimizers take into account the previous gradients of a parameter and/or try to use a per-parameter specific learning rate instead of a common one."
   ]
  },
  {
   "cell_type": "markdown",
   "metadata": {},
   "source": [
    "Let's now implement a simple and common optimizer: SGD with Momentum. This optimizer takes **previous gradients** of a parameter into account when updating it's value instead of just the current one. In practice it usually provides faster convergence than the vanilla SGD.\n",
    "\n",
    "The SGD with Momentum update rule can be stated as follows:\n",
    "$$\\begin{align}\n",
    "\\vec{v}_{t+1} &= \\mu \\vec{v}_t - \\eta \\delta \\vec{\\theta}_t \\\\\n",
    "\\vec{\\theta}_{t+1} &= \\vec{\\theta}_t + \\vec{v}_{t+1}\n",
    "\\end{align}$$\n",
    "\n",
    "Where $\\eta$ is the learning rate,\n",
    "$\\vec{\\theta}$ is a model parameter,\n",
    "$\\delta \\vec{\\theta}_t=\\pderiv{L}{\\vec{\\theta}}(\\vec{\\theta}_t)$ is the gradient of the loss w.r.t. to the parameter and $0\\leq\\mu<1$ is a hyperparameter known as momentum. \n",
    "\n",
    "Expanding the update rule recursively shows us now the parameter update infact depends on all previous gradient values for that parameter, where the old gradients are exponentially decayed by a factor of $\\mu$ at each timestep. \n",
    "\n",
    "Since we're incorporating previous gradient (update directions), a noisy value of the current gradient will have less effect so that the general direction of previous updates is maintained somewhat. The following figure illustrates this.\n",
    "\n",
    "<img src=\"imgs/sgd-momentum.png\" width=\"600\" />\n",
    "\n"
   ]
  },
  {
   "cell_type": "markdown",
   "metadata": {},
   "source": [
    "**TODO**:\n",
    "1. Complete the implementation of the `MomentumSGD` class in the `hw2/optimizers.py` module.\n",
    "1. Tweak the learning rate for momentum in `part2_optim_hp()` the function in the `hw2/answers.py` module.\n",
    "1. Run the following block to compare to the vanilla SGD."
   ]
  },
  {
   "cell_type": "code",
   "execution_count": 31,
   "metadata": {},
   "outputs": [
    {
     "name": "stdout",
     "output_type": "stream",
     "text": [
      "[(tensor([[ 1.9269e-01,  1.4873e-01,  9.0072e-02,  ..., -2.3891e-01,\n",
      "          7.1780e-02, -1.5831e-01],\n",
      "        [-9.6348e-02, -1.0543e-01, -6.1099e-02,  ...,  1.7574e-02,\n",
      "          2.5499e-02,  8.0700e-02],\n",
      "        [-3.0780e-02,  1.3164e-01,  7.7192e-02,  ..., -6.1753e-02,\n",
      "         -1.6529e-01,  8.7304e-02],\n",
      "        ...,\n",
      "        [-1.0230e-01,  1.3261e-02,  8.0267e-03,  ...,  4.0719e-02,\n",
      "         -1.3371e-01,  2.8650e-02],\n",
      "        [-5.8514e-02, -6.4814e-02,  9.4972e-02,  ..., -1.8454e-05,\n",
      "         -4.9480e-02, -2.3187e-01],\n",
      "        [-9.2981e-02, -1.0068e-01,  1.2629e-01,  ...,  4.4366e-02,\n",
      "         -3.3347e-02,  1.3220e-01]]), tensor([[0., 0., 0.,  ..., 0., 0., 0.],\n",
      "        [0., 0., 0.,  ..., 0., 0., 0.],\n",
      "        [0., 0., 0.,  ..., 0., 0., 0.],\n",
      "        ...,\n",
      "        [0., 0., 0.,  ..., 0., 0., 0.],\n",
      "        [0., 0., 0.,  ..., 0., 0., 0.],\n",
      "        [0., 0., 0.,  ..., 0., 0., 0.]])), (tensor([ 0.0684,  0.0762, -0.0886, -0.1171,  0.1281, -0.0681, -0.0175,  0.0614,\n",
      "        -0.0309,  0.0121,  0.0121, -0.0823,  0.0239,  0.0933,  0.0693,  0.1407,\n",
      "         0.0447, -0.1119,  0.0406, -0.1325,  0.0439,  0.0903,  0.0301, -0.0205,\n",
      "        -0.0560,  0.0551,  0.1221,  0.1972,  0.1405, -0.0458,  0.0385, -0.0229,\n",
      "        -0.1421,  0.0722, -0.2224, -0.1231,  0.0779,  0.0052, -0.0149,  0.0049,\n",
      "         0.0436, -0.0335, -0.0980, -0.0410, -0.1100,  0.0038,  0.1482,  0.0062,\n",
      "         0.0614, -0.0723, -0.0371,  0.0793, -0.1149, -0.0707, -0.0051, -0.0960,\n",
      "         0.0561, -0.0665, -0.1746, -0.0894,  0.0767, -0.0131,  0.0146,  0.0275,\n",
      "         0.0560, -0.0084, -0.0685, -0.1418,  0.0129,  0.1830,  0.1436,  0.0557,\n",
      "        -0.0845, -0.1530,  0.1561,  0.0505, -0.0830,  0.0276, -0.0219, -0.0238,\n",
      "         0.1029, -0.0014,  0.0228, -0.0739, -0.0193, -0.0580,  0.0996, -0.2406,\n",
      "        -0.2321,  0.0353,  0.1208,  0.0754,  0.0541,  0.0254,  0.1067,  0.0991,\n",
      "         0.1157, -0.1226,  0.1322, -0.0700, -0.1292,  0.1402,  0.0007, -0.1466,\n",
      "        -0.0199,  0.0423, -0.0460, -0.0278, -0.0241, -0.1168,  0.0083, -0.0389,\n",
      "        -0.1192, -0.0429,  0.0171, -0.0766, -0.1839,  0.1481, -0.0662, -0.0935,\n",
      "         0.0145, -0.0862, -0.3049,  0.0374,  0.0319, -0.0677, -0.0544, -0.0907]), tensor([0., 0., 0., 0., 0., 0., 0., 0., 0., 0., 0., 0., 0., 0., 0., 0., 0., 0., 0., 0., 0., 0., 0., 0.,\n",
      "        0., 0., 0., 0., 0., 0., 0., 0., 0., 0., 0., 0., 0., 0., 0., 0., 0., 0., 0., 0., 0., 0., 0., 0.,\n",
      "        0., 0., 0., 0., 0., 0., 0., 0., 0., 0., 0., 0., 0., 0., 0., 0., 0., 0., 0., 0., 0., 0., 0., 0.,\n",
      "        0., 0., 0., 0., 0., 0., 0., 0., 0., 0., 0., 0., 0., 0., 0., 0., 0., 0., 0., 0., 0., 0., 0., 0.,\n",
      "        0., 0., 0., 0., 0., 0., 0., 0., 0., 0., 0., 0., 0., 0., 0., 0., 0., 0., 0., 0., 0., 0., 0., 0.,\n",
      "        0., 0., 0., 0., 0., 0., 0., 0.])), (tensor([[-0.1065, -0.2204,  0.0287,  ...,  0.0644, -0.1146, -0.0354],\n",
      "        [ 0.0124,  0.1015,  0.0171,  ..., -0.1057,  0.0293, -0.1985],\n",
      "        [ 0.1343,  0.1513, -0.1441,  ..., -0.1007, -0.0154, -0.0805],\n",
      "        ...,\n",
      "        [ 0.1442, -0.0302,  0.0622,  ..., -0.1739,  0.0089, -0.2956],\n",
      "        [ 0.0103,  0.0254,  0.0388,  ...,  0.0211, -0.0084,  0.0596],\n",
      "        [ 0.0831, -0.0261,  0.0442,  ..., -0.0146,  0.0810, -0.0262]]), tensor([[0., 0., 0.,  ..., 0., 0., 0.],\n",
      "        [0., 0., 0.,  ..., 0., 0., 0.],\n",
      "        [0., 0., 0.,  ..., 0., 0., 0.],\n",
      "        ...,\n",
      "        [0., 0., 0.,  ..., 0., 0., 0.],\n",
      "        [0., 0., 0.,  ..., 0., 0., 0.],\n",
      "        [0., 0., 0.,  ..., 0., 0., 0.]])), (tensor([-0.0082,  0.0588, -0.0397, -0.0762, -0.0363,  0.1006,  0.0644,  0.1367,\n",
      "        -0.0717,  0.1432, -0.0976,  0.1311, -0.0344,  0.0340,  0.0684, -0.0335,\n",
      "         0.0954, -0.0606,  0.0475, -0.1420, -0.0512, -0.0134, -0.1007,  0.0139,\n",
      "        -0.0444,  0.1265, -0.0975,  0.2078,  0.0878, -0.0089,  0.1077,  0.1028,\n",
      "         0.0153, -0.0609,  0.1436, -0.0787,  0.0654,  0.0997, -0.0003,  0.0423,\n",
      "        -0.0808,  0.0585,  0.0680, -0.0470,  0.0585, -0.0582, -0.1283,  0.2123,\n",
      "        -0.0808, -0.0906, -0.1293, -0.1259, -0.1303,  0.1265,  0.0739, -0.1116,\n",
      "         0.0371, -0.0385, -0.1751,  0.0691, -0.1526, -0.0365,  0.1036,  0.0303,\n",
      "         0.1043, -0.1304, -0.0304,  0.0901,  0.0250, -0.0063,  0.0418, -0.0148,\n",
      "         0.1791,  0.0601,  0.0092,  0.0553,  0.0705,  0.0926,  0.0090,  0.0072,\n",
      "         0.0389,  0.0945, -0.1851,  0.0258,  0.1238,  0.0959,  0.0696, -0.0182,\n",
      "        -0.1121,  0.0128,  0.0411, -0.0802,  0.0984,  0.0487,  0.1656, -0.2435,\n",
      "        -0.0892, -0.1844,  0.1034, -0.0271, -0.0333,  0.1116, -0.0334,  0.0511,\n",
      "        -0.1242, -0.0017,  0.0228, -0.0864, -0.0506,  0.0687, -0.0128,  0.1692,\n",
      "        -0.2514, -0.1250, -0.0682,  0.0615, -0.0768, -0.0578, -0.0486,  0.0482,\n",
      "         0.2499, -0.0008,  0.0337, -0.1611, -0.0089, -0.0931, -0.1555, -0.2395]), tensor([0., 0., 0., 0., 0., 0., 0., 0., 0., 0., 0., 0., 0., 0., 0., 0., 0., 0., 0., 0., 0., 0., 0., 0.,\n",
      "        0., 0., 0., 0., 0., 0., 0., 0., 0., 0., 0., 0., 0., 0., 0., 0., 0., 0., 0., 0., 0., 0., 0., 0.,\n",
      "        0., 0., 0., 0., 0., 0., 0., 0., 0., 0., 0., 0., 0., 0., 0., 0., 0., 0., 0., 0., 0., 0., 0., 0.,\n",
      "        0., 0., 0., 0., 0., 0., 0., 0., 0., 0., 0., 0., 0., 0., 0., 0., 0., 0., 0., 0., 0., 0., 0., 0.,\n",
      "        0., 0., 0., 0., 0., 0., 0., 0., 0., 0., 0., 0., 0., 0., 0., 0., 0., 0., 0., 0., 0., 0., 0., 0.,\n",
      "        0., 0., 0., 0., 0., 0., 0., 0.])), (tensor([[-0.0960,  0.0657, -0.1005,  ..., -0.0115, -0.1000, -0.0537],\n",
      "        [ 0.0765,  0.0680,  0.2432,  ...,  0.0358,  0.1379,  0.0978],\n",
      "        [ 0.0594, -0.0968,  0.1025,  ...,  0.0843, -0.0276,  0.0496],\n",
      "        ...,\n",
      "        [-0.1082,  0.1119, -0.0162,  ...,  0.0611,  0.0191,  0.1557],\n",
      "        [-0.0879, -0.0326, -0.0483,  ..., -0.1360, -0.0596, -0.1064],\n",
      "        [-0.0503, -0.0557,  0.2096,  ...,  0.1186,  0.0519,  0.0219]]), tensor([[0., 0., 0.,  ..., 0., 0., 0.],\n",
      "        [0., 0., 0.,  ..., 0., 0., 0.],\n",
      "        [0., 0., 0.,  ..., 0., 0., 0.],\n",
      "        ...,\n",
      "        [0., 0., 0.,  ..., 0., 0., 0.],\n",
      "        [0., 0., 0.,  ..., 0., 0., 0.],\n",
      "        [0., 0., 0.,  ..., 0., 0., 0.]])), (tensor([-0.0951,  0.0375,  0.1058,  0.1096, -0.0557, -0.1248, -0.2373,  0.2417,\n",
      "         0.0964, -0.0955,  0.0871,  0.0874,  0.0965,  0.0255, -0.0941,  0.0090,\n",
      "        -0.0846, -0.0553,  0.0561,  0.0789,  0.1525,  0.0383,  0.0252, -0.0091,\n",
      "        -0.0355,  0.0165, -0.0027, -0.1163, -0.0392,  0.0455, -0.2366, -0.1075,\n",
      "         0.1774, -0.0525,  0.1665, -0.2626,  0.0892, -0.0638,  0.0980, -0.0031,\n",
      "         0.0343, -0.1186,  0.0964, -0.1974, -0.1802,  0.1896,  0.0585, -0.0071,\n",
      "         0.0056,  0.0072,  0.0284, -0.0102, -0.0626,  0.0182,  0.0360,  0.2076,\n",
      "         0.1154,  0.1356,  0.1436,  0.1505,  0.0032, -0.0207, -0.0226, -0.1799,\n",
      "         0.1275, -0.2291, -0.0360, -0.1714, -0.1091,  0.0681, -0.2001,  0.1540,\n",
      "        -0.0071,  0.1446,  0.0276, -0.0255, -0.0241, -0.0318,  0.0451, -0.1159,\n",
      "        -0.1388, -0.0731, -0.0831,  0.0313, -0.0125,  0.0316,  0.0093,  0.2220,\n",
      "         0.1467, -0.1258, -0.0904,  0.0018,  0.0851,  0.1035,  0.1007,  0.1245,\n",
      "        -0.0789,  0.0750,  0.1207, -0.0492,  0.1075, -0.0202, -0.0702, -0.0753,\n",
      "        -0.0287, -0.1156,  0.0301,  0.1106, -0.1090,  0.0658, -0.1510, -0.0655,\n",
      "        -0.1248,  0.1030, -0.0006, -0.0712, -0.0265,  0.1443,  0.0617, -0.0207,\n",
      "        -0.1411,  0.1451,  0.1813, -0.0964, -0.0616,  0.1148,  0.1709,  0.0450]), tensor([0., 0., 0., 0., 0., 0., 0., 0., 0., 0., 0., 0., 0., 0., 0., 0., 0., 0., 0., 0., 0., 0., 0., 0.,\n",
      "        0., 0., 0., 0., 0., 0., 0., 0., 0., 0., 0., 0., 0., 0., 0., 0., 0., 0., 0., 0., 0., 0., 0., 0.,\n",
      "        0., 0., 0., 0., 0., 0., 0., 0., 0., 0., 0., 0., 0., 0., 0., 0., 0., 0., 0., 0., 0., 0., 0., 0.,\n",
      "        0., 0., 0., 0., 0., 0., 0., 0., 0., 0., 0., 0., 0., 0., 0., 0., 0., 0., 0., 0., 0., 0., 0., 0.,\n",
      "        0., 0., 0., 0., 0., 0., 0., 0., 0., 0., 0., 0., 0., 0., 0., 0., 0., 0., 0., 0., 0., 0., 0., 0.,\n",
      "        0., 0., 0., 0., 0., 0., 0., 0.])), (tensor([[ 0.0090,  0.0899, -0.1919,  ...,  0.0545,  0.0198,  0.0210],\n",
      "        [-0.1358,  0.0219,  0.0699,  ..., -0.0655, -0.0489, -0.0276],\n",
      "        [-0.0688, -0.0180,  0.0849,  ...,  0.0431,  0.0843,  0.0162],\n",
      "        ...,\n",
      "        [ 0.1030, -0.1323,  0.2490,  ..., -0.0655,  0.0822,  0.0425],\n",
      "        [ 0.0275, -0.0383, -0.1496,  ..., -0.0137, -0.0263,  0.0770],\n",
      "        [ 0.0418, -0.0195, -0.0535,  ..., -0.0446,  0.0928,  0.0107]]), tensor([[0., 0., 0.,  ..., 0., 0., 0.],\n",
      "        [0., 0., 0.,  ..., 0., 0., 0.],\n",
      "        [0., 0., 0.,  ..., 0., 0., 0.],\n",
      "        ...,\n",
      "        [0., 0., 0.,  ..., 0., 0., 0.],\n",
      "        [0., 0., 0.,  ..., 0., 0., 0.],\n",
      "        [0., 0., 0.,  ..., 0., 0., 0.]])), (tensor([-0.0196,  0.1148, -0.0222,  0.1162,  0.0314,  0.1893, -0.0204, -0.0517,\n",
      "        -0.0078,  0.0446,  0.0471,  0.0370, -0.0269, -0.0110,  0.1171, -0.1052,\n",
      "        -0.0120,  0.0709, -0.0623, -0.2067,  0.0743, -0.1275,  0.0370,  0.0193,\n",
      "        -0.0846, -0.0872, -0.0685, -0.0255, -0.1276,  0.0138, -0.0168, -0.0102,\n",
      "         0.0842,  0.0767, -0.0320, -0.1156,  0.1593, -0.0589, -0.1064,  0.1416,\n",
      "        -0.0078, -0.0808,  0.0458,  0.0534, -0.0412,  0.0150,  0.0114,  0.0358,\n",
      "         0.0338, -0.0821, -0.0896, -0.1548, -0.0902,  0.1984, -0.0858,  0.0110,\n",
      "         0.1092, -0.0868, -0.0428,  0.0205, -0.0094, -0.0619,  0.0671, -0.1048,\n",
      "         0.0834,  0.0582, -0.0459, -0.0250, -0.0988,  0.1192,  0.0688,  0.0607,\n",
      "         0.1365, -0.0660,  0.0844,  0.1265,  0.1526, -0.1730,  0.0758,  0.0084,\n",
      "         0.0090, -0.0293, -0.0268,  0.1546,  0.0501, -0.0499,  0.1615,  0.0876,\n",
      "        -0.1082, -0.0055, -0.1478,  0.2171,  0.0305,  0.0298,  0.0343, -0.1075,\n",
      "        -0.0450, -0.0134, -0.0334,  0.0648,  0.0099,  0.1079, -0.0211,  0.1061,\n",
      "         0.1226, -0.0689,  0.0594, -0.0370,  0.1042, -0.0090,  0.2877, -0.0965,\n",
      "        -0.1336, -0.0464, -0.0756, -0.0234,  0.1498, -0.0961,  0.0281, -0.0144,\n",
      "         0.0155, -0.0033, -0.0479,  0.0707, -0.0755, -0.2438, -0.0852, -0.1035]), tensor([0., 0., 0., 0., 0., 0., 0., 0., 0., 0., 0., 0., 0., 0., 0., 0., 0., 0., 0., 0., 0., 0., 0., 0.,\n",
      "        0., 0., 0., 0., 0., 0., 0., 0., 0., 0., 0., 0., 0., 0., 0., 0., 0., 0., 0., 0., 0., 0., 0., 0.,\n",
      "        0., 0., 0., 0., 0., 0., 0., 0., 0., 0., 0., 0., 0., 0., 0., 0., 0., 0., 0., 0., 0., 0., 0., 0.,\n",
      "        0., 0., 0., 0., 0., 0., 0., 0., 0., 0., 0., 0., 0., 0., 0., 0., 0., 0., 0., 0., 0., 0., 0., 0.,\n",
      "        0., 0., 0., 0., 0., 0., 0., 0., 0., 0., 0., 0., 0., 0., 0., 0., 0., 0., 0., 0., 0., 0., 0., 0.,\n",
      "        0., 0., 0., 0., 0., 0., 0., 0.])), (tensor([[ 0.0892, -0.1172,  0.0342,  ..., -0.0393,  0.0271,  0.2188],\n",
      "        [ 0.1342, -0.0189,  0.0145,  ..., -0.0321,  0.0736,  0.0936],\n",
      "        [-0.1540,  0.1291,  0.0219,  ...,  0.1489, -0.1371,  0.1194],\n",
      "        ...,\n",
      "        [-0.1019, -0.1718, -0.0148,  ..., -0.1658, -0.0230,  0.0710],\n",
      "        [-0.2118,  0.0814, -0.0435,  ..., -0.1010, -0.0572,  0.0192],\n",
      "        [ 0.0475, -0.0774,  0.1962,  ...,  0.0213, -0.0469, -0.0401]]), tensor([[0., 0., 0.,  ..., 0., 0., 0.],\n",
      "        [0., 0., 0.,  ..., 0., 0., 0.],\n",
      "        [0., 0., 0.,  ..., 0., 0., 0.],\n",
      "        ...,\n",
      "        [0., 0., 0.,  ..., 0., 0., 0.],\n",
      "        [0., 0., 0.,  ..., 0., 0., 0.],\n",
      "        [0., 0., 0.,  ..., 0., 0., 0.]])), (tensor([ 0.2231,  0.0750,  0.1008,  0.0499, -0.0489,  0.0166,  0.0379,  0.0553,\n",
      "         0.0912,  0.0561,  0.0394,  0.0133, -0.0272,  0.1450, -0.0077, -0.0159,\n",
      "        -0.0468, -0.0546,  0.0810, -0.0853, -0.1206, -0.1227, -0.1165, -0.0293,\n",
      "        -0.0869, -0.0458,  0.0509, -0.0642, -0.0918,  0.1357, -0.0167, -0.2610,\n",
      "        -0.0285, -0.1526,  0.0663, -0.0992, -0.0913, -0.0794, -0.0006, -0.0293,\n",
      "         0.1206,  0.0031, -0.0485,  0.0270, -0.0525,  0.0263,  0.0686,  0.0007,\n",
      "        -0.1564,  0.0041,  0.1689, -0.1876, -0.0447, -0.0019, -0.1228,  0.0502,\n",
      "         0.0668, -0.0769,  0.0734,  0.1257, -0.1263,  0.0325,  0.0208,  0.0753,\n",
      "        -0.0899, -0.0994, -0.0501,  0.0599,  0.0936,  0.0743,  0.2188,  0.0360,\n",
      "         0.0834,  0.0271, -0.1349,  0.2013,  0.0392,  0.0564,  0.0603, -0.0366,\n",
      "         0.0589, -0.1744, -0.0556, -0.0416, -0.0154,  0.0018, -0.0060,  0.0405,\n",
      "        -0.0090,  0.1111,  0.0806,  0.0685, -0.1609, -0.0066,  0.1076, -0.0783,\n",
      "        -0.0268, -0.0493, -0.0723, -0.1226,  0.1274, -0.0077, -0.0984, -0.1278,\n",
      "         0.0087, -0.0086,  0.0356,  0.0537,  0.0536,  0.0077, -0.0297,  0.0237,\n",
      "         0.0350,  0.0734, -0.0012, -0.0535, -0.0350,  0.0688, -0.0875,  0.1061,\n",
      "         0.0746,  0.0721,  0.0242, -0.0898,  0.0774, -0.1050,  0.0524, -0.0612]), tensor([0., 0., 0., 0., 0., 0., 0., 0., 0., 0., 0., 0., 0., 0., 0., 0., 0., 0., 0., 0., 0., 0., 0., 0.,\n",
      "        0., 0., 0., 0., 0., 0., 0., 0., 0., 0., 0., 0., 0., 0., 0., 0., 0., 0., 0., 0., 0., 0., 0., 0.,\n",
      "        0., 0., 0., 0., 0., 0., 0., 0., 0., 0., 0., 0., 0., 0., 0., 0., 0., 0., 0., 0., 0., 0., 0., 0.,\n",
      "        0., 0., 0., 0., 0., 0., 0., 0., 0., 0., 0., 0., 0., 0., 0., 0., 0., 0., 0., 0., 0., 0., 0., 0.,\n",
      "        0., 0., 0., 0., 0., 0., 0., 0., 0., 0., 0., 0., 0., 0., 0., 0., 0., 0., 0., 0., 0., 0., 0., 0.,\n",
      "        0., 0., 0., 0., 0., 0., 0., 0.])), (tensor([[ 0.3057,  0.1472,  0.0451,  ..., -0.0120, -0.1030, -0.0929],\n",
      "        [ 0.2181,  0.0742, -0.0974,  ..., -0.0022, -0.1378, -0.0302],\n",
      "        [ 0.1276, -0.0273,  0.0906,  ...,  0.1115,  0.1082,  0.0682],\n",
      "        ...,\n",
      "        [-0.0471,  0.1128, -0.0875,  ...,  0.0715, -0.0161,  0.0232],\n",
      "        [-0.1611, -0.0429, -0.1616,  ..., -0.0088, -0.0321,  0.0735],\n",
      "        [ 0.0296,  0.1646,  0.1978,  ...,  0.0966,  0.0607,  0.1839]]), tensor([[0., 0., 0.,  ..., 0., 0., 0.],\n",
      "        [0., 0., 0.,  ..., 0., 0., 0.],\n",
      "        [0., 0., 0.,  ..., 0., 0., 0.],\n",
      "        ...,\n",
      "        [0., 0., 0.,  ..., 0., 0., 0.],\n",
      "        [0., 0., 0.,  ..., 0., 0., 0.],\n",
      "        [0., 0., 0.,  ..., 0., 0., 0.]])), (tensor([ 0.1627, -0.1162, -0.0085,  0.1480, -0.0447, -0.1084, -0.1227,  0.0695,\n",
      "         0.1125,  0.0408]), tensor([0., 0., 0., 0., 0., 0., 0., 0., 0., 0.]))]\n"
     ]
    },
    {
     "ename": "NotImplementedError",
     "evalue": "",
     "output_type": "error",
     "traceback": [
      "\u001b[1;31m---------------------------------------------------------------------------\u001b[0m",
      "\u001b[1;31mNotImplementedError\u001b[0m                       Traceback (most recent call last)",
      "\u001b[1;32m<ipython-input-31-f487ab6011d0>\u001b[0m in \u001b[0;36m<module>\u001b[1;34m\u001b[0m\n\u001b[1;32m----> 1\u001b[1;33m \u001b[0mfig_optim\u001b[0m \u001b[1;33m=\u001b[0m \u001b[0mtrain_with_optimizer\u001b[0m\u001b[1;33m(\u001b[0m\u001b[1;34m'momentum'\u001b[0m\u001b[1;33m,\u001b[0m \u001b[0moptimizers\u001b[0m\u001b[1;33m.\u001b[0m\u001b[0mMomentumSGD\u001b[0m\u001b[1;33m,\u001b[0m \u001b[0mfig_optim\u001b[0m\u001b[1;33m)\u001b[0m\u001b[1;33m\u001b[0m\u001b[1;33m\u001b[0m\u001b[0m\n\u001b[0m\u001b[0;32m      2\u001b[0m \u001b[0mfig_optim\u001b[0m\u001b[1;33m\u001b[0m\u001b[1;33m\u001b[0m\u001b[0m\n",
      "\u001b[1;32m<ipython-input-29-e6071a852d8e>\u001b[0m in \u001b[0;36mtrain_with_optimizer\u001b[1;34m(opt_name, opt_class, fig)\u001b[0m\n\u001b[0;32m     11\u001b[0m     \u001b[0mmodel\u001b[0m \u001b[1;33m=\u001b[0m \u001b[0mblocks\u001b[0m\u001b[1;33m.\u001b[0m\u001b[0mMLP\u001b[0m\u001b[1;33m(\u001b[0m\u001b[0min_features\u001b[0m\u001b[1;33m,\u001b[0m \u001b[0mnum_classes\u001b[0m\u001b[1;33m,\u001b[0m \u001b[0mhidden_features\u001b[0m\u001b[1;33m,\u001b[0m \u001b[0mwstd\u001b[0m\u001b[1;33m=\u001b[0m\u001b[0mhp\u001b[0m\u001b[1;33m[\u001b[0m\u001b[1;34m'wstd'\u001b[0m\u001b[1;33m]\u001b[0m\u001b[1;33m)\u001b[0m\u001b[1;33m\u001b[0m\u001b[1;33m\u001b[0m\u001b[0m\n\u001b[0;32m     12\u001b[0m     \u001b[0mloss_fn\u001b[0m \u001b[1;33m=\u001b[0m \u001b[0mblocks\u001b[0m\u001b[1;33m.\u001b[0m\u001b[0mCrossEntropyLoss\u001b[0m\u001b[1;33m(\u001b[0m\u001b[1;33m)\u001b[0m\u001b[1;33m\u001b[0m\u001b[1;33m\u001b[0m\u001b[0m\n\u001b[1;32m---> 13\u001b[1;33m     \u001b[0moptimizer\u001b[0m \u001b[1;33m=\u001b[0m \u001b[0mopt_class\u001b[0m\u001b[1;33m(\u001b[0m\u001b[0mmodel\u001b[0m\u001b[1;33m.\u001b[0m\u001b[0mparams\u001b[0m\u001b[1;33m(\u001b[0m\u001b[1;33m)\u001b[0m\u001b[1;33m,\u001b[0m \u001b[0mlearn_rate\u001b[0m\u001b[1;33m=\u001b[0m\u001b[0mhp\u001b[0m\u001b[1;33m[\u001b[0m\u001b[1;34mf'lr_{opt_name}'\u001b[0m\u001b[1;33m]\u001b[0m\u001b[1;33m,\u001b[0m \u001b[0mreg\u001b[0m\u001b[1;33m=\u001b[0m\u001b[0mhp\u001b[0m\u001b[1;33m[\u001b[0m\u001b[1;34m'reg'\u001b[0m\u001b[1;33m]\u001b[0m\u001b[1;33m)\u001b[0m\u001b[1;33m\u001b[0m\u001b[1;33m\u001b[0m\u001b[0m\n\u001b[0m\u001b[0;32m     14\u001b[0m \u001b[1;33m\u001b[0m\u001b[0m\n\u001b[0;32m     15\u001b[0m     \u001b[1;31m# Train with the Trainer\u001b[0m\u001b[1;33m\u001b[0m\u001b[1;33m\u001b[0m\u001b[1;33m\u001b[0m\u001b[0m\n",
      "\u001b[1;32mE:\\study\\deep learning\\Cs technion\\HW-Git\\DeepLearningOnComputationAccelerators-CS236781\\hw2\\hw2\\optimizers.py\u001b[0m in \u001b[0;36m__init__\u001b[1;34m(self, params, learn_rate, reg, momentum)\u001b[0m\n\u001b[0;32m     94\u001b[0m         \u001b[1;31m# TODO: Add your own initializations as needed.\u001b[0m\u001b[1;33m\u001b[0m\u001b[1;33m\u001b[0m\u001b[1;33m\u001b[0m\u001b[0m\n\u001b[0;32m     95\u001b[0m         \u001b[1;31m# ====== YOUR CODE: ======\u001b[0m\u001b[1;33m\u001b[0m\u001b[1;33m\u001b[0m\u001b[1;33m\u001b[0m\u001b[0m\n\u001b[1;32m---> 96\u001b[1;33m         \u001b[1;32mraise\u001b[0m \u001b[0mNotImplementedError\u001b[0m\u001b[1;33m(\u001b[0m\u001b[1;33m)\u001b[0m\u001b[1;33m\u001b[0m\u001b[1;33m\u001b[0m\u001b[0m\n\u001b[0m\u001b[0;32m     97\u001b[0m         \u001b[1;31m# ========================\u001b[0m\u001b[1;33m\u001b[0m\u001b[1;33m\u001b[0m\u001b[1;33m\u001b[0m\u001b[0m\n\u001b[0;32m     98\u001b[0m \u001b[1;33m\u001b[0m\u001b[0m\n",
      "\u001b[1;31mNotImplementedError\u001b[0m: "
     ]
    }
   ],
   "source": [
    "fig_optim = train_with_optimizer('momentum', optimizers.MomentumSGD, fig_optim)\n",
    "fig_optim"
   ]
  },
  {
   "cell_type": "markdown",
   "metadata": {},
   "source": [
    "## RMSProp\n",
    "<a id=part2_5></a>"
   ]
  },
  {
   "cell_type": "markdown",
   "metadata": {},
   "source": [
    "This is another optmizer that accounts for previous gradients, but this time it uses them to adapt the learning rate per parameter.\n",
    "\n",
    "RMSProp maintains a decaying moving average of previous squared gradients,\n",
    "$$\n",
    "\\vec{r}_{t+1} = \\gamma\\vec{r}_{t} + (1-\\gamma)\\delta\\vec{\\theta}_t^2\n",
    "$$\n",
    "where $0<\\gamma<1$ is a decay constant usually set close to $1$, and $\\delta\\vec{\\theta}_t^2$ denotes\n",
    "element-wise squaring.\n",
    "\n",
    "The update rule for each parameter is then,\n",
    "$$\n",
    "\\vec{\\theta}_{t+1} = \\vec{\\theta}_t - \\left( \\frac{\\eta}{\\sqrt{r_{t+1}+\\varepsilon}} \\right) \\delta\\vec{\\theta}_t\n",
    "$$\n",
    "\n",
    "where $\\varepsilon$ is a small constant to prevent numerical instability. The idea here is to decrease the learning rate for parameters with high gradient values and vice-versa. The decaying moving average prevents accumulating all the past gradients which would cause the effective learning rate to become zero."
   ]
  },
  {
   "cell_type": "markdown",
   "metadata": {},
   "source": [
    "**TODO**:\n",
    "1. Complete the implementation of the `RMSProp` class in the `hw2/optimizers.py` module.\n",
    "1. Tweak the learning rate for RMSProp in `part2_optim_hp()` the function in the `hw2/answers.py` module.\n",
    "1. Run the following block to compare to the other optimizers."
   ]
  },
  {
   "cell_type": "code",
   "execution_count": null,
   "metadata": {},
   "outputs": [],
   "source": [
    "fig_optim = train_with_optimizer('rmsprop', optimizers.RMSProp, fig_optim)\n",
    "fig_optim"
   ]
  },
  {
   "cell_type": "markdown",
   "metadata": {},
   "source": [
    "Note that you should get better train/test accuracy with Momentum and RMSProp than Vanilla."
   ]
  },
  {
   "cell_type": "markdown",
   "metadata": {},
   "source": [
    "## Dropout Regularization\n",
    "<a id=part2_6></a>"
   ]
  },
  {
   "cell_type": "markdown",
   "metadata": {},
   "source": [
    "[Dropout](http://jmlr.org/papers/volume15/srivastava14a.old/srivastava14a.pdf) is a useful technique to improve generalization of deep models.\n",
    "\n",
    "The idea is simple: during the forward pass drop, i.e. set to to zero, the activation of each neuron, with a probability of $p$. For example, if $p=0.4$ this means we **drop** the activations of 40% of the neurons (on average).\n",
    "\n",
    "There are a few important things to note about dropout:\n",
    "1. It is only performed during training. When testing our model the dropout layers should be a no-op.\n",
    "1. In the backward pass, gradients are only propagated back into neurons that weren't dropped during the forward pass.\n",
    "1. During testing, the activations must be scaled since the expected value of each neuron during the training phase is now $1-p$ times it's original expectation. Thus, we need to scale the test-time activations by $1-p$ to match. Equivalently, we can scale the train time activations by $1/(1-p)$."
   ]
  },
  {
   "cell_type": "markdown",
   "metadata": {},
   "source": [
    "**TODO**: \n",
    "1. Complete the implementation of the `Dropout` class in the `hw2/blocks.py` module.\n",
    "2. Finish the implementation of the `MLP`'s `__init__()` method in the `hw2/blocks.py` module.\n",
    "   If `dropout>0` you should add a `Dropout` block after each `ReLU`."
   ]
  },
  {
   "cell_type": "code",
   "execution_count": null,
   "metadata": {},
   "outputs": [],
   "source": [
    "from hw2.grad_compare import compare_block_to_torch\n",
    "\n",
    "# Check architecture of MLP with dropout layers\n",
    "mlp_dropout = blocks.MLP(in_features, num_classes, [50]*3, dropout=0.6)\n",
    "print(mlp_dropout)\n",
    "test.assertEqual(len(mlp_dropout.sequence), 10)\n",
    "for b1, b2 in zip(mlp_dropout.sequence, mlp_dropout.sequence[1:]):\n",
    "    if str(b1) == 'relu':\n",
    "        test.assertTrue(str(b2).startswith('Dropout'))\n",
    "test.assertTrue(str(mlp_dropout.sequence[-1]).startswith('Linear'))"
   ]
  },
  {
   "cell_type": "code",
   "execution_count": null,
   "metadata": {},
   "outputs": [],
   "source": [
    "# Test end-to-end gradient in train and test modes.\n",
    "print('Dropout, train mode')\n",
    "mlp_dropout.train(True)\n",
    "for diff in compare_block_to_torch(mlp_dropout, torch.randn(500, in_features)):\n",
    "    test.assertLess(diff, 1e-3)\n",
    "    \n",
    "print('Dropout, test mode')\n",
    "mlp_dropout.train(False)\n",
    "for diff in compare_block_to_torch(mlp_dropout, torch.randn(500, in_features)):\n",
    "    test.assertLess(diff, 1e-3)"
   ]
  },
  {
   "cell_type": "markdown",
   "metadata": {},
   "source": [
    "To see whether dropout really improves generalization, let's take a small training set\n",
    "(small enough to overfit) and a large test set and check whether we get less overfitting and\n",
    "perhaps improved test-set accuracy when using dropout."
   ]
  },
  {
   "cell_type": "code",
   "execution_count": null,
   "metadata": {},
   "outputs": [],
   "source": [
    "# Define a small set from CIFAR-10, but take a larger test set since we want to test generalization\n",
    "batch_size = 10\n",
    "max_batches = 40\n",
    "in_features = 3*32*32\n",
    "num_classes = 10\n",
    "dl_train = torch.utils.data.DataLoader(ds_train, batch_size, shuffle=False)\n",
    "dl_test = torch.utils.data.DataLoader(ds_test, batch_size*2, shuffle=False)"
   ]
  },
  {
   "cell_type": "markdown",
   "metadata": {},
   "source": [
    "**TODO**:\n",
    "Tweak the hyperparameters for this section in the `part2_dropout_hp()` function in the `hw2/answers.py` module. Try to set them so that the first model (with `dropout`=0) overfits. You can disable the other dropout options until you tune the hyperparameters. We can then see the effect of dropout for generalization."
   ]
  },
  {
   "cell_type": "code",
   "execution_count": null,
   "metadata": {},
   "outputs": [],
   "source": [
    "# Get hyperparameters\n",
    "hp = answers.part2_dropout_hp()\n",
    "hidden_features = [400] * 1\n",
    "num_epochs = 30"
   ]
  },
  {
   "cell_type": "code",
   "execution_count": null,
   "metadata": {},
   "outputs": [],
   "source": [
    "torch.manual_seed(seed)\n",
    "fig=None\n",
    "#for dropout in [0]:  # Use this for tuning the hyperparms until you overfit\n",
    "for dropout in [0, 0.4, 0.8]:\n",
    "    model = blocks.MLP(in_features, num_classes, hidden_features, wstd=hp['wstd'], dropout=dropout)\n",
    "    loss_fn = blocks.CrossEntropyLoss()\n",
    "    optimizer = optimizers.MomentumSGD(model.params(), learn_rate=hp['lr'], reg=0)\n",
    "\n",
    "    print('*** Training with dropout=', dropout)\n",
    "    trainer = training.BlocksTrainer(model, loss_fn, optimizer)\n",
    "    fit_res_dropout = trainer.fit(dl_train, dl_test, num_epochs, max_batches=max_batches, print_every=6)\n",
    "    fig, axes = plot_fit(fit_res_dropout, fig=fig, legend=f'dropout={dropout}', log_loss=True)"
   ]
  },
  {
   "cell_type": "markdown",
   "metadata": {},
   "source": [
    "## Questions\n",
    "<a id=part2_7></a>"
   ]
  },
  {
   "cell_type": "markdown",
   "metadata": {},
   "source": [
    "**TODO** Answer the following questions. Write your answers in the appropriate variables in the module `hw2/answers.py`."
   ]
  },
  {
   "cell_type": "code",
   "execution_count": null,
   "metadata": {},
   "outputs": [],
   "source": [
    "from cs236781.answers import display_answer\n",
    "import hw2.answers"
   ]
  },
  {
   "cell_type": "markdown",
   "metadata": {},
   "source": [
    "### Question 1 \n",
    "\n",
    "Regarding the graphs you got for the three dropout configurations:\n",
    "\n",
    "1. Explain the graphs of no-dropout vs dropout. Do they match what you expected to see?\n",
    "    - If yes, explain why and provide examples based on the graphs.\n",
    "    - If no, explain what you think the problem is and what should be modified to fix it.\n",
    "\n",
    "2. Compare the low-dropout setting to the high-dropout setting and explain based on your graphs."
   ]
  },
  {
   "cell_type": "code",
   "execution_count": null,
   "metadata": {},
   "outputs": [],
   "source": [
    "display_answer(hw2.answers.part2_q1)"
   ]
  },
  {
   "cell_type": "markdown",
   "metadata": {},
   "source": [
    "### Question 2 \n",
    "\n",
    "When training a model with the cross-entropy loss function, is it possible for the test loss to **increase** for a few epochs while the test accuracy also **increases**?\n",
    "\n",
    "If it's possible explain how, if it's not explain why not."
   ]
  },
  {
   "cell_type": "code",
   "execution_count": null,
   "metadata": {},
   "outputs": [],
   "source": [
    "display_answer(hw2.answers.part2_q2)"
   ]
  }
 ],
 "metadata": {
  "kernelspec": {
   "display_name": "Python 3",
   "language": "python",
   "name": "python3"
  },
  "language_info": {
   "codemirror_mode": {
    "name": "ipython",
    "version": 3
   },
   "file_extension": ".py",
   "mimetype": "text/x-python",
   "name": "python",
   "nbconvert_exporter": "python",
   "pygments_lexer": "ipython3",
   "version": "3.7.5"
  }
 },
 "nbformat": 4,
 "nbformat_minor": 4
}
